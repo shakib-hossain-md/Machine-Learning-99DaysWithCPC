{
  "nbformat": 4,
  "nbformat_minor": 0,
  "metadata": {
    "colab": {
      "provenance": [],
      "collapsed_sections": [
        "qKO5AT8TyrE6",
        "fARxCNZT0L1K",
        "Kf0rSBSD1NbI",
        "1awaw_x_2I6_",
        "03DQNyl-2grw",
        "_ajVBC5t2tDn",
        "1zuuzbfq3AGY",
        "3jtNLteZ3PvI",
        "Ekh-0i913Y02",
        "uzHEipkA3223",
        "aKH5jVDA5d4V",
        "2jyqqpvu6Kut"
      ]
    },
    "kernelspec": {
      "name": "python3",
      "display_name": "Python 3"
    },
    "language_info": {
      "name": "python"
    }
  },
  "cells": [
    {
      "cell_type": "markdown",
      "source": [
        "## Length\n",
        "\n",
        "---\n",
        "\n"
      ],
      "metadata": {
        "id": "qKO5AT8TyrE6"
      }
    },
    {
      "cell_type": "code",
      "execution_count": 1,
      "metadata": {
        "colab": {
          "base_uri": "https://localhost:8080/"
        },
        "id": "5rE9i8CTykjS",
        "outputId": "d101a71a-24ea-43a7-83ff-f657ba62fea6"
      },
      "outputs": [
        {
          "output_type": "stream",
          "name": "stdout",
          "text": [
            "0.0254\n",
            "0.30479999999999996\n",
            "0.9143999999999999\n",
            "1609.3439999999998\n",
            "2.5399999999999997e-05\n",
            "0.00035277777777777776\n",
            "0.00035277777777777776\n",
            "0.00035277777777777776\n",
            "0.3048006096012192\n",
            "1609.3472186944373\n",
            "1852.0\n",
            "1e-15\n",
            "1e-10\n",
            "1e-06\n",
            "149597870700.0\n",
            "149597870700.0\n",
            "9460730472580800.0\n",
            "3.085677581491367e+16\n"
          ]
        }
      ],
      "source": [
        "# Return the specified unit in meters.\n",
        "from scipy import constants\n",
        "\n",
        "print(constants.inch)\n",
        "print(constants.foot)\n",
        "print(constants.yard)\n",
        "print(constants.mile)\n",
        "print(constants.mil)\n",
        "print(constants.pt)\n",
        "print(constants.point)\n",
        "print(constants.point)\n",
        "print(constants.survey_foot)\n",
        "print(constants.survey_mile)\n",
        "print(constants.nautical_mile)\n",
        "print(constants.fermi)\n",
        "print(constants.angstrom)\n",
        "print(constants.micron)\n",
        "print(constants.au)\n",
        "print(constants.astronomical_unit)\n",
        "print(constants.light_year)\n",
        "print(constants.parsec)\n"
      ]
    },
    {
      "cell_type": "markdown",
      "source": [
        "## Pressure\n",
        "\n",
        "---\n",
        "\n"
      ],
      "metadata": {
        "id": "fARxCNZT0L1K"
      }
    },
    {
      "cell_type": "code",
      "source": [
        "# Return the specified unit in pascals.\n",
        "from scipy import constants\n",
        "\n",
        "print(constants.atm)\n",
        "print(constants.atmosphere)\n",
        "print(constants.bar)\n",
        "print(constants.torr)\n",
        "print(constants.mmHg)\n",
        "print(constants.psi)"
      ],
      "metadata": {
        "colab": {
          "base_uri": "https://localhost:8080/"
        },
        "id": "r5jE0cDz0Dd1",
        "outputId": "52058865-e97f-451f-c233-211675dbd7db"
      },
      "execution_count": 2,
      "outputs": [
        {
          "output_type": "stream",
          "name": "stdout",
          "text": [
            "101325.0\n",
            "101325.0\n",
            "100000.0\n",
            "133.32236842105263\n",
            "133.32236842105263\n",
            "6894.757293168361\n"
          ]
        }
      ]
    },
    {
      "cell_type": "markdown",
      "source": [
        "## Area\n",
        "\n",
        "---\n",
        "\n"
      ],
      "metadata": {
        "id": "Kf0rSBSD1NbI"
      }
    },
    {
      "cell_type": "code",
      "source": [
        "# Return the specified unit in square meters\n",
        "from scipy import constants\n",
        "\n",
        "print(constants.hectare)\n",
        "print(constants.acre)"
      ],
      "metadata": {
        "colab": {
          "base_uri": "https://localhost:8080/"
        },
        "id": "Hb6nsdkJ1CcB",
        "outputId": "5d9fc465-7848-440b-c9ad-025927cdb378"
      },
      "execution_count": 3,
      "outputs": [
        {
          "output_type": "stream",
          "name": "stdout",
          "text": [
            "10000.0\n",
            "4046.8564223999992\n"
          ]
        }
      ]
    },
    {
      "cell_type": "markdown",
      "source": [
        "## Volume\n",
        "\n",
        "---\n",
        "\n"
      ],
      "metadata": {
        "id": "1awaw_x_2I6_"
      }
    },
    {
      "cell_type": "code",
      "source": [
        "# Return the specified unit in cubic meters.\n",
        "from scipy import constants\n",
        "\n",
        "print(constants.liter)\n",
        "print(constants.litre)\n",
        "print(constants.gallon)\n",
        "print(constants.gallon_US)\n",
        "print(constants.gallon_imp)\n",
        "print(constants.fluid_ounce)\n",
        "print(constants.fluid_ounce_US)\n",
        "print(constants.fluid_ounce_imp)\n",
        "print(constants.barrel)\n",
        "print(constants.bbl)"
      ],
      "metadata": {
        "colab": {
          "base_uri": "https://localhost:8080/"
        },
        "id": "1sONcR1K2DAm",
        "outputId": "566c4991-b1ec-4728-f861-a6af93efa7aa"
      },
      "execution_count": 4,
      "outputs": [
        {
          "output_type": "stream",
          "name": "stdout",
          "text": [
            "0.001\n",
            "0.001\n",
            "0.0037854117839999997\n",
            "0.0037854117839999997\n",
            "0.00454609\n",
            "2.9573529562499998e-05\n",
            "2.9573529562499998e-05\n",
            "2.84130625e-05\n",
            "0.15898729492799998\n",
            "0.15898729492799998\n"
          ]
        }
      ]
    },
    {
      "cell_type": "markdown",
      "source": [
        "## Speed\n",
        "\n",
        "---\n",
        "\n"
      ],
      "metadata": {
        "id": "03DQNyl-2grw"
      }
    },
    {
      "cell_type": "code",
      "source": [
        "# Return the specified unit in meters per second.\n",
        "from scipy import constants\n",
        "\n",
        "print(constants.kmh)\n",
        "print(constants.mph)\n",
        "print(constants.mach)\n",
        "print(constants.speed_of_sound)\n",
        "print(constants.knot)"
      ],
      "metadata": {
        "colab": {
          "base_uri": "https://localhost:8080/"
        },
        "id": "pnxUW3uN2aso",
        "outputId": "060e6340-c1d4-4174-db5b-61ab743ef954"
      },
      "execution_count": 5,
      "outputs": [
        {
          "output_type": "stream",
          "name": "stdout",
          "text": [
            "0.2777777777777778\n",
            "0.44703999999999994\n",
            "340.5\n",
            "340.5\n",
            "0.5144444444444445\n"
          ]
        }
      ]
    },
    {
      "cell_type": "markdown",
      "source": [
        "## Temperature\n",
        "\n",
        "---\n",
        "\n"
      ],
      "metadata": {
        "id": "_ajVBC5t2tDn"
      }
    },
    {
      "cell_type": "code",
      "source": [
        "# Return the specified unit in Kelvin.\n",
        "from scipy import constants\n",
        "\n",
        "print(constants.zero_Celsius)\n",
        "print(constants.degree_Fahrenheit)"
      ],
      "metadata": {
        "colab": {
          "base_uri": "https://localhost:8080/"
        },
        "id": "bmsbCpVR2riD",
        "outputId": "371d9bc5-6c6b-4b53-c224-21c2d0370d30"
      },
      "execution_count": 6,
      "outputs": [
        {
          "output_type": "stream",
          "name": "stdout",
          "text": [
            "273.15\n",
            "0.5555555555555556\n"
          ]
        }
      ]
    },
    {
      "cell_type": "markdown",
      "source": [
        "## Energy\n",
        "\n",
        "---\n",
        "\n"
      ],
      "metadata": {
        "id": "1zuuzbfq3AGY"
      }
    },
    {
      "cell_type": "code",
      "source": [
        "# Return the specified unit in joules.\n",
        "from scipy import constants\n",
        "\n",
        "print(constants.eV)\n",
        "print(constants.electron_volt)\n",
        "print(constants.calorie)\n",
        "print(constants.calorie_th)\n",
        "print(constants.calorie_IT)\n",
        "print(constants.erg)\n",
        "print(constants.Btu)\n",
        "print(constants.Btu_IT)\n",
        "print(constants.Btu_th)\n",
        "print(constants.ton_TNT)"
      ],
      "metadata": {
        "colab": {
          "base_uri": "https://localhost:8080/"
        },
        "id": "KaTleI052-f1",
        "outputId": "d42eb4c4-1155-45fa-b2e3-74fc622a76c5"
      },
      "execution_count": 7,
      "outputs": [
        {
          "output_type": "stream",
          "name": "stdout",
          "text": [
            "1.602176634e-19\n",
            "1.602176634e-19\n",
            "4.184\n",
            "4.184\n",
            "4.1868\n",
            "1e-07\n",
            "1055.05585262\n",
            "1055.05585262\n",
            "1054.3502644888888\n",
            "4184000000.0\n"
          ]
        }
      ]
    },
    {
      "cell_type": "markdown",
      "source": [
        "## Power\n",
        "\n",
        "---\n",
        "\n"
      ],
      "metadata": {
        "id": "3jtNLteZ3PvI"
      }
    },
    {
      "cell_type": "code",
      "source": [
        "# Return the specified unit in watts.\n",
        "from scipy import constants\n",
        "\n",
        "print(constants.hp)\n",
        "print(constants.horsepower)"
      ],
      "metadata": {
        "colab": {
          "base_uri": "https://localhost:8080/"
        },
        "id": "sQkHrqSs3OL5",
        "outputId": "c455aaec-96ac-4478-faf0-9db0cdbf07b6"
      },
      "execution_count": 8,
      "outputs": [
        {
          "output_type": "stream",
          "name": "stdout",
          "text": [
            "745.6998715822701\n",
            "745.6998715822701\n"
          ]
        }
      ]
    },
    {
      "cell_type": "markdown",
      "source": [
        "## Force\n",
        "\n",
        "---\n",
        "\n"
      ],
      "metadata": {
        "id": "Ekh-0i913Y02"
      }
    },
    {
      "cell_type": "code",
      "source": [
        "# Return the specified unit in newton.\n",
        "from scipy import constants\n",
        "\n",
        "print(constants.dyn)\n",
        "print(constants.dyne)\n",
        "print(constants.lbf)\n",
        "print(constants.pound_force)\n",
        "print(constants.kgf)\n",
        "print(constants.kilogram_force)"
      ],
      "metadata": {
        "id": "GYKB1BCJ3Xnq"
      },
      "execution_count": null,
      "outputs": []
    },
    {
      "cell_type": "markdown",
      "source": [
        "## Roots of an Equation\n",
        "\n",
        "---\n",
        "\n"
      ],
      "metadata": {
        "id": "uzHEipkA3223"
      }
    },
    {
      "cell_type": "code",
      "source": [
        "# Find root of the equation x + cos(x):\n",
        "from scipy.optimize import root\n",
        "from math import cos\n",
        "\n",
        "def eqn(x):\n",
        "  return x + cos(x)\n",
        "\n",
        "myroot = root(eqn,0)\n",
        "print(myroot.x)"
      ],
      "metadata": {
        "colab": {
          "base_uri": "https://localhost:8080/"
        },
        "id": "2Skt-qDb30w3",
        "outputId": "765dd301-cb71-4459-acd0-a6f63dfc0330"
      },
      "execution_count": 9,
      "outputs": [
        {
          "output_type": "stream",
          "name": "stdout",
          "text": [
            "[-0.73908513]\n"
          ]
        },
        {
          "output_type": "stream",
          "name": "stderr",
          "text": [
            "<ipython-input-9-a216a0fdc9b7>:6: DeprecationWarning: Conversion of an array with ndim > 0 to a scalar is deprecated, and will error in future. Ensure you extract a single element from your array before performing this operation. (Deprecated NumPy 1.25.)\n",
            "  return x + cos(x)\n"
          ]
        }
      ]
    },
    {
      "cell_type": "code",
      "source": [
        "# Print all information about the solution(not just x which is the root)\n",
        "from scipy.optimize import root\n",
        "from math import cos\n",
        "\n",
        "def eqn(x):\n",
        "  return x + cos(x)\n",
        "\n",
        "myroot = root(eqn,0)\n",
        "print(myroot)"
      ],
      "metadata": {
        "colab": {
          "base_uri": "https://localhost:8080/"
        },
        "id": "vBM-w-u24Zc7",
        "outputId": "4cbaf07b-f759-4085-dcb2-a72184fd9fb1"
      },
      "execution_count": 10,
      "outputs": [
        {
          "output_type": "stream",
          "name": "stdout",
          "text": [
            " message: The solution converged.\n",
            " success: True\n",
            "  status: 1\n",
            "     fun: [ 0.000e+00]\n",
            "       x: [-7.391e-01]\n",
            "  method: hybr\n",
            "    nfev: 9\n",
            "    fjac: [[-1.000e+00]]\n",
            "       r: [-1.674e+00]\n",
            "     qtf: [-2.668e-13]\n"
          ]
        },
        {
          "output_type": "stream",
          "name": "stderr",
          "text": [
            "<ipython-input-10-8876c71480c6>:6: DeprecationWarning: Conversion of an array with ndim > 0 to a scalar is deprecated, and will error in future. Ensure you extract a single element from your array before performing this operation. (Deprecated NumPy 1.25.)\n",
            "  return x + cos(x)\n"
          ]
        }
      ]
    },
    {
      "cell_type": "markdown",
      "source": [
        "## Minimizing a Function\n",
        "\n",
        "---\n",
        "\n"
      ],
      "metadata": {
        "id": "aKH5jVDA5d4V"
      }
    },
    {
      "cell_type": "code",
      "source": [
        "# Minimize the function x^2 + x + 2 with BFGS:\n",
        "from scipy.optimize import minimize\n",
        "\n",
        "def eqn(x):\n",
        "  return x**2 + x + 2\n",
        "\n",
        "mymin = minimize(eqn,0,method='BFGS')\n",
        "print(mymin)"
      ],
      "metadata": {
        "colab": {
          "base_uri": "https://localhost:8080/"
        },
        "id": "-KE26Pd45WmZ",
        "outputId": "0a50dab3-2922-4b8f-d81a-24dd134efefc"
      },
      "execution_count": 12,
      "outputs": [
        {
          "output_type": "stream",
          "name": "stdout",
          "text": [
            "  message: Optimization terminated successfully.\n",
            "  success: True\n",
            "   status: 0\n",
            "      fun: 1.75\n",
            "        x: [-5.000e-01]\n",
            "      nit: 2\n",
            "      jac: [ 0.000e+00]\n",
            " hess_inv: [[ 5.000e-01]]\n",
            "     nfev: 8\n",
            "     njev: 4\n"
          ]
        }
      ]
    },
    {
      "cell_type": "markdown",
      "source": [
        "## CSR Matrix\n",
        "\n",
        "---\n",
        "\n"
      ],
      "metadata": {
        "id": "2jyqqpvu6Kut"
      }
    },
    {
      "cell_type": "code",
      "source": [
        "# Create a CSR matrix from an array:\n",
        "import numpy as np\n",
        "from scipy.sparse import csr_matrix\n",
        "\n",
        "arr = np.array([0,0,0,0,0,1,1,0,2])\n",
        "print(csr_matrix(arr))"
      ],
      "metadata": {
        "colab": {
          "base_uri": "https://localhost:8080/"
        },
        "id": "MRGQhuxP6CJT",
        "outputId": "5d191e14-4c71-4548-cd25-88fd47dd3988"
      },
      "execution_count": 13,
      "outputs": [
        {
          "output_type": "stream",
          "name": "stdout",
          "text": [
            "  (0, 5)\t1\n",
            "  (0, 6)\t1\n",
            "  (0, 8)\t2\n"
          ]
        }
      ]
    },
    {
      "cell_type": "markdown",
      "source": [
        "## Sparse Matrix Methods\n",
        "\n",
        "---\n",
        "\n"
      ],
      "metadata": {
        "id": "8thvbxVr7T39"
      }
    },
    {
      "cell_type": "code",
      "source": [
        "# Viewing stored data (not the zero items) with the data property:\n",
        "import numpy as np\n",
        "from scipy.sparse import csr_matrix\n",
        "\n",
        "arr = np.array([[0,0,0],[0,0,1],[1,0,2]])\n",
        "\n",
        "print(csr_matrix(arr).data)"
      ],
      "metadata": {
        "colab": {
          "base_uri": "https://localhost:8080/"
        },
        "id": "3xq7Pxi26nV8",
        "outputId": "1d32a519-6961-488f-d8ce-ee6e89bd9881"
      },
      "execution_count": 14,
      "outputs": [
        {
          "output_type": "stream",
          "name": "stdout",
          "text": [
            "[1 1 2]\n"
          ]
        }
      ]
    },
    {
      "cell_type": "code",
      "source": [
        "# Counting nonzeros with the count_nonzero() method:\n",
        "arr = np.array([[0,0,0],[0,0,1],[1,0,2]])\n",
        "\n",
        "print(csr_matrix(arr).count_nonzero())"
      ],
      "metadata": {
        "colab": {
          "base_uri": "https://localhost:8080/"
        },
        "id": "H7CGweKc7ups",
        "outputId": "b5c37314-eaf0-4d8e-a18e-316f2ce0f476"
      },
      "execution_count": 15,
      "outputs": [
        {
          "output_type": "stream",
          "name": "stdout",
          "text": [
            "3\n"
          ]
        }
      ]
    },
    {
      "cell_type": "code",
      "source": [
        "# Removing zero-entries from the matrix with the eliminate_zeros() method:\n",
        "\n",
        "mat = csr_matrix(arr)\n",
        "mat.eliminate_zeros()\n",
        "\n",
        "print(mat)"
      ],
      "metadata": {
        "colab": {
          "base_uri": "https://localhost:8080/"
        },
        "id": "R3e0rUZo8ZAv",
        "outputId": "831ecb88-dc8a-4d4c-e3dd-dfed1c86a7a5"
      },
      "execution_count": 16,
      "outputs": [
        {
          "output_type": "stream",
          "name": "stdout",
          "text": [
            "  (1, 2)\t1\n",
            "  (2, 0)\t1\n",
            "  (2, 2)\t2\n"
          ]
        }
      ]
    },
    {
      "cell_type": "code",
      "source": [
        "# Eliminating duplicate entries with the sum_duplicates() method:\n",
        "\n",
        "mat.sum_duplicates()\n",
        "\n",
        "print(mat)"
      ],
      "metadata": {
        "colab": {
          "base_uri": "https://localhost:8080/"
        },
        "id": "BDEoWYuJ8piJ",
        "outputId": "0278287a-70a8-4955-d30e-8304458a4a98"
      },
      "execution_count": 17,
      "outputs": [
        {
          "output_type": "stream",
          "name": "stdout",
          "text": [
            "  (1, 2)\t1\n",
            "  (2, 0)\t1\n",
            "  (2, 2)\t2\n"
          ]
        }
      ]
    },
    {
      "cell_type": "code",
      "source": [
        "# Converting from csr to csc with the tocsc() method:\n",
        "\n",
        "newarr = csr_matrix(arr).tocsc()\n",
        "\n",
        "print(newarr)"
      ],
      "metadata": {
        "colab": {
          "base_uri": "https://localhost:8080/"
        },
        "id": "P21nc3lc80i_",
        "outputId": "2559078a-c73a-4453-897f-f2fa6ab6dda6"
      },
      "execution_count": 18,
      "outputs": [
        {
          "output_type": "stream",
          "name": "stdout",
          "text": [
            "  (2, 0)\t1\n",
            "  (1, 2)\t1\n",
            "  (2, 2)\t2\n"
          ]
        }
      ]
    }
  ]
}