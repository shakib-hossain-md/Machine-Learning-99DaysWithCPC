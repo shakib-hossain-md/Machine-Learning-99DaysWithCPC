{
 "cells": [
  {
   "cell_type": "markdown",
   "id": "6235ce96",
   "metadata": {},
   "source": [
    "#### Import SciPy"
   ]
  },
  {
   "cell_type": "code",
   "execution_count": 1,
   "id": "34e4a209",
   "metadata": {},
   "outputs": [],
   "source": [
    "import scipy"
   ]
  },
  {
   "cell_type": "markdown",
   "id": "ecf2e233",
   "metadata": {},
   "source": [
    "#### How many cubic meters are in one liter"
   ]
  },
  {
   "cell_type": "code",
   "execution_count": 2,
   "id": "acb717f5",
   "metadata": {},
   "outputs": [
    {
     "name": "stdout",
     "output_type": "stream",
     "text": [
      "0.001\n"
     ]
    }
   ],
   "source": [
    "from scipy import constants\n",
    "\n",
    "print(constants.liter)"
   ]
  },
  {
   "cell_type": "markdown",
   "id": "f5eeb66e",
   "metadata": {},
   "source": [
    "##### constants: SciPy offers a set of mathematical constants, one of them is liter which returns 1 liter as cubic meters."
   ]
  },
  {
   "cell_type": "markdown",
   "id": "b98b43df",
   "metadata": {},
   "source": [
    "### Constants in SciPy\n",
    "As SciPy is more focused on scientific implementations, it provides many built-in scientific constants.\n",
    "\n",
    "PI is an example of a scientific constant."
   ]
  },
  {
   "cell_type": "code",
   "execution_count": 3,
   "id": "0e3ed258",
   "metadata": {},
   "outputs": [
    {
     "name": "stdout",
     "output_type": "stream",
     "text": [
      "3.141592653589793\n"
     ]
    }
   ],
   "source": [
    "from scipy import constants\n",
    "\n",
    "print(constants.pi)"
   ]
  },
  {
   "cell_type": "markdown",
   "id": "966db512",
   "metadata": {},
   "source": [
    "### Constant Units\n",
    "A list of all units under the constants module can be seen using the dir() function."
   ]
  },
  {
   "cell_type": "code",
   "execution_count": 4,
   "id": "f69f7fa1",
   "metadata": {},
   "outputs": [
    {
     "name": "stdout",
     "output_type": "stream",
     "text": [
      "['Avogadro', 'Boltzmann', 'Btu', 'Btu_IT', 'Btu_th', 'ConstantWarning', 'G', 'Julian_year', 'N_A', 'Planck', 'R', 'Rydberg', 'Stefan_Boltzmann', 'Wien', '__all__', '__builtins__', '__cached__', '__doc__', '__file__', '__loader__', '__name__', '__package__', '__path__', '__spec__', '_codata', '_constants', '_obsolete_constants', 'acre', 'alpha', 'angstrom', 'arcmin', 'arcminute', 'arcsec', 'arcsecond', 'astronomical_unit', 'atm', 'atmosphere', 'atomic_mass', 'atto', 'au', 'bar', 'barrel', 'bbl', 'blob', 'c', 'calorie', 'calorie_IT', 'calorie_th', 'carat', 'centi', 'codata', 'constants', 'convert_temperature', 'day', 'deci', 'degree', 'degree_Fahrenheit', 'deka', 'dyn', 'dyne', 'e', 'eV', 'electron_mass', 'electron_volt', 'elementary_charge', 'epsilon_0', 'erg', 'exa', 'exbi', 'femto', 'fermi', 'find', 'fine_structure', 'fluid_ounce', 'fluid_ounce_US', 'fluid_ounce_imp', 'foot', 'g', 'gallon', 'gallon_US', 'gallon_imp', 'gas_constant', 'gibi', 'giga', 'golden', 'golden_ratio', 'grain', 'gram', 'gravitational_constant', 'h', 'hbar', 'hectare', 'hecto', 'horsepower', 'hour', 'hp', 'inch', 'k', 'kgf', 'kibi', 'kilo', 'kilogram_force', 'kmh', 'knot', 'lambda2nu', 'lb', 'lbf', 'light_year', 'liter', 'litre', 'long_ton', 'm_e', 'm_n', 'm_p', 'm_u', 'mach', 'mebi', 'mega', 'metric_ton', 'micro', 'micron', 'mil', 'mile', 'milli', 'minute', 'mmHg', 'mph', 'mu_0', 'nano', 'nautical_mile', 'neutron_mass', 'nu2lambda', 'ounce', 'oz', 'parsec', 'pebi', 'peta', 'physical_constants', 'pi', 'pico', 'point', 'pound', 'pound_force', 'precision', 'proton_mass', 'psi', 'pt', 'short_ton', 'sigma', 'slinch', 'slug', 'speed_of_light', 'speed_of_sound', 'stone', 'survey_foot', 'survey_mile', 'tebi', 'tera', 'test', 'ton_TNT', 'torr', 'troy_ounce', 'troy_pound', 'u', 'unit', 'value', 'week', 'yard', 'year', 'yobi', 'yocto', 'yotta', 'zebi', 'zepto', 'zero_Celsius', 'zetta']\n"
     ]
    }
   ],
   "source": [
    "# list of constants\n",
    "from scipy import constants\n",
    "\n",
    "print(dir(constants))"
   ]
  },
  {
   "cell_type": "markdown",
   "id": "8d3b21ae",
   "metadata": {},
   "source": [
    "### Unit Categories\n",
    "The units are placed under these categories:\n",
    "\n",
    "    Metric\n",
    "    Binary\n",
    "    Mass\n",
    "    Angle\n",
    "    Time\n",
    "    Length\n",
    "    Pressure\n",
    "    Volume\n",
    "    Speed\n",
    "    Temperature\n",
    "    Energy\n",
    "    Power\n",
    "    Force"
   ]
  },
  {
   "cell_type": "markdown",
   "id": "1ed8fdde",
   "metadata": {},
   "source": [
    "### Metric (SI) Prefixes:\n",
    "Return the specified unit in meter (e.g. centi returns 0.01)"
   ]
  },
  {
   "cell_type": "code",
   "execution_count": 5,
   "id": "3e2056d1",
   "metadata": {},
   "outputs": [
    {
     "name": "stdout",
     "output_type": "stream",
     "text": [
      "1e+24\n"
     ]
    }
   ],
   "source": [
    "print(constants.yotta) "
   ]
  },
  {
   "cell_type": "code",
   "execution_count": 6,
   "id": "64c41954",
   "metadata": {},
   "outputs": [
    {
     "name": "stdout",
     "output_type": "stream",
     "text": [
      "1e+21\n"
     ]
    }
   ],
   "source": [
    "print(constants.zetta)"
   ]
  },
  {
   "cell_type": "code",
   "execution_count": 7,
   "id": "64f16bbf",
   "metadata": {},
   "outputs": [
    {
     "name": "stdout",
     "output_type": "stream",
     "text": [
      "1e+18\n"
     ]
    }
   ],
   "source": [
    "print(constants.exa) "
   ]
  },
  {
   "cell_type": "code",
   "execution_count": 8,
   "id": "73e5fac7",
   "metadata": {},
   "outputs": [
    {
     "name": "stdout",
     "output_type": "stream",
     "text": [
      "1000000000000000.0\n"
     ]
    }
   ],
   "source": [
    "print(constants.peta)"
   ]
  },
  {
   "cell_type": "code",
   "execution_count": 9,
   "id": "193440bc",
   "metadata": {},
   "outputs": [
    {
     "name": "stdout",
     "output_type": "stream",
     "text": [
      "1000000000000.0\n"
     ]
    }
   ],
   "source": [
    "print(constants.tera) "
   ]
  },
  {
   "cell_type": "code",
   "execution_count": 10,
   "id": "ad75e450",
   "metadata": {},
   "outputs": [
    {
     "name": "stdout",
     "output_type": "stream",
     "text": [
      "1000000000.0\n"
     ]
    }
   ],
   "source": [
    "print(constants.giga)"
   ]
  },
  {
   "cell_type": "code",
   "execution_count": 11,
   "id": "e63d2e7a",
   "metadata": {},
   "outputs": [
    {
     "name": "stdout",
     "output_type": "stream",
     "text": [
      "1000000.0\n"
     ]
    }
   ],
   "source": [
    "print(constants.mega)"
   ]
  },
  {
   "cell_type": "code",
   "execution_count": 12,
   "id": "acdb5a1b",
   "metadata": {},
   "outputs": [
    {
     "name": "stdout",
     "output_type": "stream",
     "text": [
      "1000.0\n"
     ]
    }
   ],
   "source": [
    "print(constants.kilo)"
   ]
  },
  {
   "cell_type": "code",
   "execution_count": 13,
   "id": "2d2a6610",
   "metadata": {},
   "outputs": [
    {
     "name": "stdout",
     "output_type": "stream",
     "text": [
      "100.0\n"
     ]
    }
   ],
   "source": [
    "print(constants.hecto)"
   ]
  },
  {
   "cell_type": "code",
   "execution_count": 14,
   "id": "c465b6e9",
   "metadata": {},
   "outputs": [
    {
     "name": "stdout",
     "output_type": "stream",
     "text": [
      "10.0\n"
     ]
    }
   ],
   "source": [
    "print(constants.deka)"
   ]
  },
  {
   "cell_type": "code",
   "execution_count": 15,
   "id": "23dc8b56",
   "metadata": {},
   "outputs": [
    {
     "name": "stdout",
     "output_type": "stream",
     "text": [
      "0.1\n"
     ]
    }
   ],
   "source": [
    "print(constants.deci)"
   ]
  },
  {
   "cell_type": "code",
   "execution_count": 16,
   "id": "16e52a0b",
   "metadata": {},
   "outputs": [
    {
     "name": "stdout",
     "output_type": "stream",
     "text": [
      "0.01\n"
     ]
    }
   ],
   "source": [
    "print(constants.centi)"
   ]
  },
  {
   "cell_type": "code",
   "execution_count": 17,
   "id": "a2c4d8c9",
   "metadata": {},
   "outputs": [
    {
     "name": "stdout",
     "output_type": "stream",
     "text": [
      "0.001\n"
     ]
    }
   ],
   "source": [
    "print(constants.milli)"
   ]
  },
  {
   "cell_type": "code",
   "execution_count": 18,
   "id": "4040d190",
   "metadata": {},
   "outputs": [
    {
     "name": "stdout",
     "output_type": "stream",
     "text": [
      "1e-06\n"
     ]
    }
   ],
   "source": [
    "print(constants.micro)"
   ]
  },
  {
   "cell_type": "code",
   "execution_count": 19,
   "id": "0fe48380",
   "metadata": {},
   "outputs": [
    {
     "name": "stdout",
     "output_type": "stream",
     "text": [
      "1e-09\n"
     ]
    }
   ],
   "source": [
    "print(constants.nano)"
   ]
  },
  {
   "cell_type": "code",
   "execution_count": 20,
   "id": "632b1486",
   "metadata": {},
   "outputs": [
    {
     "name": "stdout",
     "output_type": "stream",
     "text": [
      "1e-12\n"
     ]
    }
   ],
   "source": [
    "print(constants.pico)"
   ]
  },
  {
   "cell_type": "code",
   "execution_count": 21,
   "id": "5e71000b",
   "metadata": {},
   "outputs": [
    {
     "name": "stdout",
     "output_type": "stream",
     "text": [
      "1e-15\n"
     ]
    }
   ],
   "source": [
    "print(constants.femto)"
   ]
  },
  {
   "cell_type": "code",
   "execution_count": 22,
   "id": "6237655c",
   "metadata": {},
   "outputs": [
    {
     "name": "stdout",
     "output_type": "stream",
     "text": [
      "1e-18\n"
     ]
    }
   ],
   "source": [
    "print(constants.atto)"
   ]
  },
  {
   "cell_type": "code",
   "execution_count": 23,
   "id": "ac21c59b",
   "metadata": {},
   "outputs": [
    {
     "name": "stdout",
     "output_type": "stream",
     "text": [
      "1e-21\n"
     ]
    }
   ],
   "source": [
    "print(constants.zepto)"
   ]
  },
  {
   "cell_type": "markdown",
   "id": "48ff8ba3",
   "metadata": {},
   "source": [
    "### Binary Prefixes:\n",
    "Return the specified unit in bytes (e.g. kibi returns 1024)"
   ]
  },
  {
   "cell_type": "code",
   "execution_count": 24,
   "id": "76d4ec0e",
   "metadata": {},
   "outputs": [
    {
     "name": "stdout",
     "output_type": "stream",
     "text": [
      "1024\n"
     ]
    }
   ],
   "source": [
    "print(constants.kibi)"
   ]
  },
  {
   "cell_type": "code",
   "execution_count": 25,
   "id": "75d1eec4",
   "metadata": {},
   "outputs": [
    {
     "name": "stdout",
     "output_type": "stream",
     "text": [
      "1048576\n"
     ]
    }
   ],
   "source": [
    "print(constants.mebi)"
   ]
  },
  {
   "cell_type": "code",
   "execution_count": 26,
   "id": "fa23e70f",
   "metadata": {},
   "outputs": [
    {
     "name": "stdout",
     "output_type": "stream",
     "text": [
      "1073741824\n"
     ]
    }
   ],
   "source": [
    "print(constants.gibi)"
   ]
  },
  {
   "cell_type": "code",
   "execution_count": 27,
   "id": "47db7584",
   "metadata": {},
   "outputs": [
    {
     "name": "stdout",
     "output_type": "stream",
     "text": [
      "1099511627776\n"
     ]
    }
   ],
   "source": [
    "print(constants.tebi)"
   ]
  },
  {
   "cell_type": "code",
   "execution_count": 28,
   "id": "4e3d02ef",
   "metadata": {},
   "outputs": [
    {
     "name": "stdout",
     "output_type": "stream",
     "text": [
      "1125899906842624\n"
     ]
    }
   ],
   "source": [
    "print(constants.pebi)"
   ]
  },
  {
   "cell_type": "code",
   "execution_count": 29,
   "id": "fd70bc1c",
   "metadata": {},
   "outputs": [
    {
     "name": "stdout",
     "output_type": "stream",
     "text": [
      "1152921504606846976\n"
     ]
    }
   ],
   "source": [
    "print(constants.exbi)"
   ]
  },
  {
   "cell_type": "code",
   "execution_count": 30,
   "id": "16771a9f",
   "metadata": {},
   "outputs": [
    {
     "name": "stdout",
     "output_type": "stream",
     "text": [
      "1180591620717411303424\n"
     ]
    }
   ],
   "source": [
    "print(constants.zebi)"
   ]
  },
  {
   "cell_type": "code",
   "execution_count": 31,
   "id": "0d5ae4ff",
   "metadata": {},
   "outputs": [
    {
     "name": "stdout",
     "output_type": "stream",
     "text": [
      "1208925819614629174706176\n"
     ]
    }
   ],
   "source": [
    "print(constants.yobi)"
   ]
  },
  {
   "cell_type": "markdown",
   "id": "5a02b522",
   "metadata": {},
   "source": [
    "### Mass:\n",
    "Return the specified unit in kg (e.g. gram returns 0.001)"
   ]
  },
  {
   "cell_type": "code",
   "execution_count": 32,
   "id": "92da14a7",
   "metadata": {},
   "outputs": [
    {
     "name": "stdout",
     "output_type": "stream",
     "text": [
      "0.001\n"
     ]
    }
   ],
   "source": [
    "print(constants.gram)"
   ]
  },
  {
   "cell_type": "code",
   "execution_count": 33,
   "id": "e497e883",
   "metadata": {},
   "outputs": [
    {
     "name": "stdout",
     "output_type": "stream",
     "text": [
      "1000.0\n"
     ]
    }
   ],
   "source": [
    "print(constants.metric_ton)"
   ]
  },
  {
   "cell_type": "code",
   "execution_count": 34,
   "id": "cde85aa7",
   "metadata": {},
   "outputs": [
    {
     "name": "stdout",
     "output_type": "stream",
     "text": [
      "6.479891e-05\n"
     ]
    }
   ],
   "source": [
    "print(constants.grain)"
   ]
  },
  {
   "cell_type": "code",
   "execution_count": 35,
   "id": "b68f65bb",
   "metadata": {},
   "outputs": [
    {
     "name": "stdout",
     "output_type": "stream",
     "text": [
      "0.45359236999999997\n"
     ]
    }
   ],
   "source": [
    "print(constants.lb)"
   ]
  },
  {
   "cell_type": "code",
   "execution_count": 36,
   "id": "22bd18f9",
   "metadata": {},
   "outputs": [
    {
     "name": "stdout",
     "output_type": "stream",
     "text": [
      "0.45359236999999997\n"
     ]
    }
   ],
   "source": [
    "print(constants.pound)"
   ]
  },
  {
   "cell_type": "code",
   "execution_count": 37,
   "id": "0e2211d4",
   "metadata": {},
   "outputs": [
    {
     "name": "stdout",
     "output_type": "stream",
     "text": [
      "0.028349523124999998\n"
     ]
    }
   ],
   "source": [
    "print(constants.oz)"
   ]
  },
  {
   "cell_type": "code",
   "execution_count": 38,
   "id": "7b116945",
   "metadata": {},
   "outputs": [
    {
     "name": "stdout",
     "output_type": "stream",
     "text": [
      "0.028349523124999998\n"
     ]
    }
   ],
   "source": [
    "print(constants.ounce) "
   ]
  },
  {
   "cell_type": "code",
   "execution_count": 39,
   "id": "3d95e973",
   "metadata": {},
   "outputs": [
    {
     "name": "stdout",
     "output_type": "stream",
     "text": [
      "6.3502931799999995\n"
     ]
    }
   ],
   "source": [
    "print(constants.stone)"
   ]
  },
  {
   "cell_type": "code",
   "execution_count": 40,
   "id": "b50a8319",
   "metadata": {},
   "outputs": [
    {
     "name": "stdout",
     "output_type": "stream",
     "text": [
      "1016.0469088\n"
     ]
    }
   ],
   "source": [
    "print(constants.long_ton)"
   ]
  },
  {
   "cell_type": "code",
   "execution_count": 41,
   "id": "e044249d",
   "metadata": {},
   "outputs": [
    {
     "name": "stdout",
     "output_type": "stream",
     "text": [
      "907.1847399999999\n"
     ]
    }
   ],
   "source": [
    "print(constants.short_ton)"
   ]
  },
  {
   "cell_type": "code",
   "execution_count": 42,
   "id": "462bce24",
   "metadata": {},
   "outputs": [
    {
     "name": "stdout",
     "output_type": "stream",
     "text": [
      "0.031103476799999998\n"
     ]
    }
   ],
   "source": [
    "print(constants.troy_ounce)"
   ]
  },
  {
   "cell_type": "code",
   "execution_count": 43,
   "id": "9e348707",
   "metadata": {},
   "outputs": [
    {
     "name": "stdout",
     "output_type": "stream",
     "text": [
      "0.37324172159999996\n"
     ]
    }
   ],
   "source": [
    "print(constants.troy_pound)"
   ]
  },
  {
   "cell_type": "code",
   "execution_count": 44,
   "id": "35754dae",
   "metadata": {},
   "outputs": [
    {
     "name": "stdout",
     "output_type": "stream",
     "text": [
      "0.0002\n"
     ]
    }
   ],
   "source": [
    "print(constants.carat)"
   ]
  },
  {
   "cell_type": "code",
   "execution_count": 45,
   "id": "56c09841",
   "metadata": {},
   "outputs": [
    {
     "name": "stdout",
     "output_type": "stream",
     "text": [
      "1.6605390666e-27\n"
     ]
    }
   ],
   "source": [
    "print(constants.atomic_mass)"
   ]
  },
  {
   "cell_type": "code",
   "execution_count": 46,
   "id": "f5d371e9",
   "metadata": {},
   "outputs": [
    {
     "name": "stdout",
     "output_type": "stream",
     "text": [
      "1.6605390666e-27\n"
     ]
    }
   ],
   "source": [
    "print(constants.m_u) "
   ]
  },
  {
   "cell_type": "code",
   "execution_count": 47,
   "id": "189dbebb",
   "metadata": {},
   "outputs": [
    {
     "name": "stdout",
     "output_type": "stream",
     "text": [
      "1.6605390666e-27\n"
     ]
    }
   ],
   "source": [
    "print(constants.u)"
   ]
  },
  {
   "cell_type": "markdown",
   "id": "358af12a",
   "metadata": {},
   "source": [
    "### Angle:\n",
    "Return the specified unit in radians (e.g. degree returns 0.017453292519943295)"
   ]
  },
  {
   "cell_type": "code",
   "execution_count": 48,
   "id": "e20db030",
   "metadata": {},
   "outputs": [
    {
     "name": "stdout",
     "output_type": "stream",
     "text": [
      "0.017453292519943295\n"
     ]
    }
   ],
   "source": [
    "print(constants.degree)"
   ]
  },
  {
   "cell_type": "code",
   "execution_count": 49,
   "id": "62d4ed00",
   "metadata": {},
   "outputs": [
    {
     "name": "stdout",
     "output_type": "stream",
     "text": [
      "0.0002908882086657216\n"
     ]
    }
   ],
   "source": [
    "print(constants.arcmin)"
   ]
  },
  {
   "cell_type": "code",
   "execution_count": 50,
   "id": "41574920",
   "metadata": {},
   "outputs": [
    {
     "name": "stdout",
     "output_type": "stream",
     "text": [
      "0.0002908882086657216\n"
     ]
    }
   ],
   "source": [
    "print(constants.arcminute)"
   ]
  },
  {
   "cell_type": "code",
   "execution_count": 51,
   "id": "52ddf311",
   "metadata": {},
   "outputs": [
    {
     "name": "stdout",
     "output_type": "stream",
     "text": [
      "4.84813681109536e-06\n"
     ]
    }
   ],
   "source": [
    "print(constants.arcsec)"
   ]
  },
  {
   "cell_type": "code",
   "execution_count": 52,
   "id": "f4e754c2",
   "metadata": {},
   "outputs": [
    {
     "name": "stdout",
     "output_type": "stream",
     "text": [
      "4.84813681109536e-06\n"
     ]
    }
   ],
   "source": [
    "print(constants.arcsecond)"
   ]
  },
  {
   "cell_type": "markdown",
   "id": "8834f025",
   "metadata": {},
   "source": [
    "### Time:\n",
    "Return the specified unit in seconds (e.g. hour returns 3600.0)"
   ]
  },
  {
   "cell_type": "code",
   "execution_count": 53,
   "id": "9558dd49",
   "metadata": {},
   "outputs": [
    {
     "name": "stdout",
     "output_type": "stream",
     "text": [
      "60.0\n"
     ]
    }
   ],
   "source": [
    "print(constants.minute) "
   ]
  },
  {
   "cell_type": "code",
   "execution_count": 54,
   "id": "787d3f35",
   "metadata": {},
   "outputs": [
    {
     "name": "stdout",
     "output_type": "stream",
     "text": [
      "3600.0\n"
     ]
    }
   ],
   "source": [
    "print(constants.hour)"
   ]
  },
  {
   "cell_type": "code",
   "execution_count": 55,
   "id": "5de20c06",
   "metadata": {},
   "outputs": [
    {
     "name": "stdout",
     "output_type": "stream",
     "text": [
      "86400.0\n"
     ]
    }
   ],
   "source": [
    "print(constants.day)"
   ]
  },
  {
   "cell_type": "code",
   "execution_count": 56,
   "id": "3448237c",
   "metadata": {},
   "outputs": [
    {
     "name": "stdout",
     "output_type": "stream",
     "text": [
      "604800.0\n"
     ]
    }
   ],
   "source": [
    "print(constants.week)"
   ]
  },
  {
   "cell_type": "code",
   "execution_count": 57,
   "id": "0761c083",
   "metadata": {},
   "outputs": [
    {
     "name": "stdout",
     "output_type": "stream",
     "text": [
      "31536000.0\n"
     ]
    }
   ],
   "source": [
    "print(constants.year)"
   ]
  },
  {
   "cell_type": "code",
   "execution_count": 58,
   "id": "b4cd7500",
   "metadata": {},
   "outputs": [
    {
     "name": "stdout",
     "output_type": "stream",
     "text": [
      "31557600.0\n"
     ]
    }
   ],
   "source": [
    "print(constants.Julian_year)"
   ]
  },
  {
   "cell_type": "code",
   "execution_count": null,
   "id": "507ba8f4",
   "metadata": {},
   "outputs": [],
   "source": []
  }
 ],
 "metadata": {
  "kernelspec": {
   "display_name": "Python 3 (ipykernel)",
   "language": "python",
   "name": "python3"
  },
  "language_info": {
   "codemirror_mode": {
    "name": "ipython",
    "version": 3
   },
   "file_extension": ".py",
   "mimetype": "text/x-python",
   "name": "python",
   "nbconvert_exporter": "python",
   "pygments_lexer": "ipython3",
   "version": "3.10.9"
  }
 },
 "nbformat": 4,
 "nbformat_minor": 5
}
