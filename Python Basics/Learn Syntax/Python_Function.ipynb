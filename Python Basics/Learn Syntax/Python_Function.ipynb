{
  "nbformat": 4,
  "nbformat_minor": 0,
  "metadata": {
    "colab": {
      "provenance": [],
      "collapsed_sections": [
        "dK0taPmDqloV",
        "e_b-4r2hrMWk",
        "wktIVz5irw_d",
        "YJiQpSartOcb",
        "5qkrhTPKuukC",
        "GbGwnbzTv9nz",
        "Jh9C7E-VwbEj",
        "mgOYKJgdw_zh",
        "euyTkM6MxpD3",
        "to2E84Q2x395",
        "DC9s82CvyNsN",
        "9NQC2WNfyZMI",
        "U84xVcvvy-7g",
        "Z_Nc1dy8zexJ",
        "18wVI1t5z2I4"
      ]
    },
    "kernelspec": {
      "name": "python3",
      "display_name": "Python 3"
    },
    "language_info": {
      "name": "python"
    }
  },
  "cells": [
    {
      "cell_type": "markdown",
      "source": [
        "## Creating Function\n",
        "\n",
        "---\n",
        "\n"
      ],
      "metadata": {
        "id": "dK0taPmDqloV"
      }
    },
    {
      "cell_type": "code",
      "execution_count": 2,
      "metadata": {
        "id": "mn5nzrzVqPJ5"
      },
      "outputs": [],
      "source": [
        "# In Python a function is defined using the def keyword:\n",
        "# Ex:\n",
        "def my_function():\n",
        "  print(\"Hello from a function\")"
      ]
    },
    {
      "cell_type": "markdown",
      "source": [
        "## Calling a Function\n",
        "\n",
        "---\n",
        "\n"
      ],
      "metadata": {
        "id": "e_b-4r2hrMWk"
      }
    },
    {
      "cell_type": "code",
      "source": [
        "# To call a function, use the function name followed by parenthesis:\n",
        "def my_function():\n",
        "  print(\"Hello from a function\")\n",
        "\n",
        "my_function()"
      ],
      "metadata": {
        "colab": {
          "base_uri": "https://localhost:8080/"
        },
        "id": "oRF3k-RAq7Ar",
        "outputId": "2e8e0fe8-6375-473f-821a-874040f66e9e"
      },
      "execution_count": 3,
      "outputs": [
        {
          "output_type": "stream",
          "name": "stdout",
          "text": [
            "Hello from a function\n"
          ]
        }
      ]
    },
    {
      "cell_type": "markdown",
      "source": [
        "## Arguments\n",
        "\n",
        "---\n",
        "\n"
      ],
      "metadata": {
        "id": "wktIVz5irw_d"
      }
    },
    {
      "cell_type": "code",
      "source": [
        "\"\"\"Information can be passed into functions as arguments.\n",
        "Arguments are specified after the function name, inside the parentheses.\n",
        "You can add as many arguments as you want, just separate them with a comma.\"\"\"\n",
        "def my_function(fname):\n",
        "  print(fname + \" Refsnes\")\n",
        "\n",
        "my_function(\"Emil\")\n",
        "my_function(\"Tobias\")\n",
        "my_function(\"Linus\")"
      ],
      "metadata": {
        "colab": {
          "base_uri": "https://localhost:8080/"
        },
        "id": "XOMs1JDOrv26",
        "outputId": "053a72dd-d9e8-405a-b1bc-b532a9c8013c"
      },
      "execution_count": 4,
      "outputs": [
        {
          "output_type": "stream",
          "name": "stdout",
          "text": [
            "Emil Refsnes\n",
            "Tobias Refsnes\n",
            "Linus Refsnes\n"
          ]
        }
      ]
    },
    {
      "cell_type": "markdown",
      "source": [
        "## Number of Arguments\n",
        "\n",
        "---\n",
        "\n"
      ],
      "metadata": {
        "id": "YJiQpSartOcb"
      }
    },
    {
      "cell_type": "code",
      "source": [
        "\"\"\"By default, a function must be called with the correct number of arguments.\n",
        "Meaning that if your function expects 2 arguments,\n",
        "you have to call the function with 2 arguments, not more, and not less.\"\"\"\n",
        "\n",
        "# Ex: This function expects 2 arguments, and gets 2 arguments:\n",
        "def my_function(fname, lname):\n",
        "  print(fname + \" \" + lname)\n",
        "\n",
        "my_function(\"Emil\", \"Refsnes\")\n",
        "\n",
        "# Note: The number of parameters and arguments must be same, or you will get an error."
      ],
      "metadata": {
        "colab": {
          "base_uri": "https://localhost:8080/"
        },
        "id": "6G35z5insgi2",
        "outputId": "685adce4-65a4-4e5b-8295-11c511fd48e5"
      },
      "execution_count": 6,
      "outputs": [
        {
          "output_type": "stream",
          "name": "stdout",
          "text": [
            "Emil Refsnes\n"
          ]
        }
      ]
    },
    {
      "cell_type": "markdown",
      "source": [
        "## Arbitrary Arguments, *args\n",
        "\n",
        "---\n",
        "\n"
      ],
      "metadata": {
        "id": "5qkrhTPKuukC"
      }
    },
    {
      "cell_type": "code",
      "source": [
        "\"\"\"If you do not know how many arguments that will\n",
        "be passed into your function, add a * before the parameter\n",
        "name in the function definition.\"\"\"\n",
        "# Ex: If the number of arguments is unknown, add a * before the parameter name:\n",
        "def my_function(*kids):\n",
        "  print(\"The youngest child is \" + kids[2])\n",
        "\n",
        "my_function(\"Emil\", \"Tobias\", \"Linus\")\n",
        "\n",
        "# Note: Arbitrary Arguments are often shortened to *args in Python documentations."
      ],
      "metadata": {
        "colab": {
          "base_uri": "https://localhost:8080/"
        },
        "id": "NZp90Ja8utSB",
        "outputId": "339a37bf-874f-4f9a-8a2c-673e5e1ea1a3"
      },
      "execution_count": 7,
      "outputs": [
        {
          "output_type": "stream",
          "name": "stdout",
          "text": [
            "The youngest child is Linus\n"
          ]
        }
      ]
    },
    {
      "cell_type": "markdown",
      "source": [],
      "metadata": {
        "id": "Wcd1OrpTv8bC"
      }
    },
    {
      "cell_type": "markdown",
      "source": [
        "## Keyword Arguments\n",
        "\n",
        "---\n",
        "\n"
      ],
      "metadata": {
        "id": "GbGwnbzTv9nz"
      }
    },
    {
      "cell_type": "code",
      "source": [
        "\"\"\"You can also send arguments with the key = value syntax.\n",
        "This way the order of the arguments does not matter.\"\"\"\n",
        "# Ex:\n",
        "def my_function(child3, child2, child1):\n",
        "  print(\"The youngest child is \" + child3)\n",
        "\n",
        "my_function(child1 = \"Emil\", child2 = \"Tobias\", child3 = \"Linus\")"
      ],
      "metadata": {
        "colab": {
          "base_uri": "https://localhost:8080/"
        },
        "id": "b5VYyMsXvyX4",
        "outputId": "1ec770e3-b8e1-48f8-faae-dad372f772c9"
      },
      "execution_count": 8,
      "outputs": [
        {
          "output_type": "stream",
          "name": "stdout",
          "text": [
            "The youngest child is Linus\n"
          ]
        }
      ]
    },
    {
      "cell_type": "markdown",
      "source": [
        "## Arbitrary Keyword Arguments, **kwargs\n",
        "\n",
        "---\n",
        "\n"
      ],
      "metadata": {
        "id": "Jh9C7E-VwbEj"
      }
    },
    {
      "cell_type": "code",
      "source": [
        "\"\"\"If you do not know how many keyword arguments that will be passed\n",
        "into your function, add two asterisk: ** before\n",
        "the parameter name in the function definition.\n",
        "\n",
        "This way the function will receive a dictionary of arguments,\n",
        "and can access the items accordingly:\"\"\"\n",
        "\n",
        "# Ex:If the number of keyword arguments is unknown, add a double ** before the parameter name:\n",
        "def my_function(**kid):\n",
        "  print(\"His last name is \" + kid[\"lname\"])\n",
        "\n",
        "my_function(fname = \"Tobias\", lname = \"Refsnes\")"
      ],
      "metadata": {
        "colab": {
          "base_uri": "https://localhost:8080/"
        },
        "id": "zzuc3RUAwV0u",
        "outputId": "1b6d0a29-0ff4-4dbb-89ad-afccd9bf7b10"
      },
      "execution_count": 9,
      "outputs": [
        {
          "output_type": "stream",
          "name": "stdout",
          "text": [
            "His last name is Refsnes\n"
          ]
        }
      ]
    },
    {
      "cell_type": "markdown",
      "source": [
        "## Default Parameter Value\n",
        "\n",
        "---\n",
        "\n"
      ],
      "metadata": {
        "id": "mgOYKJgdw_zh"
      }
    },
    {
      "cell_type": "code",
      "source": [
        "\"\"\"The following example shows how to use a default parameter value.\n",
        "If we call the function without argument, it uses the default value:\"\"\"\n",
        "# Ex:\n",
        "def my_function(country = \"Norway\"):\n",
        "  print(\"I am from \" + country)\n",
        "\n",
        "my_function(\"Sweden\")\n",
        "my_function(\"India\")\n",
        "my_function()\n",
        "my_function(\"Brazil\")"
      ],
      "metadata": {
        "colab": {
          "base_uri": "https://localhost:8080/"
        },
        "id": "v69dn8dWwyT2",
        "outputId": "2a714855-bb44-4366-dd6b-874aa49bd73d"
      },
      "execution_count": 10,
      "outputs": [
        {
          "output_type": "stream",
          "name": "stdout",
          "text": [
            "I am from Sweden\n",
            "I am from India\n",
            "I am from Norway\n",
            "I am from Brazil\n"
          ]
        }
      ]
    },
    {
      "cell_type": "markdown",
      "source": [
        "## Passing a List as an Argument\n",
        "\n",
        "---\n",
        "\n"
      ],
      "metadata": {
        "id": "euyTkM6MxpD3"
      }
    },
    {
      "cell_type": "code",
      "source": [
        "\"\"\"You can send any data types of argument to a\n",
        "function (string, number, list, dictionary etc.), and\n",
        "it will be treated as the same data type inside the function.\"\"\"\n",
        "\n",
        "# Ex:\n",
        "def my_function(food):\n",
        "  for x in food:\n",
        "    print(x)\n",
        "\n",
        "fruits = [\"apple\", \"banana\", \"cherry\"]\n",
        "\n",
        "my_function(fruits)"
      ],
      "metadata": {
        "colab": {
          "base_uri": "https://localhost:8080/"
        },
        "id": "XO3nPf63xnTE",
        "outputId": "1baed02a-96a0-4f15-bced-ac27e37a43ae"
      },
      "execution_count": 11,
      "outputs": [
        {
          "output_type": "stream",
          "name": "stdout",
          "text": [
            "apple\n",
            "banana\n",
            "cherry\n"
          ]
        }
      ]
    },
    {
      "cell_type": "markdown",
      "source": [
        "## Return Values\n",
        "\n",
        "---\n",
        "\n"
      ],
      "metadata": {
        "id": "to2E84Q2x395"
      }
    },
    {
      "cell_type": "code",
      "source": [
        "# To let a function return a value, use the return statement:\n",
        "# Ex:\n",
        "def my_function(x):\n",
        "  return 5 * x\n",
        "\n",
        "print(my_function(3))\n",
        "print(my_function(5))\n",
        "print(my_function(9))\n"
      ],
      "metadata": {
        "colab": {
          "base_uri": "https://localhost:8080/"
        },
        "id": "EZJbZ5Imx2Mz",
        "outputId": "aab77206-a104-45ef-b916-3f3209562b61"
      },
      "execution_count": 12,
      "outputs": [
        {
          "output_type": "stream",
          "name": "stdout",
          "text": [
            "15\n",
            "25\n",
            "45\n"
          ]
        }
      ]
    },
    {
      "cell_type": "markdown",
      "source": [
        "## The pass Statement\n",
        "\n",
        "---\n",
        "\n"
      ],
      "metadata": {
        "id": "DC9s82CvyNsN"
      }
    },
    {
      "cell_type": "code",
      "source": [
        "\"\"\"function definitions cannot be empty, but if you for some\n",
        "reason have a function definition with no content,\n",
        "put in the pass statement to avoid getting an erro\"\"\"\n",
        "\n",
        "# Ex:\n",
        "def myfunction():\n",
        "  pass"
      ],
      "metadata": {
        "id": "2okjRuekyLKP"
      },
      "execution_count": 13,
      "outputs": []
    },
    {
      "cell_type": "markdown",
      "source": [
        "## Positional-Only Arguments\n",
        "\n",
        "---\n",
        "\n"
      ],
      "metadata": {
        "id": "9NQC2WNfyZMI"
      }
    },
    {
      "cell_type": "code",
      "source": [
        "\"\"\"You can specify that a function can have ONLY positional arguments,\n",
        "or ONLY keyword arguments.\n",
        "To specify that a function can have only positional\n",
        "arguments, add , / after the arguments:\"\"\"\n",
        "# Ex:\n",
        "def my_function(x, /):\n",
        "  print(x)\n",
        "\n",
        "my_function(3)\n"
      ],
      "metadata": {
        "colab": {
          "base_uri": "https://localhost:8080/"
        },
        "id": "UER_l1O4yXzo",
        "outputId": "89c9bff0-b89d-48cc-bb88-55055566a319"
      },
      "execution_count": 14,
      "outputs": [
        {
          "output_type": "stream",
          "name": "stdout",
          "text": [
            "3\n"
          ]
        }
      ]
    },
    {
      "cell_type": "code",
      "source": [
        "# Ex:\n",
        "def my_function(x):\n",
        "  print(x)\n",
        "\n",
        "my_function(x = 3)"
      ],
      "metadata": {
        "colab": {
          "base_uri": "https://localhost:8080/"
        },
        "id": "upYwjqZGyunX",
        "outputId": "6cce4b7f-9395-4569-c92d-f2cc7d7f9a1e"
      },
      "execution_count": 15,
      "outputs": [
        {
          "output_type": "stream",
          "name": "stdout",
          "text": [
            "3\n"
          ]
        }
      ]
    },
    {
      "cell_type": "markdown",
      "source": [
        "## Keyword-Only Arguments\n",
        "\n",
        "---\n",
        "\n"
      ],
      "metadata": {
        "id": "U84xVcvvy-7g"
      }
    },
    {
      "cell_type": "code",
      "source": [
        "\"\"\"To specify that a function can\n",
        "have only keyword arguments, add *, before the arguments:\"\"\"\n",
        "\n",
        "# Ex:\n",
        "def my_function(*, x):\n",
        "  print(x)\n",
        "\n",
        "my_function(x = 3)"
      ],
      "metadata": {
        "colab": {
          "base_uri": "https://localhost:8080/"
        },
        "id": "Q-2B3fXay7rv",
        "outputId": "fe578efd-3a7d-4c8c-c9e0-6642de8f82f3"
      },
      "execution_count": 16,
      "outputs": [
        {
          "output_type": "stream",
          "name": "stdout",
          "text": [
            "3\n"
          ]
        }
      ]
    },
    {
      "cell_type": "code",
      "source": [
        "\"\"\"Without the *, you are allowed to use positionale\n",
        "arguments even if the function expects keyword arguments:\"\"\"\n",
        "\n",
        "# Ex:\n",
        "def my_function(x):\n",
        "  print(x)\n",
        "\n",
        "my_function(3)"
      ],
      "metadata": {
        "colab": {
          "base_uri": "https://localhost:8080/"
        },
        "id": "-RgvAOkxzMR3",
        "outputId": "2f3af4d4-1425-453a-b3ef-3da304f560e9"
      },
      "execution_count": 17,
      "outputs": [
        {
          "output_type": "stream",
          "name": "stdout",
          "text": [
            "3\n"
          ]
        }
      ]
    },
    {
      "cell_type": "markdown",
      "source": [
        "## Combine Positional-Only and Keyword-Only\n",
        "\n",
        "---\n",
        "\n"
      ],
      "metadata": {
        "id": "Z_Nc1dy8zexJ"
      }
    },
    {
      "cell_type": "code",
      "source": [
        "\"\"\"You can combine the two argument types in the same function.\n",
        "\n",
        "Any argument before the / , are positional-only, and any argument after\n",
        "the *, are keyword-only.\"\"\"\n",
        "\n",
        "# Ex:\n",
        "def my_function(a, b, /, *, c, d):\n",
        "  print(a + b + c + d)\n",
        "\n",
        "my_function(5, 6, c = 7, d = 8)"
      ],
      "metadata": {
        "colab": {
          "base_uri": "https://localhost:8080/"
        },
        "id": "7R2odVPYzddQ",
        "outputId": "918d7efd-590d-41b3-d325-a3f8ba787e88"
      },
      "execution_count": 18,
      "outputs": [
        {
          "output_type": "stream",
          "name": "stdout",
          "text": [
            "26\n"
          ]
        }
      ]
    },
    {
      "cell_type": "markdown",
      "source": [
        "## Recursion\n",
        "\n",
        "---\n",
        "\n"
      ],
      "metadata": {
        "id": "18wVI1t5z2I4"
      }
    },
    {
      "cell_type": "code",
      "source": [
        "# Ex:\n",
        "def tri_recursion(k):\n",
        "  if(k > 0):\n",
        "    result = k + tri_recursion(k - 1)\n",
        "    print(result)\n",
        "  else:\n",
        "    result = 0\n",
        "  return result\n",
        "\n",
        "print(\"Recursion Example Results:\")\n",
        "tri_recursion(6)"
      ],
      "metadata": {
        "colab": {
          "base_uri": "https://localhost:8080/"
        },
        "id": "e-FXZ_YIzymN",
        "outputId": "882d3f3f-8361-4a4a-abdc-c4256b031647"
      },
      "execution_count": 19,
      "outputs": [
        {
          "output_type": "stream",
          "name": "stdout",
          "text": [
            "Recursion Example Results:\n",
            "1\n",
            "3\n",
            "6\n",
            "10\n",
            "15\n",
            "21\n"
          ]
        },
        {
          "output_type": "execute_result",
          "data": {
            "text/plain": [
              "21"
            ]
          },
          "metadata": {},
          "execution_count": 19
        }
      ]
    }
  ]
}