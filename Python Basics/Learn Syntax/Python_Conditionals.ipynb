{
  "nbformat": 4,
  "nbformat_minor": 0,
  "metadata": {
    "colab": {
      "provenance": []
    },
    "kernelspec": {
      "name": "python3",
      "display_name": "Python 3"
    },
    "language_info": {
      "name": "python"
    }
  },
  "cells": [
    {
      "cell_type": "markdown",
      "source": [
        "## Simple Condition\n",
        "\n",
        "---\n",
        "\n"
      ],
      "metadata": {
        "id": "4fl15RzITuJD"
      }
    },
    {
      "cell_type": "code",
      "execution_count": 2,
      "metadata": {
        "colab": {
          "base_uri": "https://localhost:8080/"
        },
        "id": "jnV4U2UWTDoO",
        "outputId": "6095bf42-cabf-4868-debc-5cd246dd5ca1"
      },
      "outputs": [
        {
          "output_type": "stream",
          "name": "stdout",
          "text": [
            "x is greater than 5\n"
          ]
        }
      ],
      "source": [
        "# Example 1: Simple condition\n",
        "x = 10\n",
        "\n",
        "if x > 5:\n",
        "    print(\"x is greater than 5\")\n",
        "else:\n",
        "    print(\"x is not greater than 5\")\n",
        "\n"
      ]
    },
    {
      "cell_type": "markdown",
      "source": [
        "## Using elif\n",
        "\n",
        "---\n",
        "\n"
      ],
      "metadata": {
        "id": "McdFyAeAT4YM"
      }
    },
    {
      "cell_type": "code",
      "source": [
        "# Example 2: Using elif for multiple conditions\n",
        "y = 15\n",
        "\n",
        "if y < 10:\n",
        "    print(\"y is less than 10\")\n",
        "elif y == 10:\n",
        "    print(\"y is exactly 10\")\n",
        "else:\n",
        "    print(\"y is greater than 10\")\n",
        "\n"
      ],
      "metadata": {
        "colab": {
          "base_uri": "https://localhost:8080/"
        },
        "id": "rCKiVu-GTI79",
        "outputId": "244f820b-ee38-415a-aac7-f0310452b9cc"
      },
      "execution_count": 3,
      "outputs": [
        {
          "output_type": "stream",
          "name": "stdout",
          "text": [
            "y is greater than 10\n"
          ]
        }
      ]
    },
    {
      "cell_type": "markdown",
      "source": [
        "## Nested Conditions\n",
        "\n",
        "---\n",
        "\n"
      ],
      "metadata": {
        "id": "NmjPm-lZT_0k"
      }
    },
    {
      "cell_type": "code",
      "source": [
        "# Example 3: Nested conditions\n",
        "z = 20\n",
        "\n",
        "if z > 10:\n",
        "    if z < 30:\n",
        "        print(\"z is between 10 and 30\")\n",
        "    else:\n",
        "        print(\"z is 30 or greater\")\n",
        "else:\n",
        "    print(\"z is 10 or less\")\n",
        "\n",
        "\n"
      ],
      "metadata": {
        "colab": {
          "base_uri": "https://localhost:8080/"
        },
        "id": "orObc0tPT7xA",
        "outputId": "cf9dec35-7044-4f35-98a3-18d3916620a0"
      },
      "execution_count": 4,
      "outputs": [
        {
          "output_type": "stream",
          "name": "stdout",
          "text": [
            "z is between 10 and 30\n"
          ]
        }
      ]
    },
    {
      "cell_type": "markdown",
      "source": [
        "## Combining conditions with 'and' and 'or'\n",
        "\n",
        "---\n",
        "\n"
      ],
      "metadata": {
        "id": "qnnfCZWoUJH6"
      }
    },
    {
      "cell_type": "code",
      "source": [
        "# Example 4: Combining conditions with 'and' and 'or'\n",
        "a = 5\n",
        "b = 20\n",
        "\n",
        "if a > 0 and b > 10:\n",
        "    print(\"Both conditions are true\")\n",
        "\n",
        "if a > 0 or b < 10:\n",
        "    print(\"At least one of the conditions is true\")"
      ],
      "metadata": {
        "id": "0xXQeu_HUDO7"
      },
      "execution_count": null,
      "outputs": []
    }
  ]
}