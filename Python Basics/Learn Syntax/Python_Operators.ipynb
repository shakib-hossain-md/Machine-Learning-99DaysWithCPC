{
  "nbformat": 4,
  "nbformat_minor": 0,
  "metadata": {
    "colab": {
      "provenance": []
    },
    "kernelspec": {
      "name": "python3",
      "display_name": "Python 3"
    },
    "language_info": {
      "name": "python"
    }
  },
  "cells": [
    {
      "cell_type": "markdown",
      "source": [
        "## Python Arithmetic Operators\n",
        "\n",
        "---\n",
        "\n"
      ],
      "metadata": {
        "id": "_NG5XyV8LrLp"
      }
    },
    {
      "cell_type": "code",
      "execution_count": 1,
      "metadata": {
        "colab": {
          "base_uri": "https://localhost:8080/"
        },
        "id": "S1luWpslKIRL",
        "outputId": "f674975c-ba29-4a8b-9c7f-e11b0316a085"
      },
      "outputs": [
        {
          "output_type": "stream",
          "name": "stdout",
          "text": [
            "a + b = 15\n",
            "a - b = 5\n",
            "a * b = 50\n",
            "a / b = 2.0\n",
            "a % b = 0\n",
            "a // b = 2\n",
            "a ** b = 100000\n"
          ]
        }
      ],
      "source": [
        "\"\"\"Arithmetic operators ae used with numeric values to perform\n",
        "common mathematical operations.\"\"\"\n",
        "# Assigning values to variables\n",
        "a = 10\n",
        "b = 5\n",
        "# Addition\n",
        "print('a + b =', a + b)\n",
        "# Subtraction\n",
        "print('a - b =', a - b)\n",
        "# Multiplication\n",
        "print('a * b =', a * b)\n",
        "# Division\n",
        "print('a / b =', a / b)\n",
        "# Modulus\n",
        "print('a % b =', a % b)\n",
        "# Floor Division\n",
        "print('a // b =', a // b)\n",
        "# Exponent\n",
        "print('a ** b =', a ** b)"
      ]
    },
    {
      "cell_type": "markdown",
      "source": [
        "## Python Assignment Operators\n",
        "\n",
        "---\n",
        "\n"
      ],
      "metadata": {
        "id": "uvS-W1DgMP6-"
      }
    },
    {
      "cell_type": "code",
      "source": [
        "\"\"\"Assignment operators are used to assign values to variables.\"\"\"\n",
        "# Assigning the values to variables\n",
        "a = 15\n",
        "b = 5\n",
        "# Simple assignment operator\n",
        "b = a\n",
        "print('b = a: ',b)\n",
        "# ADD AND operator\n",
        "b += a\n",
        "print('b += a: ', b)\n",
        "# SUBTRACT AND operatpr\n",
        "b -= a\n",
        "print('b -= a: ', b)\n",
        "# MULTIPLICATION AND operator\n",
        "b *= a\n",
        "print('b *= a: ', b)\n",
        "# DIVISION AND operator\n",
        "b /= a\n",
        "print('b /= a: ', b)\n",
        "# FLOOR AND operator\n",
        "b //= a\n",
        "print('b //= a: ', b)\n",
        "# MODULUS AND operator\n",
        "b %= a\n",
        "print('b %= a: ', b)\n",
        "# EXPONENT AND operator\n",
        "b **= a\n",
        "print('b **= a: ', b)\n",
        "# LESS THAN AND operator\n",
        "b <= a\n",
        "print('b <= a: ', b)\n",
        "# GREATOR THAN AND operator\n",
        "b >= a\n",
        "print('b >= a: ', b)\n",
        "# BINARY AND operator\n",
        "a &= 5\n",
        "print('a &= 5: ', a)\n",
        "# BINARY OR operator\n",
        "a |= 5\n",
        "print('a |= 5: ', a)"
      ],
      "metadata": {
        "colab": {
          "base_uri": "https://localhost:8080/"
        },
        "id": "hLKwsI2dMEwh",
        "outputId": "eee57d80-9884-46ec-e18f-7ed7a904a4ff"
      },
      "execution_count": 2,
      "outputs": [
        {
          "output_type": "stream",
          "name": "stdout",
          "text": [
            "b = a:  15\n",
            "b += a:  30\n",
            "b -= a:  15\n",
            "b *= a:  225\n",
            "b /= a:  15.0\n",
            "b //= a:  1.0\n",
            "b %= a:  1.0\n",
            "b **= a:  1.0\n",
            "b <= a:  1.0\n",
            "b >= a:  1.0\n",
            "a &= 5:  5\n",
            "a |= 5:  5\n"
          ]
        }
      ]
    },
    {
      "cell_type": "markdown",
      "source": [
        "## Python Comparison Operators\n",
        "\n",
        "---\n",
        "\n"
      ],
      "metadata": {
        "id": "FESxFvqWNAKG"
      }
    },
    {
      "cell_type": "code",
      "source": [
        "# Comparison operators are used to compare two values.\n",
        "# Assigning values to variables\n",
        "a = 10\n",
        "b = 5\n",
        "# Greater than\n",
        "print('a > b =', a > b)\n",
        "# Lesser than\n",
        "print('a < b =', a < b)\n",
        "# Equal to\n",
        "print('a == b =', a == b)\n",
        "# Not equal to\n",
        "print('a != b =', a != b)\n",
        "# Greater than or equal to\n",
        "print('a >= b =', a >= b)\n",
        "# Lesser than or equal to\n",
        "print('a <= b =', a <= b)"
      ],
      "metadata": {
        "colab": {
          "base_uri": "https://localhost:8080/"
        },
        "id": "NJiAPi6YM-GX",
        "outputId": "9e998564-c9cf-4783-8f72-0be7cc1aa1f2"
      },
      "execution_count": 3,
      "outputs": [
        {
          "output_type": "stream",
          "name": "stdout",
          "text": [
            "a > b = True\n",
            "a < b = False\n",
            "a == b = False\n",
            "a != b = True\n",
            "a >= b = True\n",
            "a <= b = False\n"
          ]
        }
      ]
    },
    {
      "cell_type": "markdown",
      "source": [
        "## Python Logical Operators\n",
        "\n",
        "---\n",
        "\n"
      ],
      "metadata": {
        "id": "qbkzt2sDNgz_"
      }
    },
    {
      "cell_type": "code",
      "source": [
        "# Logical operators are used to combine conditional statements.\n",
        "# Assigning values to variable\n",
        "a = True\n",
        "b = False\n",
        "# Logical and\n",
        "print('a and b is',a and b)\n",
        "# Logical or\n",
        "print('a or b is',a or b)\n",
        "# Logical not\n",
        "print('not a is',not a)"
      ],
      "metadata": {
        "colab": {
          "base_uri": "https://localhost:8080/"
        },
        "id": "lBlEBU5tNfkR",
        "outputId": "755084ac-22f8-404a-8bdf-d2aa2b7cf866"
      },
      "execution_count": 4,
      "outputs": [
        {
          "output_type": "stream",
          "name": "stdout",
          "text": [
            "a and b is False\n",
            "a or b is True\n",
            "not a is False\n"
          ]
        }
      ]
    },
    {
      "cell_type": "markdown",
      "source": [
        "## Python Identity Operators\n",
        "\n",
        "---\n",
        "\n"
      ],
      "metadata": {
        "id": "U0eIYqwjOezY"
      }
    },
    {
      "cell_type": "code",
      "source": [
        "\"\"\"Identity Operators are used to test if a sequence is presented in an object.\"\"\"\n",
        "# Assigning values to variables\n",
        "a = 10\n",
        "b = 11\n",
        "# Identity is operator\n",
        "print('a is b is',a is b)\n",
        "# Identity is not operator\n",
        "print('a is not b is',a is not b)"
      ],
      "metadata": {
        "colab": {
          "base_uri": "https://localhost:8080/"
        },
        "id": "utEGXvPmOETF",
        "outputId": "bc2962f3-4631-4044-d974-0b4581a5cb86"
      },
      "execution_count": 5,
      "outputs": [
        {
          "output_type": "stream",
          "name": "stdout",
          "text": [
            "a is b is False\n",
            "a is not b is True\n"
          ]
        }
      ]
    },
    {
      "cell_type": "markdown",
      "source": [
        "## Python Bitwise Operators\n",
        "\n",
        "---\n",
        "\n"
      ],
      "metadata": {
        "id": "WwnxrUZlP8_8"
      }
    },
    {
      "cell_type": "code",
      "source": [
        "\"\"\"Bitwise operators are used to compare (binary) numbers\"\"\"\n",
        "# Assigning values to variables\n",
        "a = 10\n",
        "b = 11\n",
        "# Bitwise AND\n",
        "print('a & b is',a & b)\n",
        "# Bitwise OR\n",
        "print('a | b is',a | b)\n",
        "# Bitwise XOR\n",
        "print('a ^ b is',a ^ b)\n",
        "# Bitwise NOT\n",
        "print('~a is',~a)\n",
        "# Bitwise Left Shift\n",
        "print('a << b is',a << b)\n",
        "# Bitwise Right Shift\n",
        "print('a >> b is',a >> b)"
      ],
      "metadata": {
        "colab": {
          "base_uri": "https://localhost:8080/"
        },
        "id": "z_InmIc8P7wz",
        "outputId": "4e3d1db5-02f8-472d-e19f-699348e4155b"
      },
      "execution_count": 6,
      "outputs": [
        {
          "output_type": "stream",
          "name": "stdout",
          "text": [
            "a & b is 10\n",
            "a | b is 11\n",
            "a ^ b is 1\n",
            "~a is -11\n",
            "a << b is 20480\n",
            "a >> b is 0\n"
          ]
        }
      ]
    },
    {
      "cell_type": "markdown",
      "source": [
        "## Oprator Precedence\n",
        "\n",
        "---\n",
        "\n"
      ],
      "metadata": {
        "id": "TbNQCAcQRvgF"
      }
    },
    {
      "cell_type": "code",
      "source": [
        "# Example of operator precedence\n",
        "\n",
        "# Without parentheses, following operator precedence rules\n",
        "result1 = 3 + 5 * 2 ** 2\n",
        "print(\"Result without parentheses (3 + 5 * 2 ** 2):\", result1)  # Expected output: 23\n",
        "\n",
        "# Using parentheses to change the order of operations\n",
        "result2 = (3 + 5) * 2 ** 2\n",
        "print(\"Result with parentheses ((3 + 5) * 2 ** 2):\", result2)  # Expected output: 32\n",
        "\n",
        "# Using different operators to observe precedence\n",
        "a = 10\n",
        "b = 3\n",
        "result3 = a + b * 2 - 4 / 2\n",
        "print(\"Result of a + b * 2 - 4 / 2:\", result3)  # Expected output: 15.0\n",
        "\n",
        "# Logical operators with precedence\n",
        "x = True\n",
        "y = False\n",
        "result4 = not x or y and x\n",
        "print(\"Result of not x or y and x:\", result4)  # Expected output: False\n",
        "\n",
        "# Assignment with multiple operators\n",
        "c = 2\n",
        "c += 3 * 2 ** 2\n",
        "print(\"Result of c += 3 * 2 ** 2:\", c)  # Expected output: 14\n"
      ],
      "metadata": {
        "colab": {
          "base_uri": "https://localhost:8080/"
        },
        "id": "kM-ryrimRCmy",
        "outputId": "08783d89-86aa-436c-fdc3-e0bd86a499b2"
      },
      "execution_count": 7,
      "outputs": [
        {
          "output_type": "stream",
          "name": "stdout",
          "text": [
            "Result without parentheses (3 + 5 * 2 ** 2): 23\n",
            "Result with parentheses ((3 + 5) * 2 ** 2): 32\n",
            "Result of a + b * 2 - 4 / 2: 14.0\n",
            "Result of not x or y and x: False\n",
            "Result of c += 3 * 2 ** 2: 14\n"
          ]
        }
      ]
    }
  ]
}