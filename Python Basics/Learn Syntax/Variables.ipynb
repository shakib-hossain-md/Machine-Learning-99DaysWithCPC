{
  "nbformat": 4,
  "nbformat_minor": 0,
  "metadata": {
    "colab": {
      "provenance": []
    },
    "kernelspec": {
      "name": "python3",
      "display_name": "Python 3"
    },
    "language_info": {
      "name": "python"
    }
  },
  "cells": [
    {
      "cell_type": "markdown",
      "source": [
        "## Python Variables\n",
        "\n",
        "---\n",
        "\n"
      ],
      "metadata": {
        "id": "L7hjCX5F5tVC"
      }
    },
    {
      "cell_type": "code",
      "execution_count": null,
      "metadata": {
        "colab": {
          "base_uri": "https://localhost:8080/"
        },
        "id": "SHJtkRsHsX5N",
        "outputId": "a87ffcd8-b3af-4634-eca5-4903796c7497"
      },
      "outputs": [
        {
          "output_type": "stream",
          "name": "stdout",
          "text": [
            "5\n",
            "John\n"
          ]
        }
      ],
      "source": [
        "# Creating variables\n",
        "\"\"\"Python has no commands for declaring a variable.\n",
        "A variable is created the moment you first assign a value to it.\"\"\"\n",
        "\n",
        "x = 5\n",
        "y = \"John\"\n",
        "print(x)\n",
        "print(y)"
      ]
    },
    {
      "cell_type": "code",
      "source": [
        "# Ex:\n",
        "x = 4       # x is of type int\n",
        "x = \"Sally\" # x is now of type str\n",
        "print(x)"
      ],
      "metadata": {
        "colab": {
          "base_uri": "https://localhost:8080/"
        },
        "id": "Qyw7hqwcvo7k",
        "outputId": "db128965-a96f-4e9c-9610-52e5442dfc63"
      },
      "execution_count": null,
      "outputs": [
        {
          "output_type": "stream",
          "name": "stdout",
          "text": [
            "Sally\n"
          ]
        }
      ]
    },
    {
      "cell_type": "code",
      "source": [
        "# Creating variables\n",
        "\"\"\"Python has no command for declaring a variable.\n",
        "A variable is created the moment you first assign a value to it.\"\"\"\n",
        "# Ex:\n",
        "x = 5\n",
        "y = \"Sakib\"\n",
        "print(x)\n",
        "print(y)"
      ],
      "metadata": {
        "id": "OKCcVb_Lwz-g",
        "colab": {
          "base_uri": "https://localhost:8080/"
        },
        "outputId": "b8aeedc5-1b11-4348-cc31-55ccb44542b5"
      },
      "execution_count": 4,
      "outputs": [
        {
          "output_type": "stream",
          "name": "stdout",
          "text": [
            "5\n",
            "Sakib\n"
          ]
        }
      ]
    },
    {
      "cell_type": "code",
      "source": [
        "\"\"\"\"Variables do not need to be declared with any particular type, and can even change type after they have been set\"\"\"\n",
        "# Ex:\n",
        "x = 5\n",
        "x = \"Sakib\"\n",
        "print(x)"
      ],
      "metadata": {
        "colab": {
          "base_uri": "https://localhost:8080/"
        },
        "id": "U6j07Lvdx3Ds",
        "outputId": "e13b4d85-2f5f-4c9a-a641-01f8e0aaa70e"
      },
      "execution_count": 6,
      "outputs": [
        {
          "output_type": "stream",
          "name": "stdout",
          "text": [
            "Sakib\n"
          ]
        }
      ]
    },
    {
      "cell_type": "code",
      "source": [
        "# Casting\n",
        "\"\"\"If youwant to specify the data type of a variable, this can be done with casting.\"\"\"\n",
        "# Ex:\n",
        "x=str(3)\n",
        "y=int(3)\n",
        "z=float(3)\n",
        "\n",
        "print(x)\n",
        "print(y)\n",
        "print(z)"
      ],
      "metadata": {
        "colab": {
          "base_uri": "https://localhost:8080/"
        },
        "id": "aBg8_aTayvvi",
        "outputId": "fc4b3875-fdca-4e75-eb7a-df76d39de3a2"
      },
      "execution_count": 7,
      "outputs": [
        {
          "output_type": "stream",
          "name": "stdout",
          "text": [
            "3\n",
            "3\n",
            "3.0\n"
          ]
        }
      ]
    },
    {
      "cell_type": "code",
      "source": [
        "# Get the type\n",
        "# You can get the type of a variable with the type() function.\n",
        "# Ex:\n",
        "x = 5\n",
        "y = \"sakib\"\n",
        "\n",
        "print(type(x))\n",
        "print(type(y))"
      ],
      "metadata": {
        "colab": {
          "base_uri": "https://localhost:8080/"
        },
        "id": "ewitKHbizbXd",
        "outputId": "34c60903-7084-451b-9845-64bca1090631"
      },
      "execution_count": 9,
      "outputs": [
        {
          "output_type": "stream",
          "name": "stdout",
          "text": [
            "<class 'int'>\n",
            "<class 'str'>\n"
          ]
        }
      ]
    },
    {
      "cell_type": "code",
      "source": [
        "# Single or Double Quotes\n",
        "\"\"\"String can be deaclared either by using single or double quotes.\"\"\"\n",
        "x = \"sakib\"\n",
        "x = 'sakib'\n",
        "print(x)"
      ],
      "metadata": {
        "colab": {
          "base_uri": "https://localhost:8080/"
        },
        "id": "hTWS7UKKz9-r",
        "outputId": "502fee2f-2b57-40c5-89f7-0b74ee9b4123"
      },
      "execution_count": 10,
      "outputs": [
        {
          "output_type": "stream",
          "name": "stdout",
          "text": [
            "sakib\n"
          ]
        }
      ]
    },
    {
      "cell_type": "code",
      "source": [
        "# Case Sensitive\n",
        "# Variable names are case-sensitive.\n",
        "# Ex: This will create two variables.\n",
        "a = 5\n",
        "A = \"Sakib\"\n",
        "\n",
        "print(a)\n",
        "print(A)"
      ],
      "metadata": {
        "colab": {
          "base_uri": "https://localhost:8080/"
        },
        "id": "JdHA11q_0o8t",
        "outputId": "cd5b2675-c5e0-4df7-d9a4-09dd763b1abf"
      },
      "execution_count": 12,
      "outputs": [
        {
          "output_type": "stream",
          "name": "stdout",
          "text": [
            "5\n",
            "Sakib\n"
          ]
        }
      ]
    },
    {
      "cell_type": "markdown",
      "source": [
        "## Variable Names\n",
        "\n",
        "---\n",
        "\n"
      ],
      "metadata": {
        "id": "UqJ2rom65g-p"
      }
    },
    {
      "cell_type": "code",
      "source": [
        "# Variable Names\n",
        "# Ex: Legal variable names.\n",
        "myvar=\"sakib\"\n",
        "my_var=\"sakib\"\n",
        "_my_var=\"sakib\"\n",
        "MyVar=\"sakib\"\n",
        "MYVAR=\"sakib\"\n",
        "myvar2=\"sakib\"\n",
        "\n",
        "print(myvar)\n",
        "print(my_var)\n",
        "print(_my_var)\n",
        "print(MyVar)\n",
        "print(MYVAR)\n",
        "print(myvar2)"
      ],
      "metadata": {
        "colab": {
          "base_uri": "https://localhost:8080/"
        },
        "id": "50_qSfJu2uB4",
        "outputId": "74304d6f-26e5-4d63-c99e-4f1563dbe2b3"
      },
      "execution_count": 13,
      "outputs": [
        {
          "output_type": "stream",
          "name": "stdout",
          "text": [
            "sakib\n",
            "sakib\n",
            "sakib\n",
            "sakib\n",
            "sakib\n",
            "sakib\n"
          ]
        }
      ]
    },
    {
      "cell_type": "code",
      "source": [
        "# Multi words varible names\n",
        "\"\"\"Variable names with more than one word can be difficult to read.\n",
        "There are several techniques you can use to make the more readable.\"\"\"\n",
        "# Ex: Camel Case\n",
        "# Each word,except the first, starts with a capital letter.\n",
        "myVariableName=\"sakib\"\n",
        "print(myVariableName)\n",
        "\n",
        "# Pascal Case\n",
        "# Each word start with capital letter\n",
        "MyVariableName=\"sakib\"\n",
        "print(MyVariableName)\n",
        "\n",
        "# Snake Case\n",
        "# Each word is seperated by an underscore character\n",
        "my_variable_name=\"sakib\"\n",
        "print(my_variable_name)"
      ],
      "metadata": {
        "colab": {
          "base_uri": "https://localhost:8080/"
        },
        "id": "GYnApnQL4PNr",
        "outputId": "d172257a-a6d9-4b13-ad7b-896de1c14cd5"
      },
      "execution_count": 15,
      "outputs": [
        {
          "output_type": "stream",
          "name": "stdout",
          "text": [
            "sakib\n",
            "sakib\n",
            "sakib\n"
          ]
        }
      ]
    },
    {
      "cell_type": "markdown",
      "source": [
        "## Assign Multiple Values\n",
        "\n",
        "---\n",
        "\n"
      ],
      "metadata": {
        "id": "m3UD7D0s7h1m"
      }
    },
    {
      "cell_type": "code",
      "source": [
        "# Many values to multiple variables\n",
        "# Python allows you to assign values to multiple variables in one line\n",
        "# Ex:\n",
        "x,y,z=\"Orange\",\"Banana\",\"Cherry\"\n",
        "print(x)\n",
        "print(y)\n",
        "print(z)"
      ],
      "metadata": {
        "colab": {
          "base_uri": "https://localhost:8080/"
        },
        "id": "OlWJwATf7CDi",
        "outputId": "f4507c1b-694b-49d3-cad1-30d6bae5200f"
      },
      "execution_count": 16,
      "outputs": [
        {
          "output_type": "stream",
          "name": "stdout",
          "text": [
            "Orange\n",
            "Banana\n",
            "Cherry\n"
          ]
        }
      ]
    },
    {
      "cell_type": "code",
      "source": [
        "# One value to multiple varibales\n",
        "# Ex:\n",
        "x=y=z=\"Orange\"\n",
        "print(x)\n",
        "print(y)\n",
        "print(z)"
      ],
      "metadata": {
        "colab": {
          "base_uri": "https://localhost:8080/"
        },
        "id": "0epKL-mL8U6N",
        "outputId": "4a095e76-50f3-4557-f4f3-30703b7d496a"
      },
      "execution_count": 17,
      "outputs": [
        {
          "output_type": "stream",
          "name": "stdout",
          "text": [
            "Orange\n",
            "Orange\n",
            "Orange\n"
          ]
        }
      ]
    },
    {
      "cell_type": "code",
      "source": [
        "# Unpack a collection\n",
        "\"\"\"If you have a collection of values in a list,tuple etc.\n",
        "Python allows you to extract the values into variables.\n",
        "This is called unpacking.\"\"\"\n",
        "\n",
        "fruits = [\"apple\",\"banana\",\"cherry\"]\n",
        "x,y,z=fruits\n",
        "print(x)\n",
        "print(y)\n",
        "print(z)"
      ],
      "metadata": {
        "colab": {
          "base_uri": "https://localhost:8080/"
        },
        "id": "5AKnQGOI8nwS",
        "outputId": "e05830ef-aa0b-4f39-f28f-6da464f0cb28"
      },
      "execution_count": 18,
      "outputs": [
        {
          "output_type": "stream",
          "name": "stdout",
          "text": [
            "apple\n",
            "banana\n",
            "cherry\n"
          ]
        }
      ]
    },
    {
      "cell_type": "markdown",
      "source": [
        "## Output Variables\n",
        "\n",
        "---\n",
        "\n"
      ],
      "metadata": {
        "id": "fU0i6-6S9WEW"
      }
    },
    {
      "cell_type": "code",
      "source": [
        "# Output variables\n",
        "# The python print() function is often used to output variables.\n",
        "# Ex:\n",
        "x = \"Python is awesome.\"\n",
        "print(x)"
      ],
      "metadata": {
        "colab": {
          "base_uri": "https://localhost:8080/"
        },
        "id": "GejF02IV9Ogm",
        "outputId": "2710c64a-474d-46e6-8b41-ba32e8643e30"
      },
      "execution_count": 19,
      "outputs": [
        {
          "output_type": "stream",
          "name": "stdout",
          "text": [
            "Python is awesome.\n"
          ]
        }
      ]
    },
    {
      "cell_type": "code",
      "source": [
        "# In the print() function, you output multiple variables,seperated by a comma.\n",
        "# Ex:\n",
        "x = \"Python\"\n",
        "y = \"is\"\n",
        "z = \"awesome\"\n",
        "\n",
        "print(x,y,z)"
      ],
      "metadata": {
        "colab": {
          "base_uri": "https://localhost:8080/"
        },
        "id": "9G5fd5Qx9y2Z",
        "outputId": "addc6ab0-c7b6-4048-b9c2-5fbac901d106"
      },
      "execution_count": 20,
      "outputs": [
        {
          "output_type": "stream",
          "name": "stdout",
          "text": [
            "Python is awesome\n"
          ]
        }
      ]
    },
    {
      "cell_type": "code",
      "source": [
        "# You can also use the + operator to ouput multiple variable.\n",
        "# Ex:\n",
        "x = \"Python\"\n",
        "y = \"is\"\n",
        "z = \"awesome\"\n",
        "print(x + y + z)"
      ],
      "metadata": {
        "colab": {
          "base_uri": "https://localhost:8080/"
        },
        "id": "nadvNpNj-TBh",
        "outputId": "e675ba2d-2ff5-4d77-e3d2-ef57e11db7fe"
      },
      "execution_count": 22,
      "outputs": [
        {
          "output_type": "stream",
          "name": "stdout",
          "text": [
            "Pythonisawesome\n"
          ]
        }
      ]
    },
    {
      "cell_type": "code",
      "source": [
        "# For numbers, the + character works as a mathematical operator:\n",
        "# Ex:\n",
        "x = 5\n",
        "y = 10\n",
        "print(x + y)"
      ],
      "metadata": {
        "colab": {
          "base_uri": "https://localhost:8080/"
        },
        "id": "D0WYnTq--mwO",
        "outputId": "9bcd7c4b-7f0f-4d5f-85a4-4fe161fdbeee"
      },
      "execution_count": 23,
      "outputs": [
        {
          "output_type": "stream",
          "name": "stdout",
          "text": [
            "15\n"
          ]
        }
      ]
    },
    {
      "cell_type": "code",
      "source": [
        "# The best way to output multiple variables in the print() function is to separate them with commas, which even support different data types:\n",
        "# Ex:\n",
        "x = 5\n",
        "y = \"John\"\n",
        "print(x, y)"
      ],
      "metadata": {
        "colab": {
          "base_uri": "https://localhost:8080/"
        },
        "id": "F75I1lD5-9d0",
        "outputId": "e14a41db-3ae1-4bf0-ec67-03574d7cdd97"
      },
      "execution_count": 24,
      "outputs": [
        {
          "output_type": "stream",
          "name": "stdout",
          "text": [
            "5 John\n"
          ]
        }
      ]
    },
    {
      "cell_type": "markdown",
      "source": [
        "## Global Variables\n",
        "\n",
        "---\n",
        "\n"
      ],
      "metadata": {
        "id": "PKht_pS0_JkG"
      }
    },
    {
      "cell_type": "code",
      "source": [
        "\"\"\"Variables that are created outside of a function (as in all of the examples in the previous pages)\n",
        " are known as global variables.\n",
        "Global variables can be used by everyone, both inside of functions and outside.\"\"\"\n",
        "\n",
        "# Ex: Create a variable outside of a function, and use it inside the function.\n",
        "x = \"awesome\"\n",
        "def myfunc():\n",
        "  print(\"Python is \" + x)\n",
        "\n",
        "myfunc()"
      ],
      "metadata": {
        "colab": {
          "base_uri": "https://localhost:8080/"
        },
        "id": "TKOTojc__N3E",
        "outputId": "441ac49a-bae4-4183-cbc6-a6c826b82cae"
      },
      "execution_count": 26,
      "outputs": [
        {
          "output_type": "stream",
          "name": "stdout",
          "text": [
            "Python is awesome\n"
          ]
        }
      ]
    },
    {
      "cell_type": "code",
      "source": [
        "# Ex: Create a variable inside a function, with the same name as the global variable\n",
        "x = \"awesome\"\n",
        "def myfunc():\n",
        "  x = \"fantastic\"\n",
        "  print(\"Python is \" + x)\n",
        "\n",
        "myfunc()\n",
        "\n",
        "print(\"Python is \" + x)"
      ],
      "metadata": {
        "colab": {
          "base_uri": "https://localhost:8080/"
        },
        "id": "kZRjhG_-_uih",
        "outputId": "14b99115-0fd9-42c3-b0fe-0cfab60a2841"
      },
      "execution_count": 27,
      "outputs": [
        {
          "output_type": "stream",
          "name": "stdout",
          "text": [
            "Python is fantastic\n",
            "Python is awesome\n"
          ]
        }
      ]
    },
    {
      "cell_type": "code",
      "source": [
        "# The Global Keyword\n",
        "# To create a global variable inside a function, you can use the global keyword.\n",
        "def myfunc():\n",
        "  global x\n",
        "  x = \"fantastic\"\n",
        "\n",
        "myfunc()\n",
        "\n",
        "print(\"Python is \" + x)"
      ],
      "metadata": {
        "colab": {
          "base_uri": "https://localhost:8080/"
        },
        "id": "VpsNLntqAHGt",
        "outputId": "a6139443-6807-443c-aa97-18898ee15e29"
      },
      "execution_count": 28,
      "outputs": [
        {
          "output_type": "stream",
          "name": "stdout",
          "text": [
            "Python is fantastic\n"
          ]
        }
      ]
    },
    {
      "cell_type": "code",
      "source": [
        "# Also, use the global keyword if you want to change a global variable inside a function.\n",
        "# Ex: To change the value of a global variable inside a function, refer to the variable by using the global keyword:\n",
        "x = \"awesome\"\n",
        "def myfunc():\n",
        "  global x\n",
        "  x = \"fantastic\"\n",
        "\n",
        "myfunc()\n",
        "\n",
        "print(\"Python is \" + x)"
      ],
      "metadata": {
        "colab": {
          "base_uri": "https://localhost:8080/"
        },
        "id": "N8sthyBGAiwG",
        "outputId": "3e75d6b1-70d6-4813-dd80-09c171dc5f32"
      },
      "execution_count": 29,
      "outputs": [
        {
          "output_type": "stream",
          "name": "stdout",
          "text": [
            "Python is fantastic\n"
          ]
        }
      ]
    }
  ]
}