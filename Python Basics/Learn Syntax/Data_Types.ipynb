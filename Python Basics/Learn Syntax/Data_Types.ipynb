{
  "nbformat": 4,
  "nbformat_minor": 0,
  "metadata": {
    "colab": {
      "provenance": []
    },
    "kernelspec": {
      "name": "python3",
      "display_name": "Python 3"
    },
    "language_info": {
      "name": "python"
    }
  },
  "cells": [
    {
      "cell_type": "code",
      "execution_count": 1,
      "metadata": {
        "colab": {
          "base_uri": "https://localhost:8080/"
        },
        "id": "plJdla21CGN3",
        "outputId": "855e7336-64a4-42ec-e653-68448b064bac"
      },
      "outputs": [
        {
          "output_type": "stream",
          "name": "stdout",
          "text": [
            "5\n",
            "<class 'int'>\n"
          ]
        }
      ],
      "source": [
        "# Getting the Data Type\n",
        "x = 5\n",
        "print(x)\n",
        "print(type(x))"
      ]
    },
    {
      "cell_type": "code",
      "source": [
        "# Setting the data type\n",
        "x = \"Sakib Hossain\"\n",
        "print(x)\n",
        "print(type(x))\n",
        "\n",
        "x = 95\n",
        "print(x)\n",
        "print(type(x))\n",
        "\n",
        "x = 20.5\n",
        "print(x)\n",
        "print(type(x))\n",
        "\n",
        "x = 1j\n",
        "print(x)\n",
        "print(type(x))\n",
        "\n",
        "x = [\"apple\",\"banana\",\"cherry\"]\n",
        "print(x)\n",
        "print(type(x))\n",
        "\n",
        "x = (\"apple\",\"banana\",\"cherry\")\n",
        "print(x)\n",
        "print(type(x))\n",
        "\n",
        "x = range(6)\n",
        "print(x)\n",
        "print(type(x))\n",
        "\n",
        "x = {\"name\": \"sakib\", \"age\": 23}\n",
        "print(x)\n",
        "print(type(x))\n",
        "\n",
        "x = {\"apple\",\"banana\",\"cherry\"}\n",
        "print(x)\n",
        "print(type(x))\n",
        "\n",
        "x = True\n",
        "print(x)\n",
        "print(type(x))\n",
        "\n",
        "x = b\"Sakib\"\n",
        "print(x)\n",
        "print(type(x))\n",
        "\n",
        "x = bytearray(5)\n",
        "print(x)\n",
        "print(type(x))\n",
        "\n",
        "x = memoryview(bytes(5))\n",
        "print(x)\n",
        "print(type(x))\n",
        "\n",
        "x = None\n",
        "print(x)\n",
        "print(type(x))"
      ],
      "metadata": {
        "colab": {
          "base_uri": "https://localhost:8080/"
        },
        "id": "SqYTTe8WDLln",
        "outputId": "28bd2e91-5f61-451e-f8b1-9cf41fd40c0e"
      },
      "execution_count": 4,
      "outputs": [
        {
          "output_type": "stream",
          "name": "stdout",
          "text": [
            "Sakib Hossain\n",
            "<class 'str'>\n",
            "95\n",
            "<class 'int'>\n",
            "20.5\n",
            "<class 'float'>\n",
            "1j\n",
            "<class 'complex'>\n",
            "['apple', 'banana', 'cherry']\n",
            "<class 'list'>\n",
            "('apple', 'banana', 'cherry')\n",
            "<class 'tuple'>\n",
            "range(0, 6)\n",
            "<class 'range'>\n",
            "{'name': 'sakib', 'age': 23}\n",
            "<class 'dict'>\n",
            "{'cherry', 'banana', 'apple'}\n",
            "<class 'set'>\n",
            "True\n",
            "<class 'bool'>\n",
            "b'Sakib'\n",
            "<class 'bytes'>\n",
            "bytearray(b'\\x00\\x00\\x00\\x00\\x00')\n",
            "<class 'bytearray'>\n",
            "<memory at 0x7cbb963fbe80>\n",
            "<class 'memoryview'>\n",
            "None\n",
            "<class 'NoneType'>\n"
          ]
        }
      ]
    },
    {
      "cell_type": "code",
      "source": [
        "# Setting the specific data types\n",
        "x = str(\"Sakib Hossain\")\n",
        "print(x)\n",
        "print(type(x))\n",
        "\n",
        "x = int(95)\n",
        "print(x)\n",
        "print(type(x))\n",
        "\n",
        "x = float(20.5)\n",
        "print(x)\n",
        "print(type(x))\n",
        "\n",
        "x = complex(1j)\n",
        "print(x)\n",
        "print(type(x))\n",
        "\n",
        "x = list((\"apple\",\"banana\",\"cherry\"))\n",
        "print(x)\n",
        "print(type(x))\n",
        "\n",
        "x = tuple((\"apple\",\"banana\",\"cherry\"))\n",
        "print(x)\n",
        "print(type(x))\n",
        "\n",
        "x = range(6)\n",
        "print(x)\n",
        "print(type(x))\n",
        "\n",
        "x = dict(name= \"sakib\", age= 23)\n",
        "print(x)\n",
        "print(type(x))\n",
        "\n",
        "x = set((\"apple\",\"banana\",\"cherry\"))\n",
        "print(x)\n",
        "print(type(x))\n",
        "\n",
        "x = frozenset((\"apple\",\"banana\",\"cherry\"))\n",
        "print(x)\n",
        "print(type(x))\n",
        "\n",
        "x = bool(5)\n",
        "print(x)\n",
        "print(type(x))\n",
        "\n",
        "x = bytes(5)\n",
        "print(x)\n",
        "print(type(x))\n",
        "\n",
        "x = bytearray(5)\n",
        "print(x)\n",
        "print(type(x))\n",
        "\n",
        "x = memoryview(bytearray(5))\n",
        "print(x)\n",
        "print(type(x))"
      ],
      "metadata": {
        "colab": {
          "base_uri": "https://localhost:8080/"
        },
        "id": "nvJdCUpAEt9a",
        "outputId": "aab95f8f-9db4-4210-b7b4-83850285cb86"
      },
      "execution_count": 6,
      "outputs": [
        {
          "output_type": "stream",
          "name": "stdout",
          "text": [
            "Sakib Hossain\n",
            "<class 'str'>\n",
            "95\n",
            "<class 'int'>\n",
            "20.5\n",
            "<class 'float'>\n",
            "1j\n",
            "<class 'complex'>\n",
            "['apple', 'banana', 'cherry']\n",
            "<class 'list'>\n",
            "('apple', 'banana', 'cherry')\n",
            "<class 'tuple'>\n",
            "range(0, 6)\n",
            "<class 'range'>\n",
            "{'name': 'sakib', 'age': 23}\n",
            "<class 'dict'>\n",
            "{'cherry', 'banana', 'apple'}\n",
            "<class 'set'>\n",
            "frozenset({'cherry', 'banana', 'apple'})\n",
            "<class 'frozenset'>\n",
            "True\n",
            "<class 'bool'>\n",
            "b'\\x00\\x00\\x00\\x00\\x00'\n",
            "<class 'bytes'>\n",
            "bytearray(b'\\x00\\x00\\x00\\x00\\x00')\n",
            "<class 'bytearray'>\n",
            "<memory at 0x7cbb96168580>\n",
            "<class 'memoryview'>\n"
          ]
        }
      ]
    }
  ]
}