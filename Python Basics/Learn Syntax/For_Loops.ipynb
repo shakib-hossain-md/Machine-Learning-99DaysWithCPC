{
  "nbformat": 4,
  "nbformat_minor": 0,
  "metadata": {
    "colab": {
      "provenance": [],
      "collapsed_sections": [
        "1s9b6-zkVR1S",
        "ac8qJaJfV80Z",
        "XZW8glMFWLBR",
        "DY8y-PBJXheP",
        "E836UcyuX6S_",
        "_IWyIaT6ZAef",
        "geT2evFYZrl4",
        "E-zN9G16a5MW",
        "GmonbYaGbQYO"
      ]
    },
    "kernelspec": {
      "name": "python3",
      "display_name": "Python 3"
    },
    "language_info": {
      "name": "python"
    }
  },
  "cells": [
    {
      "cell_type": "markdown",
      "source": [
        "## Python For Loops\n",
        "\n",
        "---\n",
        "\n"
      ],
      "metadata": {
        "id": "1s9b6-zkVR1S"
      }
    },
    {
      "cell_type": "code",
      "execution_count": 1,
      "metadata": {
        "colab": {
          "base_uri": "https://localhost:8080/"
        },
        "id": "G0mm4u0vU5ea",
        "outputId": "63bc619b-b1a4-42eb-e0f9-f5adee2f1ee7"
      },
      "outputs": [
        {
          "output_type": "stream",
          "name": "stdout",
          "text": [
            "apple\n",
            "banana\n",
            "cherry\n"
          ]
        }
      ],
      "source": [
        "# A for loop is used for iterating over a sequence (that is either a list, a tuple, a dictionary, a set, or a string).\n",
        "# Ex: Print each fruit in a fruit list\n",
        "fruits = [\"apple\", \"banana\", \"cherry\"]\n",
        "for x in fruits:\n",
        "  print(x)"
      ]
    },
    {
      "cell_type": "markdown",
      "source": [
        "## Looping Through a String\n",
        "\n",
        "---\n",
        "\n"
      ],
      "metadata": {
        "id": "ac8qJaJfV80Z"
      }
    },
    {
      "cell_type": "code",
      "source": [
        "# Ex: Loop through the letters in the word \"banana\":\n",
        "for x in \"banana\":\n",
        "  print(x)"
      ],
      "metadata": {
        "colab": {
          "base_uri": "https://localhost:8080/"
        },
        "id": "2ZdJ7pLfVhz2",
        "outputId": "1c5e7217-bece-479f-986a-c34cea32dec9"
      },
      "execution_count": 4,
      "outputs": [
        {
          "output_type": "stream",
          "name": "stdout",
          "text": [
            "b\n",
            "a\n",
            "n\n",
            "a\n",
            "n\n",
            "a\n"
          ]
        }
      ]
    },
    {
      "cell_type": "markdown",
      "source": [
        "## The Break Statement\n",
        "\n",
        "---\n",
        "\n"
      ],
      "metadata": {
        "id": "XZW8glMFWLBR"
      }
    },
    {
      "cell_type": "code",
      "source": [
        "# With the break statement we can stop the loop before it has looped through all the items.\n",
        "# Ex: Exit the loop when x is \"banana\".\n",
        "fruits = [\"apple\", \"banana\", \"cherry\"]\n",
        "for x in fruits:\n",
        "  print(x)\n",
        "  if x == \"banana\":\n",
        "    break\n",
        "\n",
        "# Ex: Exit the loop when x is \"banana\", but this time the break comes before the print.\n",
        "fruits = [\"apple\", \"banana\", \"cherry\"]\n",
        "for x in fruits:\n",
        "  if x == \"banana\":\n",
        "    break\n",
        "  print(x)"
      ],
      "metadata": {
        "colab": {
          "base_uri": "https://localhost:8080/"
        },
        "id": "9g1u6AJnWHlD",
        "outputId": "adfb64d3-6d5b-4d75-d08c-235caf3fc26d"
      },
      "execution_count": 7,
      "outputs": [
        {
          "output_type": "stream",
          "name": "stdout",
          "text": [
            "apple\n",
            "banana\n",
            "apple\n"
          ]
        }
      ]
    },
    {
      "cell_type": "markdown",
      "source": [],
      "metadata": {
        "id": "OWkjeUEOXGfI"
      }
    },
    {
      "cell_type": "markdown",
      "source": [
        "## The continue Statement\n",
        "\n",
        "---\n",
        "\n"
      ],
      "metadata": {
        "id": "DY8y-PBJXheP"
      }
    },
    {
      "cell_type": "code",
      "source": [
        "# With the continue statement we can stop the current iteration of the loop, and continue with the next:\n",
        "# Ex:Do not print banana:\n",
        "fruits = [\"apple\", \"banana\", \"cherry\"]\n",
        "for x in fruits:\n",
        "  if x == \"banana\":\n",
        "    continue\n",
        "  print(x)"
      ],
      "metadata": {
        "colab": {
          "base_uri": "https://localhost:8080/"
        },
        "id": "drdIZpqTWUmL",
        "outputId": "6455ddc2-eab9-4020-c45f-cd635e86c9f9"
      },
      "execution_count": 8,
      "outputs": [
        {
          "output_type": "stream",
          "name": "stdout",
          "text": [
            "apple\n",
            "cherry\n"
          ]
        }
      ]
    },
    {
      "cell_type": "markdown",
      "source": [
        "## The range() function\n",
        "\n",
        "---\n",
        "\n"
      ],
      "metadata": {
        "id": "E836UcyuX6S_"
      }
    },
    {
      "cell_type": "code",
      "source": [
        "# To loop through a set of code a specified number of times, we can use the range() function.\n",
        "# Ex: Using the range() function\n",
        "for x in range(6):\n",
        "  print(x)\n",
        "\n",
        "# Note: The range(6) is not the value of 0 to 6, but the values 0 to 5.\n",
        "\n",
        "# Ex: Using the start parameter.\n",
        "for x in range(2,6):\n",
        "  print(x)"
      ],
      "metadata": {
        "colab": {
          "base_uri": "https://localhost:8080/"
        },
        "id": "WbIMS9qnXy26",
        "outputId": "078b5d6a-f958-4783-d255-f8def604ba78"
      },
      "execution_count": 10,
      "outputs": [
        {
          "output_type": "stream",
          "name": "stdout",
          "text": [
            "0\n",
            "1\n",
            "2\n",
            "3\n",
            "4\n",
            "5\n",
            "2\n",
            "3\n",
            "4\n",
            "5\n"
          ]
        }
      ]
    },
    {
      "cell_type": "markdown",
      "source": [
        "## Else in for loop\n",
        "\n",
        "---\n",
        "\n"
      ],
      "metadata": {
        "id": "_IWyIaT6ZAef"
      }
    },
    {
      "cell_type": "code",
      "source": [
        "# The else keyword in a for loop specifies a block of code to be executed when the loop is finished:\n",
        "# Ex: Print all numbers from 0 to 5, and print a message when the loop has ended.\n",
        "for x in range(6):\n",
        "  print(x)\n",
        "else:\n",
        "  print(\"Finally finished!\")"
      ],
      "metadata": {
        "colab": {
          "base_uri": "https://localhost:8080/"
        },
        "id": "8CD1HB0cYSZo",
        "outputId": "3bc498dc-58b5-4c8c-f32e-bf14af9e4519"
      },
      "execution_count": 11,
      "outputs": [
        {
          "output_type": "stream",
          "name": "stdout",
          "text": [
            "0\n",
            "1\n",
            "2\n",
            "3\n",
            "4\n",
            "5\n",
            "Finally finished!\n"
          ]
        }
      ]
    },
    {
      "cell_type": "markdown",
      "source": [
        "## Else in for loop with break statement\n",
        "\n",
        "---\n",
        "\n"
      ],
      "metadata": {
        "id": "geT2evFYZrl4"
      }
    },
    {
      "cell_type": "code",
      "source": [
        "# Ex: Break the loop when x is 3, and see what happens with the else block\n",
        "for x in range(6):\n",
        "  if x ==3:\n",
        "    break\n",
        "  print(x)\n",
        "else:\n",
        "  print(\"Finally finished!\")\n",
        "\n",
        "# If the loop breaks, the else block is not executed."
      ],
      "metadata": {
        "colab": {
          "base_uri": "https://localhost:8080/"
        },
        "id": "CZ7N3hoGZpEb",
        "outputId": "79a3bef3-c5cd-4997-b310-2954eb38d870"
      },
      "execution_count": 15,
      "outputs": [
        {
          "output_type": "stream",
          "name": "stdout",
          "text": [
            "0\n",
            "1\n",
            "2\n"
          ]
        }
      ]
    },
    {
      "cell_type": "markdown",
      "source": [
        "## Nested Loop\n",
        "\n",
        "---\n",
        "\n"
      ],
      "metadata": {
        "id": "E-zN9G16a5MW"
      }
    },
    {
      "cell_type": "code",
      "source": [
        "\"\"\"A nested loop is a loop inside a loop.\n",
        "The \"inner loop\" will be executed one time for each iteration of the \"outer loop\":\"\"\"\n",
        "# Ex: Print each adjective for every fruit:\n",
        "adj = [\"red\", \"big\", \"tasty\"]\n",
        "fruits = [\"apple\", \"banana\", \"cherry\"]\n",
        "\n",
        "for x in adj:\n",
        "  for y in fruits:\n",
        "    print(x, y)"
      ],
      "metadata": {
        "colab": {
          "base_uri": "https://localhost:8080/"
        },
        "id": "4mSW45K7aHba",
        "outputId": "6ab99114-092f-4a7c-bb94-f6f24b9eae2b"
      },
      "execution_count": 16,
      "outputs": [
        {
          "output_type": "stream",
          "name": "stdout",
          "text": [
            "red apple\n",
            "red banana\n",
            "red cherry\n",
            "big apple\n",
            "big banana\n",
            "big cherry\n",
            "tasty apple\n",
            "tasty banana\n",
            "tasty cherry\n"
          ]
        }
      ]
    },
    {
      "cell_type": "markdown",
      "source": [
        "## The Pass Statement\n",
        "\n",
        "---\n",
        "\n"
      ],
      "metadata": {
        "id": "GmonbYaGbQYO"
      }
    },
    {
      "cell_type": "code",
      "source": [
        "\"\"\"for loops cannot be empty, but if you for some reason have a for loop with no content, put in the pass statement to avoid getting an error.\"\"\"\n",
        "# Ex:\n",
        "for x in [0, 1, 2]:\n",
        "  pass"
      ],
      "metadata": {
        "id": "M83MPuSYbMU8"
      },
      "execution_count": 17,
      "outputs": []
    }
  ]
}