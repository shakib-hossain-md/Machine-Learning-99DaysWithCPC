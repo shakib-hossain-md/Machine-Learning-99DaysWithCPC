{
 "cells": [
  {
   "cell_type": "code",
   "execution_count": 3,
   "id": "2a3a22a8-5090-4ec5-824c-0704483e4569",
   "metadata": {},
   "outputs": [
    {
     "name": "stdout",
     "output_type": "stream",
     "text": [
      "   Duration  Pulse  Maxpulse  Calories\n",
      "0        60    110       130     409.1\n",
      "1        60    117       145     479.0\n",
      "2        60    103       135     340.0\n",
      "3        45    109       175     282.4\n",
      "4        45    117       148     406.0\n",
      "5        60    102       127     300.0\n",
      "6        60    110       136     374.0\n",
      "7        45    104       134     253.3\n",
      "8        30    109       133     195.1\n",
      "9        60     98       124     269.0\n"
     ]
    }
   ],
   "source": [
    "# Viewing the data\n",
    "\"\"\"One of the most used method for getting a quick overview of the DataFrame, is the head() method.\n",
    "The head() method returns the headers and a specified number of rows, starting from the top.\"\"\"\n",
    "# Ex: Get a quick overview by printing the first 10 rows of the DataFrame\n",
    "import pandas as pd\n",
    "df=pd.read_csv('D:\\\\programming\\\\Machine Learning 99DaysWithCPC\\\\Python Basics\\\\Pandas\\\\data.csv')\n",
    "print(df.head(10))"
   ]
  },
  {
   "cell_type": "code",
   "execution_count": 5,
   "id": "f377ded5-8031-4d0f-9bec-5d3c5d39d5ba",
   "metadata": {},
   "outputs": [
    {
     "name": "stdout",
     "output_type": "stream",
     "text": [
      "   Duration  Pulse  Maxpulse  Calories\n",
      "0        60    110       130     409.1\n",
      "1        60    117       145     479.0\n",
      "2        60    103       135     340.0\n",
      "3        45    109       175     282.4\n",
      "4        45    117       148     406.0\n"
     ]
    }
   ],
   "source": [
    "# Note: If the number of rows is not specified the head() method will return the top 5 rows.\n",
    "# Ex: Print the first 5 rows of the DataFrames\n",
    "import pandas as pd\n",
    "df=pd.read_csv('D:\\\\programming\\\\Machine Learning 99DaysWithCPC\\\\Python Basics\\\\Pandas\\\\data.csv')\n",
    "print(df.head())"
   ]
  },
  {
   "cell_type": "code",
   "execution_count": 7,
   "id": "5708984f-e3c2-428e-b903-357df87a2193",
   "metadata": {},
   "outputs": [
    {
     "name": "stdout",
     "output_type": "stream",
     "text": [
      "     Duration  Pulse  Maxpulse  Calories\n",
      "164        60    105       140     290.8\n",
      "165        60    110       145     300.0\n",
      "166        60    115       145     310.2\n",
      "167        75    120       150     320.4\n",
      "168        75    125       150     330.4\n"
     ]
    }
   ],
   "source": [
    "\"\"\"There is also a tail() method for viewing the last rows of the DataFrame.\n",
    "The tail() method returns the headers and a specified number of rows, starting from the bottom.\"\"\"\n",
    "# Ex: Print the last 5 rows of the DataFrames.\n",
    "import pandas as pd\n",
    "df=pd.read_csv('D:\\\\programming\\\\Machine Learning 99DaysWithCPC\\\\Python Basics\\\\Pandas\\\\data.csv')\n",
    "print(df.tail())"
   ]
  },
  {
   "cell_type": "code",
   "execution_count": 9,
   "id": "3795686d-42a0-446c-9636-4765e75c9f4e",
   "metadata": {},
   "outputs": [
    {
     "name": "stdout",
     "output_type": "stream",
     "text": [
      "<class 'pandas.core.frame.DataFrame'>\n",
      "RangeIndex: 169 entries, 0 to 168\n",
      "Data columns (total 4 columns):\n",
      " #   Column    Non-Null Count  Dtype  \n",
      "---  ------    --------------  -----  \n",
      " 0   Duration  169 non-null    int64  \n",
      " 1   Pulse     169 non-null    int64  \n",
      " 2   Maxpulse  169 non-null    int64  \n",
      " 3   Calories  164 non-null    float64\n",
      "dtypes: float64(1), int64(3)\n",
      "memory usage: 5.4 KB\n",
      "None\n"
     ]
    }
   ],
   "source": [
    "# Info about the data\n",
    "\"\"\"The DataFrames object has a method called info(), that gives you more information about the data set.\"\"\"\n",
    "# Ex: Print information about the data.\n",
    "import pandas as pd\n",
    "df=pd.read_csv('D:\\\\programming\\\\Machine Learning 99DaysWithCPC\\\\Python Basics\\\\Pandas\\\\data.csv')\n",
    "print(df.info())"
   ]
  }
 ],
 "metadata": {
  "kernelspec": {
   "display_name": "Python 3 (ipykernel)",
   "language": "python",
   "name": "python3"
  },
  "language_info": {
   "codemirror_mode": {
    "name": "ipython",
    "version": 3
   },
   "file_extension": ".py",
   "mimetype": "text/x-python",
   "name": "python",
   "nbconvert_exporter": "python",
   "pygments_lexer": "ipython3",
   "version": "3.12.4"
  }
 },
 "nbformat": 4,
 "nbformat_minor": 5
}
