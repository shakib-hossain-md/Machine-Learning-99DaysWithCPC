{
 "cells": [
  {
   "attachments": {},
   "cell_type": "markdown",
   "id": "90192055",
   "metadata": {},
   "source": [
    "### Logistic Regression\n",
    "$$\n",
    "\\hat{Y} = \\frac{1}{1 + e^{-Z}} \\quad \\text{where} \\quad Z = w \\cdot X + b\n",
    "$$"
   ]
  },
  {
   "cell_type": "markdown",
   "id": "a0a81161",
   "metadata": {},
   "source": [
    "Y_hat --> predicted value\n",
    "\n",
    "X --> Input Variable\n",
    "\n",
    "W --> Weight\n",
    "\n",
    "b --> bias"
   ]
  },
  {
   "cell_type": "markdown",
   "id": "983282c9",
   "metadata": {},
   "source": [
    "### Gradient Descent:\n",
    "Gadient Descent is an optimization algorithm used for minimizing the loss function in various machine learning algorithms. It is used for updating the parameters of the learning model.\n",
    "\n",
    "W = W - a * dw\n",
    "\n",
    "b = b - a * db"
   ]
  },
  {
   "cell_type": "markdown",
   "id": "e800b063",
   "metadata": {},
   "source": [
    "#### Learning Rate:\n",
    "Learning rate is a tuning parameter in an optimization algorithm that determines the step size at each iteration while moving toward a minimum of a loss function."
   ]
  },
  {
   "cell_type": "markdown",
   "id": "056e77e5",
   "metadata": {},
   "source": [
    "#### Derivatives:\n"
   ]
  },
  {
   "cell_type": "markdown",
   "id": "ae6b104b",
   "metadata": {},
   "source": [
    "$$\n",
    "dw = \\frac{1}{m} \\cdot (\\hat{Y} - Y) \\cdot X\n",
    "$$"
   ]
  },
  {
   "cell_type": "markdown",
   "id": "ff24e64e",
   "metadata": {},
   "source": [
    "$$\n",
    "db = \\frac{1}{m} \\cdot (\\hat{Y} - Y)\n",
    "$$"
   ]
  },
  {
   "cell_type": "markdown",
   "id": "bd58cbb9",
   "metadata": {},
   "source": [
    "#### Importing the Dependencies"
   ]
  },
  {
   "cell_type": "code",
   "execution_count": 1,
   "id": "69a0c10b",
   "metadata": {},
   "outputs": [],
   "source": [
    "# importing numpy library\n",
    "import numpy as np"
   ]
  },
  {
   "cell_type": "markdown",
   "id": "83e9c5ab",
   "metadata": {},
   "source": [
    "### Logistic Regression"
   ]
  },
  {
   "cell_type": "code",
   "execution_count": 2,
   "id": "ec6bde29",
   "metadata": {},
   "outputs": [],
   "source": [
    "class Logistic_Regression():\n",
    "    \n",
    "    # declaring learning rate and number of iterations (Hyperameters)\n",
    "    def __init__(self, learning_rate, no_of_iteration):\n",
    "        self.learning_rate = learning_rate\n",
    "        self.no_of_iteration = no_of_iteration\n",
    "    \n",
    "    # fit function to train the model with dataset\n",
    "    def fit(self, X, Y):\n",
    "        \n",
    "        # number of data points in the dataset (number of rows) --> m\n",
    "        # number of input features in the dataset (number of columns) -->n\n",
    "        self.m, self.n = X.shape\n",
    "        \n",
    "        # initiating weight and bias value\n",
    "        self.w = np.zeros(self.n)\n",
    "        self.b = 0\n",
    "        self.X = X\n",
    "        self.Y = Y\n",
    "        \n",
    "        # implementing Gradient Descent for Optimization\n",
    "        for i in range(self.no_of_iteration):\n",
    "            self.update_weight()\n",
    "    \n",
    "    def update_weight(self):\n",
    "        \n",
    "        # Y_hat formula (sigmoid function)\n",
    "        Y_hat = 1 / (1 + np.exp( - ( self.X.dot( self.w ) + self.b ) ) )\n",
    "        \n",
    "        # derivatives\n",
    "        dw = (1/self.m) * np.dot(self.X.T, (Y_hat - self.Y ))\n",
    "        db = (1/self.m) * np.sum( Y_hat - self.Y )\n",
    "        \n",
    "        # updating the weights and bias using gradient descent\n",
    "        self.w = self.w - self.learning_rate * dw\n",
    "        self.b = self.b - self.learning_rate * db\n",
    "        \n",
    "    \n",
    "    # Sigmoid Equation and Decision Boundery\n",
    "    def predict (self, X):\n",
    "        Y_pred = 1 / (1 + np.exp( - (X.dot(self.w) + self.b) ) )\n",
    "        Y_pred = np.where( Y_pred > 0.5, 1, 0)\n",
    "        return Y_pred"
   ]
  },
  {
   "cell_type": "code",
   "execution_count": null,
   "id": "8e12507e",
   "metadata": {},
   "outputs": [],
   "source": []
  }
 ],
 "metadata": {
  "kernelspec": {
   "display_name": "Python 3 (ipykernel)",
   "language": "python",
   "name": "python3"
  },
  "language_info": {
   "codemirror_mode": {
    "name": "ipython",
    "version": 3
   },
   "file_extension": ".py",
   "mimetype": "text/x-python",
   "name": "python",
   "nbconvert_exporter": "python",
   "pygments_lexer": "ipython3",
   "version": "3.10.9"
  }
 },
 "nbformat": 4,
 "nbformat_minor": 5
}
