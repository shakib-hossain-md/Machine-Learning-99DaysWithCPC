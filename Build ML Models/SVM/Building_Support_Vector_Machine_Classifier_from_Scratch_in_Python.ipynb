{
  "nbformat": 4,
  "nbformat_minor": 0,
  "metadata": {
    "colab": {
      "provenance": []
    },
    "kernelspec": {
      "name": "python3",
      "display_name": "Python 3"
    },
    "language_info": {
      "name": "python"
    }
  },
  "cells": [
    {
      "cell_type": "markdown",
      "source": [
        "## SVM Classifier"
      ],
      "metadata": {
        "id": "tTrFpuW1fdZ5"
      }
    },
    {
      "cell_type": "markdown",
      "source": [
        "Equation of the Hyperplane:\n",
        "\n",
        "y = wx - b"
      ],
      "metadata": {
        "id": "JuOOOXjYfmjR"
      }
    },
    {
      "cell_type": "markdown",
      "source": [
        "Gradient Descent:\n",
        "\n",
        "Gradient Descent is an optimization algorithm used for minimizing the loss function in various machine learning algorithms. It is used for updating the parameters of the learning model.\n",
        "\n",
        "w = w - α*dw\n",
        "\n",
        "b = b - α*db"
      ],
      "metadata": {
        "id": "nzwl5aQQftT_"
      }
    },
    {
      "cell_type": "markdown",
      "source": [
        "Learning Rate:\n",
        "\n",
        "Learning rate is a tuning parameter in an optimization algorithm that determines the step size at each iteration while moving toward a minimum of a loss function."
      ],
      "metadata": {
        "id": "TsvsG9KEfxEA"
      }
    },
    {
      "cell_type": "code",
      "execution_count": 1,
      "metadata": {
        "id": "_d88ggOwfIzN"
      },
      "outputs": [],
      "source": [
        "import numpy as np"
      ]
    },
    {
      "cell_type": "markdown",
      "source": [
        "Support Vector Machine Classifier"
      ],
      "metadata": {
        "id": "Y7OOACMCf69f"
      }
    },
    {
      "cell_type": "code",
      "source": [
        "class SVM_classifier():\n",
        "\n",
        "# initiating the hyperameters\n",
        "  def __init__(self,learning_rate,no_of_iterations,lamda_parameter):\n",
        "    self.learning_rate = learning_rate\n",
        "    self.no_of_iterations = no_of_iterations\n",
        "    self.lamda_parameter = lamda_parameter\n",
        "\n",
        "    #fitting the dataset to  SVM classifier\n",
        "    def fit(self,X,Y):\n",
        "      # m --> number of Data points --> number of rows\n",
        "      # n --> number of input features --> number of columns\n",
        "      self.m, self.n = X.shape\n",
        "\n",
        "      # initiating the weight value and bias value\n",
        "\n",
        "      self.w = np.zeros(self.n)\n",
        "      self.b = 0\n",
        "      self.X = X\n",
        "      self.Y = Y\n",
        "\n",
        "\n",
        "      # Implimenting Gradient Descent algorithm for optimization\n",
        "\n",
        "      for i in range(self.no_of_iterations):\n",
        "        self.update_weights()\n",
        "\n",
        "\n",
        "    # Function for updating the weight and bias value\n",
        "    def update_weights(self):\n",
        "\n",
        "      # Label encoding\n",
        "      y_label = np.where(self.Y <=0, -1, 1)\n",
        "\n",
        "\n",
        "      # gradients (dw, db)\n",
        "      for index, x_i in enumerate(self.X):\n",
        "        condition = y_label[index] * (np.dot(x_i,self.w) - self.b) >= 1\n",
        "\n",
        "        if (condition == True):\n",
        "\n",
        "          dw = 2 * self.lamda_parameter * self.w\n",
        "          db = 0\n",
        "\n",
        "        else:\n",
        "          dw = 2 * self.lamda_parameter * self.w - np.dot(x_i, y_label[index])\n",
        "          db = y_label[index]\n",
        "\n",
        "\n",
        "        self.w = self.w - self.learning_rate * dw\n",
        "        self.b = self.b - self.learning_rate * db\n",
        "\n",
        "\n",
        "        # predict the label for a given input value\n",
        "\n",
        "        def predict(self,X):\n",
        "          output = np.dot(X,self.w) - self.b\n",
        "          predicted_labels = np.sign(output)\n",
        "          y_hat = np.where(predicted_labels <= -1 , 0, 1)\n",
        "\n",
        "          return y_hat"
      ],
      "metadata": {
        "id": "12Juk7Fef2HJ"
      },
      "execution_count": 2,
      "outputs": []
    },
    {
      "cell_type": "code",
      "source": [],
      "metadata": {
        "id": "_PXKodxLj_YR"
      },
      "execution_count": null,
      "outputs": []
    }
  ]
}