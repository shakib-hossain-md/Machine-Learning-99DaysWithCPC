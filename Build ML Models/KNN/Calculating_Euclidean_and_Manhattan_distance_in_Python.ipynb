{
  "nbformat": 4,
  "nbformat_minor": 0,
  "metadata": {
    "colab": {
      "provenance": []
    },
    "kernelspec": {
      "name": "python3",
      "display_name": "Python 3"
    },
    "language_info": {
      "name": "python"
    }
  },
  "cells": [
    {
      "cell_type": "code",
      "execution_count": 1,
      "metadata": {
        "id": "5wC2i5Wq0u1R"
      },
      "outputs": [],
      "source": [
        "import numpy as np"
      ]
    },
    {
      "cell_type": "markdown",
      "source": [],
      "metadata": {
        "id": "Xq_vLKB51TPL"
      }
    },
    {
      "cell_type": "code",
      "source": [
        "# Consider two points with 2 dimensions\n",
        "p1 = (1,1)\n",
        "p2 = (2,2)"
      ],
      "metadata": {
        "id": "pte18bNP1PaB"
      },
      "execution_count": 3,
      "outputs": []
    },
    {
      "cell_type": "code",
      "source": [
        "# Calculating Euclidean Distance\n",
        "\n",
        "dist = (p1[0] - p2[0])**2 + (p1[1] - p2[1])**2\n",
        "\n",
        "euclidean_dist = np.sqrt(dist)\n",
        "print(euclidean_dist)"
      ],
      "metadata": {
        "colab": {
          "base_uri": "https://localhost:8080/"
        },
        "id": "NNi6IQUh15V_",
        "outputId": "5b47c1c2-9034-4db3-a0f3-5158387a5922"
      },
      "execution_count": 4,
      "outputs": [
        {
          "output_type": "stream",
          "name": "stdout",
          "text": [
            "1.4142135623730951\n"
          ]
        }
      ]
    },
    {
      "cell_type": "code",
      "source": [
        "#  Consider two points with 3 dimensions\n",
        "p1 = (1,1,1)\n",
        "p2 = (2,2,2)\n",
        "\n",
        "# Calculating Euclidean Distance\n",
        "\n",
        "dist = (p1[0] - p2[0])**2 + (p1[1] - p2[1])**2 + (p1[2] - p2[2])**2\n",
        "\n",
        "euclidean_dist = np.sqrt(dist)\n",
        "print(euclidean_dist)"
      ],
      "metadata": {
        "colab": {
          "base_uri": "https://localhost:8080/"
        },
        "id": "JTgeJ8zc2n14",
        "outputId": "7762c0bf-69f3-4aa6-9de4-db8c895b9e09"
      },
      "execution_count": 5,
      "outputs": [
        {
          "output_type": "stream",
          "name": "stdout",
          "text": [
            "1.7320508075688772\n"
          ]
        }
      ]
    },
    {
      "cell_type": "code",
      "source": [
        "# Consider two points with 4 dimensions\n",
        "p1 = (1,1,1,1)\n",
        "p2 = (2,2,2,2)\n",
        "\n",
        "dist = 0\n",
        "for i in range(len(p1)):\n",
        "  dist = dist + (p1[i] - p2[i])**2\n",
        "\n",
        "euclidean_dist = np.sqrt(dist)\n",
        "print(euclidean_dist)"
      ],
      "metadata": {
        "colab": {
          "base_uri": "https://localhost:8080/"
        },
        "id": "MnlwpSN-3M8F",
        "outputId": "e1f38cf0-6268-43fb-c515-ac8493a6f562"
      },
      "execution_count": 6,
      "outputs": [
        {
          "output_type": "stream",
          "name": "stdout",
          "text": [
            "2.0\n"
          ]
        }
      ]
    },
    {
      "cell_type": "markdown",
      "source": [
        "Creating a Function for calculating Euclidean Distance"
      ],
      "metadata": {
        "id": "x5WzRc_E5yjG"
      }
    },
    {
      "cell_type": "code",
      "source": [
        "def get_euclidean_distance(p1,p2):\n",
        "  dist = 0\n",
        "\n",
        "  for i in range(len(p1)):\n",
        "    dist = dist + (p1[i] - p2[i])**2\n",
        "\n",
        "\n",
        "  euclidean_dist = np.sqrt(dist)\n",
        "  print(euclidean_dist)"
      ],
      "metadata": {
        "id": "Qd-R2-mK5wSw"
      },
      "execution_count": 7,
      "outputs": []
    },
    {
      "cell_type": "code",
      "source": [
        "get_euclidean_distance((1,1,1),(2,2,2))"
      ],
      "metadata": {
        "colab": {
          "base_uri": "https://localhost:8080/"
        },
        "id": "zBDGLvqz6Pgv",
        "outputId": "39bf6baa-e33b-4c55-be99-77e6da589daf"
      },
      "execution_count": 8,
      "outputs": [
        {
          "output_type": "stream",
          "name": "stdout",
          "text": [
            "1.7320508075688772\n"
          ]
        }
      ]
    },
    {
      "cell_type": "markdown",
      "source": [
        "Creating a Function for Manhattan Distance"
      ],
      "metadata": {
        "id": "zf7D9DxJ6cPh"
      }
    },
    {
      "cell_type": "code",
      "source": [
        "def get_manhattan_distance(p1,p2):\n",
        "  dist = 0\n",
        "\n",
        "  for i in range(len(p1)):\n",
        "    dist = dist + (p1[i] - p2[i])**2\n",
        "\n",
        "\n",
        "    manhattan_dist = dist\n",
        "  print(manhattan_dist)"
      ],
      "metadata": {
        "id": "2iuAgwtq6YjY"
      },
      "execution_count": 9,
      "outputs": []
    },
    {
      "cell_type": "code",
      "source": [
        "get_manhattan_distance((1,1,1,1),(2,2,2,2))"
      ],
      "metadata": {
        "colab": {
          "base_uri": "https://localhost:8080/"
        },
        "id": "0ulxCpn660mU",
        "outputId": "c463a9a3-5712-44cc-e02d-ce45068eb60e"
      },
      "execution_count": 10,
      "outputs": [
        {
          "output_type": "stream",
          "name": "stdout",
          "text": [
            "4\n"
          ]
        }
      ]
    },
    {
      "cell_type": "code",
      "source": [
        "# abs --> absulate value\n",
        "print(abs(1-2))"
      ],
      "metadata": {
        "colab": {
          "base_uri": "https://localhost:8080/"
        },
        "id": "9rx08kEC65xx",
        "outputId": "a318a50c-66aa-431a-b138-40cb17ae057d"
      },
      "execution_count": 11,
      "outputs": [
        {
          "output_type": "stream",
          "name": "stdout",
          "text": [
            "1\n"
          ]
        }
      ]
    },
    {
      "cell_type": "markdown",
      "source": [
        "Calculating distance between two data points"
      ],
      "metadata": {
        "id": "YecWNg8o7EYA"
      }
    },
    {
      "cell_type": "code",
      "source": [
        "# Distance between two similar data points\n",
        "\n",
        "print(get_euclidean_distance((63,1,3,145,233,1,0,150,0,2.3,0,0,1),(37,1,2,130,250,0,1,187,0,3.5,0,0,2)))\n",
        "print(get_manhattan_distance((63,1,3,145,233,1,0,150,0,2.3,0,0,1),(37,1,2,130,250,0,1,187,0,3.5,0,0,2)))"
      ],
      "metadata": {
        "colab": {
          "base_uri": "https://localhost:8080/"
        },
        "id": "gdaUM3Y77DX3",
        "outputId": "d2751888-679a-4881-9e80-93fbabb7922f"
      },
      "execution_count": 12,
      "outputs": [
        {
          "output_type": "stream",
          "name": "stdout",
          "text": [
            "50.640300157088326\n",
            "None\n",
            "2564.44\n",
            "None\n"
          ]
        }
      ]
    },
    {
      "cell_type": "code",
      "source": [
        "# distance between two dissimilar data points\n",
        "\n",
        "print(get_euclidean_distance((63,1,3,145,233,1,0,150,0,2.3,0,0,1),(67,1,0,160,286,0,0,108,1,1.5,1,3,2)))\n",
        "print(get_manhattan_distance((63,1,3,145,233,1,0,150,0,2.3,0,0,1),(67,1,0,160,286,0,0,108,1,1.5,1,3,2)))"
      ],
      "metadata": {
        "colab": {
          "base_uri": "https://localhost:8080/"
        },
        "id": "FYAd0KZ87XxE",
        "outputId": "ab61b55c-ac97-4c57-a37f-6eb6e0dec98c"
      },
      "execution_count": 13,
      "outputs": [
        {
          "output_type": "stream",
          "name": "stdout",
          "text": [
            "69.54595602908914\n",
            "None\n",
            "4836.64\n",
            "None\n"
          ]
        }
      ]
    },
    {
      "cell_type": "code",
      "source": [],
      "metadata": {
        "id": "3b4Ozn_T7eJ9"
      },
      "execution_count": null,
      "outputs": []
    }
  ]
}