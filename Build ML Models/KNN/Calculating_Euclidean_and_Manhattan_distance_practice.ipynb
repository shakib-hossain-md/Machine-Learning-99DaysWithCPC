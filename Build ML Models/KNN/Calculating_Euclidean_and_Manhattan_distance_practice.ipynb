{
  "nbformat": 4,
  "nbformat_minor": 0,
  "metadata": {
    "colab": {
      "provenance": []
    },
    "kernelspec": {
      "name": "python3",
      "display_name": "Python 3"
    },
    "language_info": {
      "name": "python"
    }
  },
  "cells": [
    {
      "cell_type": "markdown",
      "source": [
        "Importing the Dependencies"
      ],
      "metadata": {
        "id": "NzcvHDuKD6u-"
      }
    },
    {
      "cell_type": "code",
      "execution_count": 1,
      "metadata": {
        "id": "CwJ0UG_aDuR2"
      },
      "outputs": [],
      "source": [
        "import numpy as np"
      ]
    },
    {
      "cell_type": "markdown",
      "source": [
        "## **Euclidean Distance**\n",
        "\n",
        "---\n",
        "\n",
        "![Picture1.png](data:image/png;base64,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)"
      ],
      "metadata": {
        "id": "mqaKBrhiEGVt"
      }
    },
    {
      "cell_type": "code",
      "source": [
        "# consider two points with 2 dimensions\n",
        "p1 = (1, 1)\n",
        "p2 = (2, 2)"
      ],
      "metadata": {
        "id": "VUrVQ96xEFF-"
      },
      "execution_count": 2,
      "outputs": []
    },
    {
      "cell_type": "code",
      "source": [
        "# calculating Euclidean Distance\n",
        "dist = (p1[0] - p2[0]) **2 + (p1[1] - p2[1])**2"
      ],
      "metadata": {
        "id": "Z6vTLJwVFrul"
      },
      "execution_count": 3,
      "outputs": []
    },
    {
      "cell_type": "code",
      "source": [
        "euclidean_dist = np.sqrt(dist)"
      ],
      "metadata": {
        "id": "8UfXdIFkGAPi"
      },
      "execution_count": 4,
      "outputs": []
    },
    {
      "cell_type": "code",
      "source": [
        "euclidean_dist"
      ],
      "metadata": {
        "colab": {
          "base_uri": "https://localhost:8080/"
        },
        "id": "BoNoAZe2GI3K",
        "outputId": "c857c501-3278-4479-ce0f-a33d85821485"
      },
      "execution_count": 5,
      "outputs": [
        {
          "output_type": "execute_result",
          "data": {
            "text/plain": [
              "1.4142135623730951"
            ]
          },
          "metadata": {},
          "execution_count": 5
        }
      ]
    },
    {
      "cell_type": "code",
      "source": [
        "# consider two points with 3 dimensions\n",
        "p1 = (1, 1, 1)\n",
        "p2 = (2, 2, 2)"
      ],
      "metadata": {
        "id": "Ndto1PMOGKjy"
      },
      "execution_count": 6,
      "outputs": []
    },
    {
      "cell_type": "code",
      "source": [
        "# calculating Euclidean Distance\n",
        "dist = (p1[0] - p2[0])**2 + (p1[1] - p2[1])**2 + (p1[2] - p2[2])**2"
      ],
      "metadata": {
        "id": "Mz4EKui2GpSB"
      },
      "execution_count": 14,
      "outputs": []
    },
    {
      "cell_type": "code",
      "source": [
        "euclidean_dist2 = np.sqrt(dist)"
      ],
      "metadata": {
        "id": "jCnm0B1WHD_6"
      },
      "execution_count": 15,
      "outputs": []
    },
    {
      "cell_type": "code",
      "source": [
        "euclidean_dist2"
      ],
      "metadata": {
        "colab": {
          "base_uri": "https://localhost:8080/"
        },
        "id": "fh8sluivHLQJ",
        "outputId": "c00599fa-8ac8-4ea0-f0ed-135835491348"
      },
      "execution_count": 16,
      "outputs": [
        {
          "output_type": "execute_result",
          "data": {
            "text/plain": [
              "1.7320508075688772"
            ]
          },
          "metadata": {},
          "execution_count": 16
        }
      ]
    },
    {
      "cell_type": "code",
      "source": [
        "# consider two points with 4 dimensions\n",
        "p1 = (1,1,1,1)\n",
        "p2 = (2,2,2,2)"
      ],
      "metadata": {
        "id": "I61IvQMeHSxJ"
      },
      "execution_count": 17,
      "outputs": []
    },
    {
      "cell_type": "code",
      "source": [
        "dist = 0"
      ],
      "metadata": {
        "id": "UHniMbdYHk3p"
      },
      "execution_count": 18,
      "outputs": []
    },
    {
      "cell_type": "code",
      "source": [
        "for i in range(len(p1)):\n",
        "  dist = dist + (p1[i] - p2[i])**2"
      ],
      "metadata": {
        "id": "xCX43JztHnDo"
      },
      "execution_count": 19,
      "outputs": []
    },
    {
      "cell_type": "code",
      "source": [
        "euclidean_dist = np.sqrt(dist)"
      ],
      "metadata": {
        "id": "eeXDit4EHtx4"
      },
      "execution_count": 20,
      "outputs": []
    },
    {
      "cell_type": "code",
      "source": [
        "euclidean_dist"
      ],
      "metadata": {
        "colab": {
          "base_uri": "https://localhost:8080/"
        },
        "id": "_3fV5uu8H8L3",
        "outputId": "4a6bcc20-afc3-43ac-9f8b-bdcbe5842016"
      },
      "execution_count": 21,
      "outputs": [
        {
          "output_type": "execute_result",
          "data": {
            "text/plain": [
              "2.0"
            ]
          },
          "metadata": {},
          "execution_count": 21
        }
      ]
    },
    {
      "cell_type": "markdown",
      "source": [
        "## **Creating a Function for calculating Euclidean DIstance**\n",
        "\n",
        "---\n",
        "\n"
      ],
      "metadata": {
        "id": "uIburywOIDgg"
      }
    },
    {
      "cell_type": "code",
      "source": [
        "def get_euclidean_distance(p1, p2):\n",
        "\n",
        "  dist = 0\n",
        "\n",
        "  for i in range(len(p1)):\n",
        "    dist = dist + (p1[i] - p2[i])**2\n",
        "\n",
        "  euclidean_dist = np.sqrt(dist)\n",
        "  print(euclidean_dist)"
      ],
      "metadata": {
        "id": "WqjHpQmkH-T4"
      },
      "execution_count": 22,
      "outputs": []
    },
    {
      "cell_type": "code",
      "source": [
        "get_euclidean_distance((1,1,1), (2,2,2))"
      ],
      "metadata": {
        "colab": {
          "base_uri": "https://localhost:8080/"
        },
        "id": "kix85Ac4ISjX",
        "outputId": "117d6d1c-4748-41a8-d298-b6d2a43bc96a"
      },
      "execution_count": 23,
      "outputs": [
        {
          "output_type": "stream",
          "name": "stdout",
          "text": [
            "1.7320508075688772\n"
          ]
        }
      ]
    },
    {
      "cell_type": "markdown",
      "source": [
        "## **Manhattan Distance**\n",
        "\n",
        "---\n",
        "![Picture2.png](data:image/png;base64,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)\n"
      ],
      "metadata": {
        "id": "YQRFJtMtIbzP"
      }
    },
    {
      "cell_type": "markdown",
      "source": [
        "**Creating a FUnction for Manhattan DIstance**"
      ],
      "metadata": {
        "id": "M60Q8EJqI0Sn"
      }
    },
    {
      "cell_type": "code",
      "source": [
        "def get_manhattan_distance(p1, p2):\n",
        "\n",
        "  dist = 0\n",
        "\n",
        "  for i in range(len(p1)):\n",
        "    dist = dist + abs(p1[i] - p2[i])\n",
        "\n",
        "    manhattan_dist = dist\n",
        "\n",
        "  print(manhattan_dist)"
      ],
      "metadata": {
        "id": "uGtYCxgZIUmv"
      },
      "execution_count": 24,
      "outputs": []
    },
    {
      "cell_type": "code",
      "source": [
        "get_manhattan_distance((1,1,1,1),(2,2,2,2))"
      ],
      "metadata": {
        "colab": {
          "base_uri": "https://localhost:8080/"
        },
        "id": "ruutSIqLI5TX",
        "outputId": "b418392b-3d2a-40fb-c751-cd08f30d432f"
      },
      "execution_count": 25,
      "outputs": [
        {
          "output_type": "stream",
          "name": "stdout",
          "text": [
            "4\n"
          ]
        }
      ]
    },
    {
      "cell_type": "code",
      "source": [
        "# abs --> absolute value\n",
        "print(abs(1-2))"
      ],
      "metadata": {
        "colab": {
          "base_uri": "https://localhost:8080/"
        },
        "id": "Tb82NlhmI8bm",
        "outputId": "76826fdb-174a-4647-b08c-62a7e052bad4"
      },
      "execution_count": 26,
      "outputs": [
        {
          "output_type": "stream",
          "name": "stdout",
          "text": [
            "1\n"
          ]
        }
      ]
    },
    {
      "cell_type": "markdown",
      "source": [
        "**Calculating distance between two data points**"
      ],
      "metadata": {
        "id": "RtOIUwspJF5u"
      }
    },
    {
      "cell_type": "code",
      "source": [
        "# distance between two similar data points\n",
        "\n",
        "print(get_euclidean_distance((63,1,3,145,233,1,0,150,0,2.3,0,0,1),(37,1,2,130,250,0,1,187,0,3.5,0,0,2)))\n",
        "print(get_manhattan_distance((63,1,3,145,233,1,0,150,0,2.3,0,0,1),(37,1,2,130,250,0,1,187,0,3.5,0,0,2)))"
      ],
      "metadata": {
        "colab": {
          "base_uri": "https://localhost:8080/"
        },
        "id": "Fw-6UCCjJCoe",
        "outputId": "d3e0b058-c6d3-4fa3-eed2-c369e778901c"
      },
      "execution_count": 27,
      "outputs": [
        {
          "output_type": "stream",
          "name": "stdout",
          "text": [
            "50.640300157088326\n",
            "None\n",
            "100.2\n",
            "None\n"
          ]
        }
      ]
    },
    {
      "cell_type": "code",
      "source": [
        "# distance between two dissimilar data points\n",
        "\n",
        "print(get_euclidean_distance((63,1,3,145,233,1,0,150,0,2.3,0,0,1),(67,1,0,160,286,0,0,108,1,1.5,1,3,2)))\n",
        "print(get_manhattan_distance((63,1,3,145,233,1,0,150,0,2.3,0,0,1),(67,1,0,160,286,0,0,108,1,1.5,1,3,2)))"
      ],
      "metadata": {
        "colab": {
          "base_uri": "https://localhost:8080/"
        },
        "id": "JWobmPu3JOLm",
        "outputId": "dbe04024-09fe-48eb-f350-92b1e752c761"
      },
      "execution_count": 28,
      "outputs": [
        {
          "output_type": "stream",
          "name": "stdout",
          "text": [
            "69.54595602908914\n",
            "None\n",
            "124.8\n",
            "None\n"
          ]
        }
      ]
    },
    {
      "cell_type": "code",
      "source": [],
      "metadata": {
        "id": "rxpMXhb0JW1l"
      },
      "execution_count": null,
      "outputs": []
    }
  ]
}