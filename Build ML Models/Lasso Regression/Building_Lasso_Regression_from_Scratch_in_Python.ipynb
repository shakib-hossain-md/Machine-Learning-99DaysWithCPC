{
  "nbformat": 4,
  "nbformat_minor": 0,
  "metadata": {
    "colab": {
      "provenance": []
    },
    "kernelspec": {
      "name": "python3",
      "display_name": "Python 3"
    },
    "language_info": {
      "name": "python"
    }
  },
  "cells": [
    {
      "cell_type": "markdown",
      "source": [
        "Lasso Regression:\n",
        "\n",
        "Y = wX + b\n",
        "\n",
        "Y --> Dependent Variable\n",
        "\n",
        "X --> Independent Variable\n",
        "\n",
        "w --> weight\n",
        "\n",
        "b --> bias\n",
        "\n",
        "\n",
        "\n",
        "Gradient Descent:\n",
        "\n",
        "Gradient Descent is an optimization algorithm used for minimizing the loss function in various machine learning algorithms. It is used for updating the parameters of the learning model.\n",
        "\n",
        "w = w - α*dw\n",
        "\n",
        "b = b - α*db\n",
        "\n",
        "\n",
        "\n",
        "Learning Rate:\n",
        "\n",
        "Learning rate is a tuning parameter in an optimization algorithm that determines the step size at each iteration while moving toward a minimum of a loss function.\n",
        "\n",
        "Gradient for Weights\n",
        "\n",
        "\n",
        "\n",
        "![Picture2.png](data:image/png;base64,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)\n",
        "\n",
        "\n",
        "Gradient for Bias\n",
        "\n",
        "\n",
        "![Picture3.png](data:image/png;base64,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)\n"
      ],
      "metadata": {
        "id": "UmXgk2neWmm8"
      }
    },
    {
      "cell_type": "markdown",
      "source": [],
      "metadata": {
        "id": "pVzgezsiWqoK"
      }
    },
    {
      "cell_type": "code",
      "execution_count": 1,
      "metadata": {
        "id": "VEYvWYSfUk5d"
      },
      "outputs": [],
      "source": [
        "import numpy as np"
      ]
    },
    {
      "cell_type": "code",
      "source": [
        "# creating a class for Lasso Regression\n",
        "\n",
        "class Lasso_Regression():\n",
        "\n",
        "  #initiating the hyperparameters\n",
        "  def __init__(self, learning_rate, no_of_iterations, lambda_parameter):\n",
        "\n",
        "    self.learning_rate = learning_rate\n",
        "    self.no_of_iterations = no_of_iterations\n",
        "    self.lambda_parameter = lambda_parameter\n",
        "\n",
        "\n",
        "  # Fitting the dataset to the Lasso Regression model\n",
        "  def fit(self, X, Y):\n",
        "\n",
        "    # m --> number of Data points --> number of rows\n",
        "    # n --> number of input features --> number of columns\n",
        "    self.m, self.n = X.shape\n",
        "\n",
        "    self.w = np.zeros(self.n)\n",
        "\n",
        "    self.b = 0\n",
        "\n",
        "    self.X = X\n",
        "\n",
        "    self.Y = Y\n",
        "\n",
        "    # Implementing Gradient Descent algorithm for Optimization\n",
        "\n",
        "    for i in range(no_of_iterations):\n",
        "      self.upadte_weights()\n",
        "\n",
        "\n",
        "  # Function for updating the weight & bias value\n",
        "  def upadte_weights(self):\n",
        "\n",
        "    # linear equation of the model\n",
        "    Y_prediction = self.predict(self.X)\n",
        "\n",
        "    # gradients (dw, db)\n",
        "\n",
        "    # gradient for weight\n",
        "    dw = np.zeros(self.n)\n",
        "\n",
        "    for i in range(self.n):\n",
        "\n",
        "      if self.w[i]>0:\n",
        "\n",
        "        dw[i] = (-(2*(self.X[:,i]).dot(self.Y - Y_prediction)) + self.lambda_parameter) / self.m\n",
        "\n",
        "      else :\n",
        "\n",
        "        dw[i] = (-(2*(self.X[:,i]).dot(self.Y - Y_prediction)) - self.lambda_parameter) / self.m\n",
        "\n",
        "\n",
        "    # gradient for bias\n",
        "    db = - 2 * np.sum(self.Y - Y_prediction) / self.m\n",
        "\n",
        "\n",
        "    # updating the weights & bias\n",
        "\n",
        "    self.w = self.w - self.learning_rate*dw\n",
        "    self.b = self.b - self.learning_rate*db\n",
        "\n",
        "\n",
        "\n",
        "\n",
        "  # Predicting the Target variable\n",
        "  def predict(self,X):\n",
        "\n",
        "    return X.dot(self.w) + self.b\n",
        "\n",
        "\n"
      ],
      "metadata": {
        "id": "cc8FMQXzX5LV"
      },
      "execution_count": 4,
      "outputs": []
    },
    {
      "cell_type": "code",
      "source": [],
      "metadata": {
        "id": "bN3JXO9lcm0S"
      },
      "execution_count": null,
      "outputs": []
    }
  ]
}