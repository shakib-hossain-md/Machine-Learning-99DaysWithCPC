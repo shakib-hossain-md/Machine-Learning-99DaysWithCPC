{
  "nbformat": 4,
  "nbformat_minor": 0,
  "metadata": {
    "colab": {
      "provenance": []
    },
    "kernelspec": {
      "name": "python3",
      "display_name": "Python 3"
    },
    "language_info": {
      "name": "python"
    }
  },
  "cells": [
    {
      "cell_type": "markdown",
      "source": [
        "## Standard Normal Distribution\n",
        "\n",
        "---\n",
        "\n"
      ],
      "metadata": {
        "id": "IFVtcGSQ8sLH"
      }
    },
    {
      "cell_type": "markdown",
      "source": [
        "### Finding the P-value of a Z-Value"
      ],
      "metadata": {
        "id": "Mx9aar-Y8zqE"
      }
    },
    {
      "cell_type": "code",
      "execution_count": 1,
      "metadata": {
        "colab": {
          "base_uri": "https://localhost:8080/"
        },
        "id": "O69Mr-Ke8Zm2",
        "outputId": "e7363530-c0e8-4cb5-9c12-e319544ecda0"
      },
      "outputs": [
        {
          "output_type": "stream",
          "name": "stdout",
          "text": [
            "0.9986501019683699\n"
          ]
        }
      ],
      "source": [
        "# With Python use the Scipy Stats library norm.cdf() function find the probability of getting less than a Z-value of 3:\n",
        "import scipy.stats as stats\n",
        "print(stats.norm.cdf(3))"
      ]
    },
    {
      "cell_type": "markdown",
      "source": [
        "### Finding the Z-value of a P-Value"
      ],
      "metadata": {
        "id": "pjqWD4Ib9FcU"
      }
    },
    {
      "cell_type": "code",
      "source": [
        "# With Python use the Scipy Stats library norm.ppf() function find the z-value separating the top 10% from the bottom 90%:\n",
        "print(stats.norm.ppf(0.9))"
      ],
      "metadata": {
        "colab": {
          "base_uri": "https://localhost:8080/"
        },
        "id": "0vNNOIZM89p7",
        "outputId": "5b00d2fe-07ba-492c-d3a7-2a8fa0127de2"
      },
      "execution_count": 2,
      "outputs": [
        {
          "output_type": "stream",
          "name": "stdout",
          "text": [
            "1.2815515655446004\n"
          ]
        }
      ]
    },
    {
      "cell_type": "markdown",
      "source": [
        "## Student's T Distribution\n",
        "\n",
        "---\n",
        "\n"
      ],
      "metadata": {
        "id": "zz06qjfK9fks"
      }
    },
    {
      "cell_type": "markdown",
      "source": [
        "### Finding the P-Value of a T-Value"
      ],
      "metadata": {
        "id": "sDFSs-2G9kvb"
      }
    },
    {
      "cell_type": "code",
      "source": [
        "# With Python use the Scipy Stats library t.cdf() function find the probability of getting less than a t-value of 2.1 with 29 degrees of freedom:\n",
        "print(stats.t.cdf(2.1, 29))"
      ],
      "metadata": {
        "colab": {
          "base_uri": "https://localhost:8080/"
        },
        "id": "pgkyNPVJ9QAq",
        "outputId": "8ab7d543-7d1d-4c1a-d142-71e2b7ffdbc6"
      },
      "execution_count": 3,
      "outputs": [
        {
          "output_type": "stream",
          "name": "stdout",
          "text": [
            "0.9777290209818548\n"
          ]
        }
      ]
    },
    {
      "cell_type": "markdown",
      "source": [
        "### Finding the T-value of a P-Value"
      ],
      "metadata": {
        "id": "KDYedKEh9wrU"
      }
    },
    {
      "cell_type": "code",
      "source": [
        "# With Python use the Scipy Stats library t.ppf() function find the t-value separating the top 25% from the bottom 75% with 29 degrees of freedom:\n",
        "print(stats.t.ppf(0.75, 29))"
      ],
      "metadata": {
        "colab": {
          "base_uri": "https://localhost:8080/"
        },
        "id": "q4tE6ZPE9sbM",
        "outputId": "f00aa7df-29e3-4d33-95e5-49075b504f6c"
      },
      "execution_count": 4,
      "outputs": [
        {
          "output_type": "stream",
          "name": "stdout",
          "text": [
            "0.6830438608216131\n"
          ]
        }
      ]
    },
    {
      "cell_type": "markdown",
      "source": [
        "## Estimating Population Proportions\n",
        "\n",
        "---\n",
        "\n"
      ],
      "metadata": {
        "id": "2UaXjzV1-KzM"
      }
    },
    {
      "cell_type": "markdown",
      "source": [
        "### Calculating the Margin of Error"
      ],
      "metadata": {
        "id": "9VmNlnpD-a1t"
      }
    },
    {
      "cell_type": "code",
      "source": [
        "# With Python use the Scipy Stats library norm.ppf() function find the Z-value for an /2 = 0.025\n",
        "import scipy.stats as stats\n",
        "print(stats.norm.ppf(1-0.025))"
      ],
      "metadata": {
        "colab": {
          "base_uri": "https://localhost:8080/"
        },
        "id": "f0cMrotu96z-",
        "outputId": "b2110fa8-2924-49c7-bdbf-011a63673a6d"
      },
      "execution_count": 5,
      "outputs": [
        {
          "output_type": "stream",
          "name": "stdout",
          "text": [
            "1.959963984540054\n"
          ]
        }
      ]
    },
    {
      "cell_type": "markdown",
      "source": [
        "### Calculating a Confidence Interval"
      ],
      "metadata": {
        "id": "DvUcgiNg-3WT"
      }
    },
    {
      "cell_type": "code",
      "source": [
        "\"\"\"With Python, use the scipy and math libraries to calculate the confidence interval for an estimated proportion.\n",
        "\n",
        "Here, the sample size is 30 and the occurrences is 6.\"\"\"\n",
        "import scipy.stats as stats\n",
        "import math\n",
        "\n",
        "# Specify sample occurrences (x), sample size (n) and confidence level\n",
        "x = 6\n",
        "n = 30\n",
        "confidence_level = 0.95\n",
        "\n",
        "# Calculate the point estimate, alpha, the critical z-value, the standard error, and the margin of error\n",
        "point_estimate = x/n\n",
        "alpha = (1-confidence_level)\n",
        "critical_z = stats.norm.ppf(1-alpha/2)\n",
        "standard_error = math.sqrt((point_estimate*(1-point_estimate)/n))\n",
        "margin_of_error = critical_z * standard_error\n",
        "\n",
        "# Calculate the lower and upper bound of the confidence interval\n",
        "lower_bound = point_estimate - margin_of_error\n",
        "upper_bound = point_estimate + margin_of_error\n",
        "\n",
        "# Print the results\n",
        "print(\"Point Estimate: {:.3f}\".format(point_estimate))\n",
        "print(\"Critical Z-value: {:.3f}\".format(critical_z))\n",
        "print(\"Margin of Error: {:.3f}\".format(margin_of_error))\n",
        "print(\"Confidence Interval: [{:.3f},{:.3f}]\".format(lower_bound,upper_bound))\n",
        "print(\"The {:.1%} confidence interval for the population proportion is:\".format(confidence_level))\n",
        "print(\"between {:.3f} and {:.3f}\".format(lower_bound,upper_bound))"
      ],
      "metadata": {
        "colab": {
          "base_uri": "https://localhost:8080/"
        },
        "id": "8oe81Eu0-zB2",
        "outputId": "a1af6f2c-c0d5-4097-9961-3768401adc38"
      },
      "execution_count": 6,
      "outputs": [
        {
          "output_type": "stream",
          "name": "stdout",
          "text": [
            "Point Estimate: 0.200\n",
            "Critical Z-value: 1.960\n",
            "Margin of Error: 0.143\n",
            "Confidence Interval: [0.057,0.343]\n",
            "The 95.0% confidence interval for the population proportion is:\n",
            "between 0.057 and 0.343\n"
          ]
        }
      ]
    }
  ]
}