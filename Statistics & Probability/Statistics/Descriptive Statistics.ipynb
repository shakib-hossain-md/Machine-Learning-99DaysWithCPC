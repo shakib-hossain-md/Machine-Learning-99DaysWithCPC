{
 "cells": [
  {
   "cell_type": "markdown",
   "id": "fa95858e",
   "metadata": {},
   "source": [
    "#### Statistics are tools to get ansewers to questions about data:\n",
    "    1. What is Common ?\n",
    "    2. What is Expected ?\n",
    "    3. What is Normal ?\n",
    "    4. What is the Probability ?"
   ]
  },
  {
   "cell_type": "markdown",
   "id": "a004616a",
   "metadata": {},
   "source": [
    "## Descriptive Statistics\n",
    "Descriptive Statistics summarizes (describes) observations from a set of data."
   ]
  },
  {
   "cell_type": "markdown",
   "id": "21bf1140",
   "metadata": {},
   "source": [
    "## Descriptive Statistics Measurements\n",
    "Descriptive statistics are broken down into different measures:\n",
    "\n",
    "#### Tendency (Measures of the Center)\n",
    "    . The Mean value (the average value).\n",
    "    . The Median (the mid point value).\n",
    "    . The Mode (the most common value).\n",
    "\n",
    "#### Spread (Measures of Variability)\n",
    "    . Min and Max\n",
    "    . Standard Deviation\n",
    "    . Variance\n",
    "    . Skewness\n",
    "    . Kurtosis"
   ]
  },
  {
   "cell_type": "markdown",
   "id": "af372686",
   "metadata": {},
   "source": [
    "## The Mean\n",
    "#### The Mean Value is the Average of all values."
   ]
  },
  {
   "cell_type": "code",
   "execution_count": 2,
   "id": "8347b2f3",
   "metadata": {},
   "outputs": [
    {
     "name": "stdout",
     "output_type": "stream",
     "text": [
      "10.363636363636363\n"
     ]
    }
   ],
   "source": [
    "# Calculate the Mean Value:\n",
    "import numpy as np\n",
    "\n",
    "numbers = np.array([7, 8, 8, 9, 9, 9, 10, 11, 14, 14, 15])\n",
    "mean_values = np.mean(numbers)\n",
    "\n",
    "print(mean_values)"
   ]
  },
  {
   "cell_type": "markdown",
   "id": "7572a5ee",
   "metadata": {},
   "source": [
    "## The Median\n",
    "\n",
    "A list of speed values: 99,86,87,88,111,86,103,87,94,78,77,85,86\n",
    "\n",
    "The Median is the value in the middle (after the values are sorted):\n",
    "77,78,85,86,86,86, (87) ,87,88,94,99,103,111\n",
    "\n",
    "Here. median is 87\n",
    "\n",
    "\n",
    "\n",
    "If there are two numbers in the middle, divide the sum of them by two.\n",
    "77,78,85,86,86, (86,87), 87,88,94,99,103\n",
    "\n",
    "(86 + 87) / 2 = 86.5"
   ]
  },
  {
   "cell_type": "code",
   "execution_count": 3,
   "id": "a6c144fb",
   "metadata": {},
   "outputs": [
    {
     "name": "stdout",
     "output_type": "stream",
     "text": [
      "87.0\n"
     ]
    }
   ],
   "source": [
    "import numpy as np\n",
    "\n",
    "numbers = np.array([99,86,87,88,111,86,103,87,94,78,77,85,86])\n",
    "mean_values = np.median(numbers)\n",
    "\n",
    "print(mean_values)"
   ]
  },
  {
   "cell_type": "code",
   "execution_count": 4,
   "id": "3dfeac66",
   "metadata": {},
   "outputs": [
    {
     "name": "stdout",
     "output_type": "stream",
     "text": [
      "86.5\n"
     ]
    }
   ],
   "source": [
    "import numpy as np\n",
    "\n",
    "numbers = np.array([77,78,85,86,86,86,87,87,88,94,99,103])\n",
    "mean_values = np.median(numbers)\n",
    "\n",
    "print(mean_values)"
   ]
  },
  {
   "cell_type": "markdown",
   "id": "a5a2a12e",
   "metadata": {},
   "source": [
    "## Outliers\n",
    "#### Outliers are values \"outside\" the other values:\n",
    "\n",
    "99,86,87,88,111,86,103,87,94,78, (300), 85,86"
   ]
  },
  {
   "cell_type": "code",
   "execution_count": 8,
   "id": "360fcf62",
   "metadata": {},
   "outputs": [
    {
     "name": "stdout",
     "output_type": "stream",
     "text": [
      "Mean with outlier: 106.92307692307692\n"
     ]
    }
   ],
   "source": [
    "import numpy as np\n",
    "\n",
    "# Define the array of values\n",
    "values = [99, 86, 87, 88, 111, 86, 103, 300, 87, 94, 78,  85, 86]\n",
    "\n",
    "# Calculate the mean with the outlier\n",
    "mean_with_outlier = np.mean(values)\n",
    "print(\"Mean with outlier:\", mean_with_outlier)"
   ]
  },
  {
   "cell_type": "code",
   "execution_count": 7,
   "id": "e7f789ee",
   "metadata": {},
   "outputs": [
    {
     "name": "stdout",
     "output_type": "stream",
     "text": [
      "Mean without outlier: 89.0\n"
     ]
    }
   ],
   "source": [
    "# To identify and exclude outliers, we can use the interquartile range (IQR) method\n",
    "q1 = np.percentile(values, 25)\n",
    "q3 = np.percentile(values, 75)\n",
    "iqr = q3 - q1\n",
    "\n",
    "# Define bounds for outliers\n",
    "lower_bound = q1 - 1.5 * iqr\n",
    "upper_bound = q3 + 1.5 * iqr\n",
    "\n",
    "# Filter out the outliers\n",
    "filtered_values = [x for x in values if lower_bound <= x <= upper_bound]\n",
    "\n",
    "# Calculate the mean without the outlier\n",
    "mean_without_outlier = np.mean(filtered_values)\n",
    "print(\"Mean without outlier:\", mean_without_outlier)"
   ]
  },
  {
   "cell_type": "code",
   "execution_count": 9,
   "id": "31cb0b5f",
   "metadata": {},
   "outputs": [
    {
     "name": "stdout",
     "output_type": "stream",
     "text": [
      "Mean with outlier: 118.28571428571429\n",
      "Mean without outlier: 88.0\n"
     ]
    }
   ],
   "source": [
    "import numpy as np\n",
    "\n",
    "# Define the list of test scores\n",
    "scores = [85, 87, 86, 88, 90, 92, 300]\n",
    "\n",
    "# Calculate the mean with the outlier\n",
    "mean_with_outlier = np.mean(scores)\n",
    "print(\"Mean with outlier:\", mean_with_outlier)\n",
    "\n",
    "# Remove the outlier (300) and calculate the mean again\n",
    "# We'll use a condition here to exclude values that are very different from the rest\n",
    "# (assuming we already identified 300 as an outlier).\n",
    "scores_without_outlier = [score for score in scores if score < 100]\n",
    "\n",
    "# Calculate the mean without the outlier\n",
    "mean_without_outlier = np.mean(scores_without_outlier)\n",
    "print(\"Mean without outlier:\", mean_without_outlier)"
   ]
  },
  {
   "cell_type": "code",
   "execution_count": null,
   "id": "e83bb6d4",
   "metadata": {},
   "outputs": [],
   "source": []
  }
 ],
 "metadata": {
  "kernelspec": {
   "display_name": "Python 3 (ipykernel)",
   "language": "python",
   "name": "python3"
  },
  "language_info": {
   "codemirror_mode": {
    "name": "ipython",
    "version": 3
   },
   "file_extension": ".py",
   "mimetype": "text/x-python",
   "name": "python",
   "nbconvert_exporter": "python",
   "pygments_lexer": "ipython3",
   "version": "3.10.9"
  }
 },
 "nbformat": 4,
 "nbformat_minor": 5
}
