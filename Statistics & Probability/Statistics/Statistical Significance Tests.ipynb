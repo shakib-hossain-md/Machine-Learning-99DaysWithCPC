{
 "cells": [
  {
   "cell_type": "markdown",
   "id": "55210898",
   "metadata": {},
   "source": [
    "### T-Test\n",
    "#### T-tests are used to determine if there is significant deference between means of two variables and lets us know if they belong to the same distribution. It is a two tailed test.\n",
    "\n",
    "#### The function ttest_ind() takes two samples of same size and produces a tuple of t-statistic and p-value"
   ]
  },
  {
   "cell_type": "code",
   "execution_count": 1,
   "id": "9c5c0b33",
   "metadata": {},
   "outputs": [
    {
     "name": "stdout",
     "output_type": "stream",
     "text": [
      "Ttest_indResult(statistic=-1.284021650222167, pvalue=0.20063485020028013)\n"
     ]
    }
   ],
   "source": [
    "# Find if the given values v1 and v2 are from same distribution:\n",
    "\n",
    "import numpy as np\n",
    "from scipy.stats import ttest_ind\n",
    "\n",
    "v1 = np.random.normal(size = 100)\n",
    "v2 = np.random.normal(size = 100)\n",
    "\n",
    "res = ttest_ind(v1, v2)\n",
    "\n",
    "print(res)"
   ]
  },
  {
   "cell_type": "code",
   "execution_count": 2,
   "id": "235cff20",
   "metadata": {},
   "outputs": [
    {
     "name": "stdout",
     "output_type": "stream",
     "text": [
      "0.20063485020028013\n"
     ]
    }
   ],
   "source": [
    "# If you want to return only the p-value, use the pvalue property:\n",
    "\n",
    "res = ttest_ind(v1, v2).pvalue\n",
    "\n",
    "print(res)"
   ]
  },
  {
   "cell_type": "markdown",
   "id": "44124033",
   "metadata": {},
   "source": [
    "### KS-Test\n",
    "#### KS test is used to check if given values follow a distribution.\n",
    "\n",
    "#### The function takes the value to be tested, and the CDF as two parameters."
   ]
  },
  {
   "cell_type": "code",
   "execution_count": 3,
   "id": "b0a08440",
   "metadata": {},
   "outputs": [
    {
     "name": "stdout",
     "output_type": "stream",
     "text": [
      "KstestResult(statistic=0.08895118454521433, pvalue=0.3847989295833081, statistic_location=1.3980514057326088, statistic_sign=-1)\n"
     ]
    }
   ],
   "source": [
    "# Find if the given value follows the normal distribution\n",
    "\n",
    "import numpy as np\n",
    "from scipy.stats import kstest\n",
    "\n",
    "v = np.random.normal(size=100)\n",
    "\n",
    "res = kstest(v, 'norm')\n",
    "\n",
    "print(res)"
   ]
  },
  {
   "cell_type": "markdown",
   "id": "80084729",
   "metadata": {},
   "source": [
    "### Statistical Description of Data\n",
    "#### In order to see a summary of values in an array, we can use the describe() function.\n",
    "\n",
    "#### It returns the following description:\n",
    "\n",
    "1. number of observations (nobs)\n",
    "2. minimum and maximum values = minmax\n",
    "3. mean\n",
    "4. variance\n",
    "5. skewness\n",
    "6. kurtosis"
   ]
  },
  {
   "cell_type": "code",
   "execution_count": 4,
   "id": "5a90bdb2",
   "metadata": {},
   "outputs": [
    {
     "name": "stdout",
     "output_type": "stream",
     "text": [
      "DescribeResult(nobs=100, minmax=(-2.4599032236719887, 2.5927745854088458), mean=-0.07543655686295295, variance=1.0064076739548515, skewness=0.06915897001479455, kurtosis=-0.10154474855469076)\n"
     ]
    }
   ],
   "source": [
    "# Show statistical description of the values in an array:\n",
    "\n",
    "import numpy as np\n",
    "from scipy.stats import describe\n",
    "\n",
    "v = np.random.normal(size=100)\n",
    "res = describe(v)\n",
    "\n",
    "print(res)"
   ]
  },
  {
   "cell_type": "markdown",
   "id": "ce81baca",
   "metadata": {},
   "source": [
    "### Normality Tests (Skewness and Kurtosis)\n",
    "#### Normality tests are based on the skewness and kurtosis."
   ]
  },
  {
   "cell_type": "code",
   "execution_count": 5,
   "id": "b9eabf7f",
   "metadata": {},
   "outputs": [
    {
     "name": "stdout",
     "output_type": "stream",
     "text": [
      "0.1462119798149036\n",
      "-0.5429960357198422\n"
     ]
    }
   ],
   "source": [
    "# Find skewness and kurtosis of values in an array:\n",
    "\n",
    "import numpy as np\n",
    "from scipy.stats import skew, kurtosis\n",
    "\n",
    "v = np.random.normal(size=100)\n",
    "\n",
    "print(skew(v))\n",
    "print(kurtosis(v))"
   ]
  },
  {
   "cell_type": "code",
   "execution_count": 6,
   "id": "beab6a95",
   "metadata": {},
   "outputs": [
    {
     "name": "stdout",
     "output_type": "stream",
     "text": [
      "NormaltestResult(statistic=2.194223869756615, pvalue=0.33383382662788624)\n"
     ]
    }
   ],
   "source": [
    "# Find if the data comes from a normal distribution:\n",
    "\n",
    "import numpy as np\n",
    "from scipy.stats import normaltest\n",
    "\n",
    "v = np.random.normal(size=100)\n",
    "\n",
    "print(normaltest(v))"
   ]
  }
 ],
 "metadata": {
  "kernelspec": {
   "display_name": "Python 3 (ipykernel)",
   "language": "python",
   "name": "python3"
  },
  "language_info": {
   "codemirror_mode": {
    "name": "ipython",
    "version": 3
   },
   "file_extension": ".py",
   "mimetype": "text/x-python",
   "name": "python",
   "nbconvert_exporter": "python",
   "pygments_lexer": "ipython3",
   "version": "3.10.9"
  }
 },
 "nbformat": 4,
 "nbformat_minor": 5
}
