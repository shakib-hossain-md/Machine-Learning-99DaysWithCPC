{
  "nbformat": 4,
  "nbformat_minor": 0,
  "metadata": {
    "colab": {
      "provenance": []
    },
    "kernelspec": {
      "name": "python3",
      "display_name": "Python 3"
    },
    "language_info": {
      "name": "python"
    }
  },
  "cells": [
    {
      "cell_type": "markdown",
      "source": [
        "## Range\n",
        "\n",
        "---\n",
        "\n"
      ],
      "metadata": {
        "id": "OcVMM9v55Jbw"
      }
    },
    {
      "cell_type": "markdown",
      "source": [
        "### Calculating the Range"
      ],
      "metadata": {
        "id": "mbzVTEJy5VKA"
      }
    },
    {
      "cell_type": "code",
      "execution_count": 1,
      "metadata": {
        "colab": {
          "base_uri": "https://localhost:8080/"
        },
        "id": "h7K0Dzvh4qFq",
        "outputId": "8f4fa584-4052-41c6-ef2f-0993a78a6fe8"
      },
      "outputs": [
        {
          "output_type": "stream",
          "name": "stdout",
          "text": [
            "59\n"
          ]
        }
      ],
      "source": [
        "# With Python use the NumPy library ptp() method to find the range of the values 13, 21, 21, 40, 48, 55, 72:\n",
        "import numpy\n",
        "\n",
        "values = [13,21,21,40,48,55,72]\n",
        "\n",
        "x = numpy.ptp(values)\n",
        "\n",
        "print(x)\n"
      ]
    },
    {
      "cell_type": "markdown",
      "source": [
        "## Quartiles and Percentiles\n",
        "\n",
        "---\n",
        "\n"
      ],
      "metadata": {
        "id": "deE1PycW5qvl"
      }
    },
    {
      "cell_type": "markdown",
      "source": [
        "### Calculating Quartiles"
      ],
      "metadata": {
        "id": "GNk7e0C854C3"
      }
    },
    {
      "cell_type": "code",
      "source": [
        "# With Python use the NumPy library quantile() method to find the quartiles of the values 13, 21, 21, 40, 42, 48, 55, 72:\n",
        "import numpy\n",
        "\n",
        "values = [13,21,21,40,42,48,55,72]\n",
        "\n",
        "x = numpy.quantile(values, [0,0.25,0.5,0.75,1])\n",
        "\n",
        "print(x)"
      ],
      "metadata": {
        "colab": {
          "base_uri": "https://localhost:8080/"
        },
        "id": "FW3Db-U55qdW",
        "outputId": "10d24cf0-d7ab-46dd-b914-0592243d2e1d"
      },
      "execution_count": 2,
      "outputs": [
        {
          "output_type": "stream",
          "name": "stdout",
          "text": [
            "[13.   21.   41.   49.75 72.  ]\n"
          ]
        }
      ]
    },
    {
      "cell_type": "markdown",
      "source": [
        "### Calculating Percentiles"
      ],
      "metadata": {
        "id": "j84KMHRP6FiG"
      }
    },
    {
      "cell_type": "code",
      "source": [
        "# With Python use the NumPy library percentile() method to find the 65th percentile of the values 13, 21, 21, 40, 42, 48, 55, 72:\n",
        "import numpy\n",
        "\n",
        "values = [13,21,21,40,42,48,55,72]\n",
        "\n",
        "x = numpy.percentile(values, 65)\n",
        "\n",
        "print(x)"
      ],
      "metadata": {
        "colab": {
          "base_uri": "https://localhost:8080/"
        },
        "id": "5lcwlw9W6Aqo",
        "outputId": "cc1ff992-5449-4eff-8974-b27dddaacb2a"
      },
      "execution_count": 3,
      "outputs": [
        {
          "output_type": "stream",
          "name": "stdout",
          "text": [
            "45.3\n"
          ]
        }
      ]
    },
    {
      "cell_type": "markdown",
      "source": [
        "## Interquartile Range\n",
        "\n",
        "---\n",
        "\n"
      ],
      "metadata": {
        "id": "zwQ_DNk36VeW"
      }
    },
    {
      "cell_type": "markdown",
      "source": [
        "### Calculating the Interquartile Range"
      ],
      "metadata": {
        "id": "Dt3pnb5Q6oeF"
      }
    },
    {
      "cell_type": "code",
      "source": [
        "# With Python use the SciPy library iqr() method to find the interquartile range of the values 13, 21, 21, 40, 42, 48, 55, 72:\n",
        "from scipy import stats\n",
        "\n",
        "values = [13,21,21,40,42,48,55,72]\n",
        "\n",
        "x = stats.iqr(values)\n",
        "\n",
        "print(x)"
      ],
      "metadata": {
        "colab": {
          "base_uri": "https://localhost:8080/"
        },
        "id": "AeMoU81K6Li9",
        "outputId": "f39ce357-ed7f-4d03-d815-d7477b271256"
      },
      "execution_count": 4,
      "outputs": [
        {
          "output_type": "stream",
          "name": "stdout",
          "text": [
            "28.75\n"
          ]
        }
      ]
    }
  ]
}