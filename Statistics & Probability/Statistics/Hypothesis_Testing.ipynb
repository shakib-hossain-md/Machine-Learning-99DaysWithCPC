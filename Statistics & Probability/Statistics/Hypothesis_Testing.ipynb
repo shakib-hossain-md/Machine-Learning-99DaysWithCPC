{
  "nbformat": 4,
  "nbformat_minor": 0,
  "metadata": {
    "colab": {
      "provenance": []
    },
    "kernelspec": {
      "name": "python3",
      "display_name": "Python 3"
    },
    "language_info": {
      "name": "python"
    }
  },
  "cells": [
    {
      "cell_type": "markdown",
      "source": [
        "## Calculating the Test Statistic\n",
        "\n",
        "---\n",
        "\n"
      ],
      "metadata": {
        "id": "7PAcNs2YNmFC"
      }
    },
    {
      "cell_type": "code",
      "execution_count": 1,
      "metadata": {
        "colab": {
          "base_uri": "https://localhost:8080/"
        },
        "id": "uDglowDWNSDt",
        "outputId": "5a748a0d-595b-4218-d267-b044e7b49f2c"
      },
      "outputs": [
        {
          "output_type": "stream",
          "name": "stdout",
          "text": [
            "0.7905694150420945\n"
          ]
        }
      ],
      "source": [
        "# With Python use the scipy and math libraries to calculate the test statistic for a proportion.\n",
        "import scipy.stats as stats\n",
        "import math\n",
        "\n",
        "x = 10\n",
        "n = 40\n",
        "p = 0.2\n",
        "\n",
        "p_hat = x/n\n",
        "\n",
        "print((p_hat-p)/(math.sqrt((p*(1-p))/(n))))"
      ]
    },
    {
      "cell_type": "markdown",
      "source": [
        "### Concluding"
      ],
      "metadata": {
        "id": "JYL-ois-N-vp"
      }
    },
    {
      "cell_type": "code",
      "source": [
        "# With Python use the Scipy Stats library norm.ppf() function find the Z-value for an = 0.05 in the right tail.\n",
        "print(stats.norm.ppf(1-0.05))"
      ],
      "metadata": {
        "colab": {
          "base_uri": "https://localhost:8080/"
        },
        "id": "03mINh9jN1CF",
        "outputId": "77837e8f-f3d1-4522-e7e8-a27b8c7d02f9"
      },
      "execution_count": 2,
      "outputs": [
        {
          "output_type": "stream",
          "name": "stdout",
          "text": [
            "1.6448536269514722\n"
          ]
        }
      ]
    },
    {
      "cell_type": "markdown",
      "source": [
        "### The P-Value Approach"
      ],
      "metadata": {
        "id": "jAZEl-fPOWuG"
      }
    },
    {
      "cell_type": "code",
      "source": [
        "# With Python use the Scipy Stats library norm.cdf() function find the P-value of a Z-value bigger than 0.791:\n",
        "print(1-stats.norm.cdf(0.791))"
      ],
      "metadata": {
        "colab": {
          "base_uri": "https://localhost:8080/"
        },
        "id": "sLexyElIOO8X",
        "outputId": "1edf8359-65d7-45ce-93f4-efb8d8fe572b"
      },
      "execution_count": 3,
      "outputs": [
        {
          "output_type": "stream",
          "name": "stdout",
          "text": [
            "0.2144719957438721\n"
          ]
        }
      ]
    },
    {
      "cell_type": "markdown",
      "source": [
        "### Calculating a P-Value for a Hypothesis Test"
      ],
      "metadata": {
        "id": "RH1MBXOVOgr3"
      }
    },
    {
      "cell_type": "code",
      "source": [
        "\"\"\"With Python use the scipy and math libraries to calculate the P-value for a right tailed hypothesis test for a proportion.\n",
        "\n",
        "Here, the sample size is 40, the occurrences are 10, and the test is for a proportion bigger than 0.20.\"\"\"\n",
        "\n",
        "x = 10\n",
        "n = 40\n",
        "p = 0.2\n",
        "\n",
        "p_hat = x/n\n",
        "\n",
        "test_stat = (p_hat-p)/(math.sqrt((p*(1-p))/(n)))\n",
        "print(1-stats.norm.cdf(test_stat))"
      ],
      "metadata": {
        "colab": {
          "base_uri": "https://localhost:8080/"
        },
        "id": "R4aZvtN1Oc_Z",
        "outputId": "78482ce4-ef8d-4841-e2e6-4b20e4431479"
      },
      "execution_count": 4,
      "outputs": [
        {
          "output_type": "stream",
          "name": "stdout",
          "text": [
            "0.21459765022017474\n"
          ]
        }
      ]
    },
    {
      "cell_type": "markdown",
      "source": [
        "## Hypothesis Testing a Mean"
      ],
      "metadata": {
        "id": "w8i46mq7Ptae"
      }
    },
    {
      "cell_type": "markdown",
      "source": [
        "### Calculating the Test Statistic"
      ],
      "metadata": {
        "id": "Mnvj9uR0QAn_"
      }
    },
    {
      "cell_type": "code",
      "source": [
        "# With Python use the scipy and math libraries to calculate the test statistic.\n",
        "x_bar = 62.1\n",
        "s = 13.46\n",
        "mu_null = 55\n",
        "n = 30\n",
        "\n",
        "print((x_bar - mu_null)/(s/math.sqrt(n)))\n"
      ],
      "metadata": {
        "colab": {
          "base_uri": "https://localhost:8080/"
        },
        "id": "EYkhgh8RPKyH",
        "outputId": "fe35e252-75ab-4104-fed7-6af1dac1d3a9"
      },
      "execution_count": 5,
      "outputs": [
        {
          "output_type": "stream",
          "name": "stdout",
          "text": [
            "2.8891754519217536\n"
          ]
        }
      ]
    },
    {
      "cell_type": "markdown",
      "source": [
        "### The Critical Value Approach"
      ],
      "metadata": {
        "id": "pij95S_4QPce"
      }
    },
    {
      "cell_type": "code",
      "source": [
        "\"\"\"With Python use the Scipy Stats library t.ppf() function find the T-Value for an\n",
        " = 0.01 at 29 degrees of freedom (df).\"\"\"\n",
        "print(stats.t.ppf(1-0.01, 29))"
      ],
      "metadata": {
        "colab": {
          "base_uri": "https://localhost:8080/"
        },
        "id": "a67xx9V6QPJ-",
        "outputId": "2599f7e2-39cd-46b1-ac85-11dfaca6d379"
      },
      "execution_count": 6,
      "outputs": [
        {
          "output_type": "stream",
          "name": "stdout",
          "text": [
            "2.4620213601503833\n"
          ]
        }
      ]
    },
    {
      "cell_type": "markdown",
      "source": [
        "### The P-Value Approach"
      ],
      "metadata": {
        "id": "CrkctZvxQiJ9"
      }
    },
    {
      "cell_type": "code",
      "source": [
        "\"\"\"With Python use the Scipy Stats library t.cdf() function find the P-value of a T-value bigger than 2.889 at 29 degrees of freedom (df):\"\"\"\n",
        "print(1-stats.t.cdf(2.889, 29))"
      ],
      "metadata": {
        "colab": {
          "base_uri": "https://localhost:8080/"
        },
        "id": "1TJdDd0qQZwa",
        "outputId": "a0da1860-ac94-478f-8c38-d4af3a2dd539"
      },
      "execution_count": 7,
      "outputs": [
        {
          "output_type": "stream",
          "name": "stdout",
          "text": [
            "0.0036198396871088834\n"
          ]
        }
      ]
    },
    {
      "cell_type": "markdown",
      "source": [
        "### Calculating a P-Value for a Hypothesis Test"
      ],
      "metadata": {
        "id": "o_5hb6t5QzpO"
      }
    },
    {
      "cell_type": "code",
      "source": [
        "\"\"\"With Python use the scipy and math libraries to calculate the P-value for a right tailed hypothesis test for a mean.\n",
        "\n",
        "Here, the sample size is 30, the sample mean is 62.1, the sample standard deviation is 13.46, and the test is for a mean bigger than 55.\"\"\"\n",
        "x_bar = 62.1\n",
        "s = 13.46\n",
        "mu_null = 55\n",
        "n = 30\n",
        "\n",
        "test_stat = (x_bar - mu_null)/(s/math.sqrt(n))\n",
        "print(1-stats.t.cdf(test_stat, n-1))"
      ],
      "metadata": {
        "colab": {
          "base_uri": "https://localhost:8080/"
        },
        "id": "3lcgT28gQul4",
        "outputId": "212ef8b6-9979-4c29-ceae-33ebe9217c80"
      },
      "execution_count": 8,
      "outputs": [
        {
          "output_type": "stream",
          "name": "stdout",
          "text": [
            "0.0036182783769481697\n"
          ]
        }
      ]
    }
  ]
}