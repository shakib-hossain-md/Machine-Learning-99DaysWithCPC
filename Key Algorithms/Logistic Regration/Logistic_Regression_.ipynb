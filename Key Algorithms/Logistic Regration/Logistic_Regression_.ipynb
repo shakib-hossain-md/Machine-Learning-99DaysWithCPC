{
  "nbformat": 4,
  "nbformat_minor": 0,
  "metadata": {
    "colab": {
      "provenance": []
    },
    "kernelspec": {
      "name": "python3",
      "display_name": "Python 3"
    },
    "language_info": {
      "name": "python"
    }
  },
  "cells": [
    {
      "cell_type": "code",
      "execution_count": 1,
      "metadata": {
        "colab": {
          "base_uri": "https://localhost:8080/"
        },
        "id": "MRIuo5Ny2blt",
        "outputId": "5793fb67-709a-48d9-e719-e3056fd9397f"
      },
      "outputs": [
        {
          "output_type": "stream",
          "name": "stdout",
          "text": [
            "[0]\n"
          ]
        }
      ],
      "source": [
        "# predict if tumor is cancerous where the size is 3.46mm:\n",
        "\n",
        "import numpy as np\n",
        "from sklearn import linear_model\n",
        "\n",
        "# Reshaped for logistic Regression\n",
        "X = np.array([3.78, 2.44, 2.09, 0.14, 1.72, 1.65, 4.92, 4.37, 4.96, 4.52, 3.69, 5.88]).reshape(-1, 1)\n",
        "y = np.array([0, 0, 0, 0, 0, 0, 1, 1, 1, 1, 1, 1])\n",
        "\n",
        "logR = linear_model.LogisticRegression()\n",
        "logR.fit(X, y)\n",
        "\n",
        "predicted = logR.predict(np.array([3.46]).reshape(-1, 1))\n",
        "print(predicted)"
      ]
    },
    {
      "cell_type": "code",
      "source": [
        "# coefficient\n",
        "\n",
        "import numpy as np\n",
        "from sklearn import linear_model\n",
        "\n",
        "x = np.array([3.78, 2.44, 2.09, 0.14, 1.72, 1.65, 4.92, 4.37, 4.96, 4.52, 3.69, 5.88]).reshape(-1, 1)\n",
        "y = np.array([0, 0, 0, 0, 0, 0, 1, 1, 1, 1, 1, 1])\n",
        "\n",
        "logR = linear_model.LogisticRegression()\n",
        "logR.fit(x, y)\n",
        "\n",
        "log_odds = logR.coef_\n",
        "odds = np.exp(log_odds)\n",
        "\n",
        "print(odds)"
      ],
      "metadata": {
        "colab": {
          "base_uri": "https://localhost:8080/"
        },
        "id": "n3JWpkKv9716",
        "outputId": "29a46ef8-2a4a-4473-8a51-e135fa52e087"
      },
      "execution_count": 3,
      "outputs": [
        {
          "output_type": "stream",
          "name": "stdout",
          "text": [
            "[[4.03557295]]\n"
          ]
        }
      ]
    },
    {
      "cell_type": "code",
      "source": [
        "# probability\n",
        "# Let us now the function with what we have learned to find out the probability that is tumor is cancerous\n",
        "\n",
        "import numpy as np\n",
        "from sklearn import linear_model\n",
        "\n",
        "x = np.array([3.78, 2.44, 2.09, 0.14, 1.72, 1.65, 4.92, 4.37, 4.96, 4.52, 3.69, 5.88]).reshape(-1, 1)\n",
        "y = np.array([0, 0, 0, 0, 0, 0, 1, 1, 1, 1, 1, 1])\n",
        "\n",
        "logR = linear_model.LogisticRegression()\n",
        "logR.fit(x, y)\n",
        "\n",
        "def logistic2prob (logR, x):\n",
        "  log_odds = logR.coef_ * x + logR.intercept_\n",
        "  odds = np.exp(log_odds)\n",
        "  probability = odds / (1 + odds)\n",
        "  return probability\n",
        "\n",
        "print(logistic2prob(logR, x))"
      ],
      "metadata": {
        "colab": {
          "base_uri": "https://localhost:8080/"
        },
        "id": "tn4phVFe-m1b",
        "outputId": "06090882-8f42-4dfc-8777-6c640b0a4570"
      },
      "execution_count": 4,
      "outputs": [
        {
          "output_type": "stream",
          "name": "stdout",
          "text": [
            "[[0.60749168]\n",
            " [0.19267555]\n",
            " [0.12774788]\n",
            " [0.00955056]\n",
            " [0.08037781]\n",
            " [0.0734485 ]\n",
            " [0.88362857]\n",
            " [0.77901203]\n",
            " [0.88924534]\n",
            " [0.81293431]\n",
            " [0.57718238]\n",
            " [0.96664398]]\n"
          ]
        }
      ]
    },
    {
      "cell_type": "code",
      "source": [
        "\"\"\"\n",
        "\n",
        "    3.78 0.61 The probability that a tumor with the size 3.78cm is cancerous is 61%.\n",
        "\n",
        "    2.44 0.19 The probability that a tumor with the size 2.44cm is cancerous is 19%.\n",
        "\n",
        "    2.09 0.13 The probability that a tumor with the size 2.09cm is cancerous is 13%.\n",
        "\n",
        "\n",
        "\"\"\""
      ],
      "metadata": {
        "id": "ekp4L6jyAJC7"
      },
      "execution_count": null,
      "outputs": []
    }
  ]
}