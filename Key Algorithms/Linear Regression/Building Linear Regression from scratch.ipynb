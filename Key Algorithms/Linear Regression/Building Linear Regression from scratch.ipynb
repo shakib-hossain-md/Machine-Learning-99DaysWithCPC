{
 "cells": [
  {
   "cell_type": "markdown",
   "id": "8ffc19d4",
   "metadata": {},
   "source": [
    "#### Linear Regression:\n",
    "#### Y = wX + b\n",
    "Y --> Dependent Variable\n",
    "\n",
    "X --> Independent Variable\n",
    "\n",
    "w --> weight\n",
    "\n",
    "b --> bias"
   ]
  },
  {
   "cell_type": "markdown",
   "id": "ebe909e9",
   "metadata": {},
   "source": [
    "#### Gradient Descent:\n",
    "Gradient Descent is an optimization algorithm used for minimizing the loss function in various machine learning algorithms. It is used for updating the parameters of the leaning model.\n",
    "#### w = w - a * dw\n",
    "#### b = b - a * db"
   ]
  },
  {
   "cell_type": "markdown",
   "id": "db5c1d2e",
   "metadata": {},
   "source": [
    "#### Learning Rate:\n",
    "Learning rate is a tuning parameter in an optimization algorithm that determines the step size at each iteration while moving toward a minimum of a loss function.\n",
    "$$\n",
    "\\text{dw} = \\frac{-2}{n} \\sum_{i=0}^{n} x_i (y_i - y_i^{\\text{pred}})\n",
    "$$\n",
    "\n",
    "$$\n",
    "\\text{db} = \\frac{-2}{n} \\sum_{i=0}^{n} (y_i - y_i^{\\text{pred}})\n",
    "$$"
   ]
  },
  {
   "cell_type": "markdown",
   "id": "8b50b0f5",
   "metadata": {},
   "source": [
    "#### Import libraries"
   ]
  },
  {
   "cell_type": "code",
   "execution_count": 1,
   "id": "6f28550a",
   "metadata": {},
   "outputs": [],
   "source": [
    "import numpy as np\n",
    "import pandas as pd"
   ]
  },
  {
   "cell_type": "markdown",
   "id": "fd3f4181",
   "metadata": {},
   "source": [
    "### Linear Regression"
   ]
  },
  {
   "cell_type": "code",
   "execution_count": 2,
   "id": "cac0dc75",
   "metadata": {},
   "outputs": [],
   "source": [
    "class Linear_Regression():\n",
    "    \n",
    "    # Initializing the parameters (learning rate & number of iterations)\n",
    "    def __init__(self, learning_rate, no_of_iteration):\n",
    "        self.learning_rate = learning_rate\n",
    "        self.no_of_iteration = no_of_iteration\n",
    "    \n",
    "    \n",
    "    def fit(self, X , Y): \n",
    "        \n",
    "        # Number of training examples & number of features\n",
    "        self.m, self.n = X.shape # Number of rows and columns\n",
    "        \n",
    "        # Initializing the weight and bias\n",
    "        self.w = np.zeros(self.n)\n",
    "        self.b = 0\n",
    "        self.X = X\n",
    "        self.Y = Y\n",
    "        \n",
    "        # implementing  Gradient Descent\n",
    "        for i in rage(self.no_of_iteration):\n",
    "            self.update_weight()\n",
    "    \n",
    "    \n",
    "    def update_weights(self):\n",
    "        Y_prediction = self.predict(self.X)\n",
    "\n",
    "        # Calculate gradients\n",
    "        dw = - (2 * (self.X.T).dot(self.Y - Y_prediction)) / self.m\n",
    "        db = - 2 * np.sum(self.Y - Y_prediction) / self.m\n",
    "\n",
    "        # Updating the weights\n",
    "        self.w = self.w - self.learning_rate * dw\n",
    "        self.b = self.b - self.learning_rate * db\n",
    "    \n",
    "    \n",
    "    def predict(self, X):\n",
    "        return X.dot(self.w) + self.b"
   ]
  },
  {
   "cell_type": "code",
   "execution_count": null,
   "id": "bc28a161",
   "metadata": {},
   "outputs": [],
   "source": []
  },
  {
   "cell_type": "code",
   "execution_count": null,
   "id": "e5f5a789",
   "metadata": {},
   "outputs": [],
   "source": []
  }
 ],
 "metadata": {
  "kernelspec": {
   "display_name": "Python 3 (ipykernel)",
   "language": "python",
   "name": "python3"
  },
  "language_info": {
   "codemirror_mode": {
    "name": "ipython",
    "version": 3
   },
   "file_extension": ".py",
   "mimetype": "text/x-python",
   "name": "python",
   "nbconvert_exporter": "python",
   "pygments_lexer": "ipython3",
   "version": "3.10.9"
  }
 },
 "nbformat": 4,
 "nbformat_minor": 5
}
