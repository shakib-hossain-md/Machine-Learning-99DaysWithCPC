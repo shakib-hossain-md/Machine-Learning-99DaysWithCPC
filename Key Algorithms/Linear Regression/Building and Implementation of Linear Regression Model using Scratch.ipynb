{
 "cells": [
  {
   "cell_type": "markdown",
   "id": "1a145be1",
   "metadata": {},
   "source": [
    "### Linear Regression"
   ]
  },
  {
   "cell_type": "markdown",
   "id": "350e7758",
   "metadata": {},
   "source": [
    "#### Y = wX + b\n",
    "Y --> Dependent Variable\n",
    "\n",
    "X --> Indepedent Variable\n",
    "\n",
    "w --> Weight\n",
    "\n",
    "b --> Bias"
   ]
  },
  {
   "cell_type": "markdown",
   "id": "4f3d3115",
   "metadata": {},
   "source": [
    "### Gradient Descent\n",
    "Gradient Descent is an optimization algorithm used for minimizing the loass function in various machine learning algorithms. It is used for updating the parameters of the learning model.\n",
    "\n",
    "w = w - a * dw\n",
    "\n",
    "b = b - a * db"
   ]
  },
  {
   "cell_type": "markdown",
   "id": "eb218ba7",
   "metadata": {},
   "source": [
    "#### Importing the Dependencies"
   ]
  },
  {
   "cell_type": "code",
   "execution_count": 4,
   "id": "002f6322",
   "metadata": {},
   "outputs": [],
   "source": [
    "# Importing numpy library\n",
    "import numpy as np"
   ]
  },
  {
   "cell_type": "markdown",
   "id": "6c1c450b",
   "metadata": {},
   "source": [
    "### Linear Regression"
   ]
  },
  {
   "cell_type": "code",
   "execution_count": 25,
   "id": "a49fe9d0",
   "metadata": {},
   "outputs": [],
   "source": [
    "class Linear_Regression():\n",
    "    def __init__(self, learning_rate, no_of_iterations):\n",
    "        self.learning_rate = learning_rate\n",
    "        self.no_of_iterations = no_of_iterations\n",
    "    \n",
    "    # fit functions to train the model\n",
    "    def fit (self, X, Y):\n",
    "        self.m, self.n = X.shape\n",
    "        \n",
    "        # initiating the weight and bias\n",
    "        self.w = np.zeros(self.n)\n",
    "        self.b = 0\n",
    "        self.X = X\n",
    "        self.Y = Y\n",
    "        \n",
    "        # implementing Gradient Descent for Optimization\n",
    "        for i in range(self.no_of_iterations):\n",
    "            self.update_weight()\n",
    "        \n",
    "        # function to update weights in gradient descent\n",
    "    def update_weight(self):\n",
    "        Y_prediction = self.predict(self.X)\n",
    "            \n",
    "        #calculate gradients\n",
    "        dw = -( 2 * ( self.X.T). dot ( self.Y - Y_prediction ) ) / self.m\n",
    "        db = - 2 * np.sum ( self.Y - Y_prediction) / self.m\n",
    "            \n",
    "        # Updating the weights\n",
    "        self.w = self.w - self.learning_rate * dw\n",
    "        self.b = self.b - self.learning_rate * db\n",
    "            \n",
    "    # Line function for prediction\n",
    "    def predict( self, X):\n",
    "        return X.dot( self.w ) + self.b\n",
    "    "
   ]
  },
  {
   "cell_type": "markdown",
   "id": "ecaaa235",
   "metadata": {},
   "source": [
    "### Using Linear Regression model for Prediction "
   ]
  },
  {
   "cell_type": "code",
   "execution_count": 26,
   "id": "fbb5a47b",
   "metadata": {},
   "outputs": [],
   "source": [
    "# Importing the dependencies\n",
    "\n",
    "import pandas as pd\n",
    "from sklearn.model_selection import train_test_split\n",
    "import matplotlib.pyplot as plt"
   ]
  },
  {
   "cell_type": "markdown",
   "id": "68e4f393",
   "metadata": {},
   "source": [
    "### Data Pre-Processing"
   ]
  },
  {
   "cell_type": "code",
   "execution_count": 27,
   "id": "04eaa430",
   "metadata": {},
   "outputs": [],
   "source": [
    "# loading the data from csv file to a pandas DataFrame\n",
    "salary_data = pd.read_csv('G:\\\\Data Bases For 99DaysWithCPC\\\\Building Machine Learning model\\\\salary_data.csv')"
   ]
  },
  {
   "cell_type": "code",
   "execution_count": 28,
   "id": "f232fe89",
   "metadata": {},
   "outputs": [
    {
     "data": {
      "text/html": [
       "<div>\n",
       "<style scoped>\n",
       "    .dataframe tbody tr th:only-of-type {\n",
       "        vertical-align: middle;\n",
       "    }\n",
       "\n",
       "    .dataframe tbody tr th {\n",
       "        vertical-align: top;\n",
       "    }\n",
       "\n",
       "    .dataframe thead th {\n",
       "        text-align: right;\n",
       "    }\n",
       "</style>\n",
       "<table border=\"1\" class=\"dataframe\">\n",
       "  <thead>\n",
       "    <tr style=\"text-align: right;\">\n",
       "      <th></th>\n",
       "      <th>YearsExperience</th>\n",
       "      <th>Salary</th>\n",
       "    </tr>\n",
       "  </thead>\n",
       "  <tbody>\n",
       "    <tr>\n",
       "      <th>0</th>\n",
       "      <td>1.1</td>\n",
       "      <td>39343</td>\n",
       "    </tr>\n",
       "    <tr>\n",
       "      <th>1</th>\n",
       "      <td>1.3</td>\n",
       "      <td>46205</td>\n",
       "    </tr>\n",
       "    <tr>\n",
       "      <th>2</th>\n",
       "      <td>1.5</td>\n",
       "      <td>37731</td>\n",
       "    </tr>\n",
       "    <tr>\n",
       "      <th>3</th>\n",
       "      <td>2.0</td>\n",
       "      <td>43525</td>\n",
       "    </tr>\n",
       "    <tr>\n",
       "      <th>4</th>\n",
       "      <td>2.2</td>\n",
       "      <td>39891</td>\n",
       "    </tr>\n",
       "  </tbody>\n",
       "</table>\n",
       "</div>"
      ],
      "text/plain": [
       "   YearsExperience  Salary\n",
       "0              1.1   39343\n",
       "1              1.3   46205\n",
       "2              1.5   37731\n",
       "3              2.0   43525\n",
       "4              2.2   39891"
      ]
     },
     "execution_count": 28,
     "metadata": {},
     "output_type": "execute_result"
    }
   ],
   "source": [
    "# printing the first 5 columns of the dataframe\n",
    "salary_data.head()"
   ]
  },
  {
   "cell_type": "code",
   "execution_count": 29,
   "id": "5650e7bf",
   "metadata": {},
   "outputs": [
    {
     "data": {
      "text/html": [
       "<div>\n",
       "<style scoped>\n",
       "    .dataframe tbody tr th:only-of-type {\n",
       "        vertical-align: middle;\n",
       "    }\n",
       "\n",
       "    .dataframe tbody tr th {\n",
       "        vertical-align: top;\n",
       "    }\n",
       "\n",
       "    .dataframe thead th {\n",
       "        text-align: right;\n",
       "    }\n",
       "</style>\n",
       "<table border=\"1\" class=\"dataframe\">\n",
       "  <thead>\n",
       "    <tr style=\"text-align: right;\">\n",
       "      <th></th>\n",
       "      <th>YearsExperience</th>\n",
       "      <th>Salary</th>\n",
       "    </tr>\n",
       "  </thead>\n",
       "  <tbody>\n",
       "    <tr>\n",
       "      <th>25</th>\n",
       "      <td>9.0</td>\n",
       "      <td>105582</td>\n",
       "    </tr>\n",
       "    <tr>\n",
       "      <th>26</th>\n",
       "      <td>9.5</td>\n",
       "      <td>116969</td>\n",
       "    </tr>\n",
       "    <tr>\n",
       "      <th>27</th>\n",
       "      <td>9.6</td>\n",
       "      <td>112635</td>\n",
       "    </tr>\n",
       "    <tr>\n",
       "      <th>28</th>\n",
       "      <td>10.3</td>\n",
       "      <td>122391</td>\n",
       "    </tr>\n",
       "    <tr>\n",
       "      <th>29</th>\n",
       "      <td>10.5</td>\n",
       "      <td>121872</td>\n",
       "    </tr>\n",
       "  </tbody>\n",
       "</table>\n",
       "</div>"
      ],
      "text/plain": [
       "    YearsExperience  Salary\n",
       "25              9.0  105582\n",
       "26              9.5  116969\n",
       "27              9.6  112635\n",
       "28             10.3  122391\n",
       "29             10.5  121872"
      ]
     },
     "execution_count": 29,
     "metadata": {},
     "output_type": "execute_result"
    }
   ],
   "source": [
    "# last 5 rows of the dataframe\n",
    "salary_data.tail()"
   ]
  },
  {
   "cell_type": "code",
   "execution_count": 30,
   "id": "dfe2d05b",
   "metadata": {},
   "outputs": [
    {
     "data": {
      "text/plain": [
       "(30, 2)"
      ]
     },
     "execution_count": 30,
     "metadata": {},
     "output_type": "execute_result"
    }
   ],
   "source": [
    "# number of rows and columns in the dataframe\n",
    "salary_data.shape"
   ]
  },
  {
   "cell_type": "code",
   "execution_count": 31,
   "id": "03bce0f9",
   "metadata": {},
   "outputs": [
    {
     "data": {
      "text/plain": [
       "YearsExperience    0\n",
       "Salary             0\n",
       "dtype: int64"
      ]
     },
     "execution_count": 31,
     "metadata": {},
     "output_type": "execute_result"
    }
   ],
   "source": [
    "# checking for missing values\n",
    "salary_data.isnull().sum()"
   ]
  },
  {
   "cell_type": "markdown",
   "id": "79b3c8ec",
   "metadata": {},
   "source": [
    "### Spliting the feature and target"
   ]
  },
  {
   "cell_type": "code",
   "execution_count": 32,
   "id": "0a32276e",
   "metadata": {},
   "outputs": [],
   "source": [
    "X = salary_data.iloc[:, :-1].values\n",
    "Y = salary_data.iloc[:,1].values"
   ]
  },
  {
   "cell_type": "code",
   "execution_count": 33,
   "id": "2aac6edd",
   "metadata": {},
   "outputs": [
    {
     "data": {
      "text/plain": [
       "array([[ 1.1],\n",
       "       [ 1.3],\n",
       "       [ 1.5],\n",
       "       [ 2. ],\n",
       "       [ 2.2],\n",
       "       [ 2.9],\n",
       "       [ 3. ],\n",
       "       [ 3.2],\n",
       "       [ 3.2],\n",
       "       [ 3.7],\n",
       "       [ 3.9],\n",
       "       [ 4. ],\n",
       "       [ 4. ],\n",
       "       [ 4.1],\n",
       "       [ 4.5],\n",
       "       [ 4.9],\n",
       "       [ 5.1],\n",
       "       [ 5.3],\n",
       "       [ 5.9],\n",
       "       [ 6. ],\n",
       "       [ 6.8],\n",
       "       [ 7.1],\n",
       "       [ 7.9],\n",
       "       [ 8.2],\n",
       "       [ 8.7],\n",
       "       [ 9. ],\n",
       "       [ 9.5],\n",
       "       [ 9.6],\n",
       "       [10.3],\n",
       "       [10.5]])"
      ]
     },
     "execution_count": 33,
     "metadata": {},
     "output_type": "execute_result"
    }
   ],
   "source": [
    "X"
   ]
  },
  {
   "cell_type": "code",
   "execution_count": 34,
   "id": "05f744b8",
   "metadata": {},
   "outputs": [
    {
     "data": {
      "text/plain": [
       "array([ 39343,  46205,  37731,  43525,  39891,  56642,  60150,  54445,\n",
       "        64445,  57189,  63218,  55794,  56957,  57081,  61111,  67938,\n",
       "        66029,  83088,  81363,  93940,  91738,  98273, 101302, 113812,\n",
       "       109431, 105582, 116969, 112635, 122391, 121872], dtype=int64)"
      ]
     },
     "execution_count": 34,
     "metadata": {},
     "output_type": "execute_result"
    }
   ],
   "source": [
    "Y"
   ]
  },
  {
   "cell_type": "markdown",
   "id": "c8baea20",
   "metadata": {},
   "source": [
    "### Spliting the dataset into training and test data"
   ]
  },
  {
   "cell_type": "code",
   "execution_count": 35,
   "id": "367ed526",
   "metadata": {},
   "outputs": [],
   "source": [
    "X_train, X_test, y_train, y_test = train_test_split(X, Y, test_size=0.33, random_state=2)"
   ]
  },
  {
   "cell_type": "markdown",
   "id": "e26ad359",
   "metadata": {},
   "source": [
    "### Training the Linear_Regression model"
   ]
  },
  {
   "cell_type": "code",
   "execution_count": 45,
   "id": "4e9124b3",
   "metadata": {},
   "outputs": [],
   "source": [
    "model = Linear_Regression(learning_rate=0.02, no_of_iterations=10000)"
   ]
  },
  {
   "cell_type": "code",
   "execution_count": 46,
   "id": "b8ee0a84",
   "metadata": {},
   "outputs": [],
   "source": [
    "model.fit(X_train, y_train)"
   ]
  },
  {
   "cell_type": "code",
   "execution_count": 47,
   "id": "7d44a316",
   "metadata": {},
   "outputs": [
    {
     "name": "stdout",
     "output_type": "stream",
     "text": [
      "Weight =  9512.944987627438\n",
      "Bias =  23707.813246575228\n"
     ]
    }
   ],
   "source": [
    "# Printing the parameter values ( weights and bias )\n",
    "print( 'Weight = ', model.w[0])\n",
    "print( 'Bias = ', model.b)"
   ]
  },
  {
   "cell_type": "markdown",
   "id": "52c2435c",
   "metadata": {},
   "source": [
    "### Predict the salary value for test data"
   ]
  },
  {
   "cell_type": "code",
   "execution_count": 48,
   "id": "bbedded2",
   "metadata": {},
   "outputs": [],
   "source": [
    "test_data_prediction = model.predict(X_test)"
   ]
  },
  {
   "cell_type": "code",
   "execution_count": 49,
   "id": "7cff7cd9",
   "metadata": {},
   "outputs": [
    {
     "data": {
      "text/plain": [
       "array([ 36074.64173049,  34172.05273297,  66516.0656909 ,  58905.7097008 ,\n",
       "        91249.72265873,  80785.48317234, 101713.96214512,  52246.64820946,\n",
       "        42733.70322183,  88395.83916244])"
      ]
     },
     "execution_count": 49,
     "metadata": {},
     "output_type": "execute_result"
    }
   ],
   "source": [
    "test_data_prediction"
   ]
  },
  {
   "cell_type": "markdown",
   "id": "6868e191",
   "metadata": {},
   "source": [
    "### Visualizing the predicted Values and actual Values"
   ]
  },
  {
   "cell_type": "code",
   "execution_count": 50,
   "id": "6356c0e3",
   "metadata": {},
   "outputs": [
    {
     "data": {
      "image/png": "[encoded data removed]",
      "text/plain": [
       "<Figure size 640x480 with 1 Axes>"
      ]
     },
     "metadata": {},
     "output_type": "display_data"
    }
   ],
   "source": [
    "plt.scatter(X_test, y_test, color = 'red')\n",
    "plt.plot(X_test, test_data_prediction, color = 'blue')\n",
    "plt.xlabel('Work Experience')\n",
    "plt.ylabel('Salary')\n",
    "plt.title('Salary vs Experience')\n",
    "plt.show()"
   ]
  },
  {
   "cell_type": "code",
   "execution_count": null,
   "id": "d929e3b8",
   "metadata": {},
   "outputs": [],
   "source": []
  }
 ],
 "metadata": {
  "kernelspec": {
   "display_name": "Python 3 (ipykernel)",
   "language": "python",
   "name": "python3"
  },
  "language_info": {
   "codemirror_mode": {
    "name": "ipython",
    "version": 3
   },
   "file_extension": ".py",
   "mimetype": "text/x-python",
   "name": "python",
   "nbconvert_exporter": "python",
   "pygments_lexer": "ipython3",
   "version": "3.10.9"
  }
 },
 "nbformat": 4,
 "nbformat_minor": 5
}
