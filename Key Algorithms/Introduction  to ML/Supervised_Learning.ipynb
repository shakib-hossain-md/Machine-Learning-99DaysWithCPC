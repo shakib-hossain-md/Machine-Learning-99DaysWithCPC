{
  "nbformat": 4,
  "nbformat_minor": 0,
  "metadata": {
    "colab": {
      "provenance": []
    },
    "kernelspec": {
      "name": "python3",
      "display_name": "Python 3"
    },
    "language_info": {
      "name": "python"
    }
  },
  "cells": [
    {
      "cell_type": "markdown",
      "source": [
        "## Supervised learning algorithms are trained using labeled examples, such as an input where the desired output  is knwon.\n",
        "\n",
        "\n",
        "\n",
        "\n",
        "For Example, a segment of text could have a category label,such as:\n",
        "  - Spam vs Legitimate Email\n",
        "  - Positive vs Negative Movie Review\n",
        "\n",
        "## The network receives a set of inputs along with the corresponding correct outputs, and the algorithm learns by comparing its actual output with correct outputs to find errors.\n",
        "\n",
        "### It then modifies the model accodingly.\n",
        "\n",
        "\n",
        "## Supervised learning is commonly used in applications where historical data predicts likely future events."
      ],
      "metadata": {
        "id": "3aAYGPB9YYuP"
      }
    },
    {
      "cell_type": "markdown",
      "source": [
        "# Supervised Learning\n",
        "\n",
        "## * Data is often split into 3 sets\n",
        "  Training Data\n",
        "      -Used to train model parameters\n",
        "  \n",
        "  Validation Data\n",
        "      -Used to determine what model hyperparameters to adjust.\n",
        "  \n",
        "  Test Data\n",
        "      -Used to get some final performance metric.\n",
        "\n",
        "After we see the results on the final test set we don't get to go back and adjust any model parameters.\n",
        "\n",
        "This final measure is what we label the true performance of the model to be."
      ],
      "metadata": {
        "id": "PogYBbBUfm0k"
      }
    }
  ]
}