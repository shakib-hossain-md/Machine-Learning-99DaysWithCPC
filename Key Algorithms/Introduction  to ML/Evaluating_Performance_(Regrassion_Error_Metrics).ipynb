{
  "nbformat": 4,
  "nbformat_minor": 0,
  "metadata": {
    "colab": {
      "provenance": []
    },
    "kernelspec": {
      "name": "python3",
      "display_name": "Python 3"
    },
    "language_info": {
      "name": "python"
    }
  },
  "cells": [
    {
      "cell_type": "markdown",
      "source": [
        "# Evaluation Regression\n",
        "\n",
        " Regression is a task when a model attempts to predict continuous values(unlike categorical values,which is classification)\n",
        "\n",
        "You may have heard of some evaluation metrics like accuracy or recall.\n",
        "\n",
        "These sort of metrics aren't useful for regression problems, we need metrics designed for continuous values.\n",
        "\n",
        "For example, attempting to predict the price of a house given its features is a regression task.\n",
        "\n",
        "Attempting to predict the country a house is given its features would be a classification task.\n",
        "\n",
        "## Some of the most common evaluation metrics for regression are:\n",
        "\n",
        "1. Mean Absolute Error\n",
        "\n",
        "2. Mean Squared Error\n",
        "\n",
        "3. Root Mean Square Error\n",
        "\n",
        "\n",
        "\n",
        "## Mean Absolute Error(MAE)\n",
        "1. This is the mean of the absolute value of errors.\n",
        "2. Easy to understand\n",
        "\n",
        "\n",
        "\n",
        "## Mean Squared Error(MSE)\n",
        "\n",
        "1. This is the mean of the squared errors\n",
        "2. Larger errors are noted more than with MAE, making MSE more popular.\n",
        "\n",
        "\n",
        "## Root Mean Square Error(RMSE)\n",
        "1.This is the root of the mean of the squared errors.\n",
        "2. Most popular(has same units as y)"
      ],
      "metadata": {
        "id": "9woIoCZi3cwC"
      }
    },
    {
      "cell_type": "markdown",
      "source": [
        "Compare your error metric to the average value of the label in  your data set to try to get an intuition of its of overall performance.\n",
        "\n",
        "Domain knowledge also plays an important role here."
      ],
      "metadata": {
        "id": "bXfo1g1kCFSK"
      }
    },
    {
      "cell_type": "code",
      "execution_count": null,
      "metadata": {
        "id": "7T_PbUJh3LWQ"
      },
      "outputs": [],
      "source": []
    }
  ]
}