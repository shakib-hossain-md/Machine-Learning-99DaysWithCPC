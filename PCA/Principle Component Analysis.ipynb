{
 "cells": [
  {
   "cell_type": "markdown",
   "id": "c09b7592-8465-4663-ad22-1244602a60a8",
   "metadata": {},
   "source": [
    "## Background "
   ]
  },
  {
   "cell_type": "markdown",
   "id": "4c22a256-80c6-4ff0-a25f-9acb1bf55446",
   "metadata": {},
   "source": [
    "It is an unsupervised statistical technique to interrelations among set of variables in order to identify the underlying structure of thosee variables."
   ]
  },
  {
   "cell_type": "markdown",
   "id": "a417eadf-a3c0-4008-87c4-6be28bd37a22",
   "metadata": {},
   "source": [
    "#### It is also known as a general factor analysis."
   ]
  },
  {
   "cell_type": "markdown",
   "id": "1a3df09e-e446-4df1-bff0-197c80d6c55d",
   "metadata": {},
   "source": [
    "Where regression determines a line of best fit to a data set, factor analysis determines several arthogonal lines of best fit to the data set."
   ]
  },
  {
   "cell_type": "markdown",
   "id": "1502bf09-0f7c-43dd-b3ba-1cc6dbeb6fed",
   "metadata": {},
   "source": [
    "Orthogonal means \"at right angles\".\n",
    "> Actually the lines are perpendicular to each othjer in n-dimensional space."
   ]
  },
  {
   "cell_type": "markdown",
   "id": "46db155f-90d2-4f30-8f84-7a3ee9853fa2",
   "metadata": {},
   "source": [
    "n-Dimensional Space is the variable sample space.\n",
    "> There are as many dimensions as there are variables, so in a data set with 4 variables the sample space is 4-dimensional."
   ]
  },
  {
   "cell_type": "markdown",
   "id": "d3a7acc8-15a8-4ae2-bae3-efcee77c83ab",
   "metadata": {},
   "source": [
    "#### Components are a linear transformation that choose a variable system for the greatest variancee of the data set comes to lie on the first axis.\n",
    "#### The second greatest varience on the second axis, and so on....."
   ]
  },
  {
   "cell_type": "markdown",
   "id": "fd0ef42e-f335-491e-8bb7-1e1025424e2e",
   "metadata": {},
   "source": [
    "This process allows us to reduce the number of variables used in an analysis.\n",
    "###### Note that components are uncorrelated, since in the sample space they are orthgonal to each other."
   ]
  },
  {
   "cell_type": "markdown",
   "id": "a6bd755e-298f-48e5-a03a-132e2bf7f1c7",
   "metadata": {},
   "source": [
    "If we use this technique on a data set with a large number of variables, we can compress the amount of explained variation to just a few components."
   ]
  },
  {
   "cell_type": "markdown",
   "id": "34e88913-3f4b-48a1-8b86-b7ad2061ae77",
   "metadata": {},
   "source": [
    "The most challengingh part of PCA is interpreting the components."
   ]
  },
  {
   "cell_type": "code",
   "execution_count": null,
   "id": "2862dbfe-c18c-413c-aa37-913fbe23e8e2",
   "metadata": {},
   "outputs": [],
   "source": []
  }
 ],
 "metadata": {
  "kernelspec": {
   "display_name": "Python 3 (ipykernel)",
   "language": "python",
   "name": "python3"
  },
  "language_info": {
   "codemirror_mode": {
    "name": "ipython",
    "version": 3
   },
   "file_extension": ".py",
   "mimetype": "text/x-python",
   "name": "python",
   "nbconvert_exporter": "python",
   "pygments_lexer": "ipython3",
   "version": "3.12.4"
  }
 },
 "nbformat": 4,
 "nbformat_minor": 5
}
